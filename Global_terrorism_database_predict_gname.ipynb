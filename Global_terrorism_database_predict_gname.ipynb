{
 "cells": [
  {
   "cell_type": "code",
   "execution_count": 1,
   "metadata": {},
   "outputs": [
    {
     "name": "stderr",
     "output_type": "stream",
     "text": [
      "C:\\Users\\kumar.vishwesh\\AppData\\Local\\Continuum\\anaconda3\\lib\\site-packages\\h5py\\__init__.py:36: FutureWarning: Conversion of the second argument of issubdtype from `float` to `np.floating` is deprecated. In future, it will be treated as `np.float64 == np.dtype(float).type`.\n",
      "  from ._conv import register_converters as _register_converters\n",
      "Using TensorFlow backend.\n"
     ]
    }
   ],
   "source": [
    "#import libraries\n",
    "import pandas as pd\n",
    "import numpy as np\n",
    "from scipy.stats import norm\n",
    "from scipy import stats\n",
    "import warnings\n",
    "import keras\n",
    "from keras.models import Sequential\n",
    "from keras.layers import Dense"
   ]
  },
  {
   "cell_type": "code",
   "execution_count": 2,
   "metadata": {},
   "outputs": [],
   "source": [
    "df= pd.read_excel(r'C:\\Users\\kumar.vishwesh\\Music\\KV\\KV plan of attack\\project\\dataset.xlsx')"
   ]
  },
  {
   "cell_type": "code",
   "execution_count": 3,
   "metadata": {},
   "outputs": [
    {
     "data": {
      "text/plain": [
       "3537"
      ]
     },
     "execution_count": 3,
     "metadata": {},
     "output_type": "execute_result"
    }
   ],
   "source": [
    "df['gname'].nunique()"
   ]
  },
  {
   "cell_type": "code",
   "execution_count": 4,
   "metadata": {},
   "outputs": [
    {
     "data": {
      "text/plain": [
       "Unknown                                             82782\n",
       "Taliban                                              7478\n",
       "Islamic State of Iraq and the Levant (ISIL)          5613\n",
       "Shining Path (SL)                                    4555\n",
       "Farabundo Marti National Liberation Front (FMLN)     3351\n",
       "Al-Shabaab                                           3288\n",
       "New People's Army (NPA)                              2772\n",
       "Irish Republican Army (IRA)                          2671\n",
       "Revolutionary Armed Forces of Colombia (FARC)        2487\n",
       "Boko Haram                                           2418\n",
       "Kurdistan Workers' Party (PKK)                       2310\n",
       "Basque Fatherland and Freedom (ETA)                  2024\n",
       "Communist Party of India - Maoist (CPI-Maoist)       1878\n",
       "Maoists                                              1630\n",
       "Liberation Tigers of Tamil Eelam (LTTE)              1606\n",
       "National Liberation Army of Colombia (ELN)           1561\n",
       "Tehrik-i-Taliban Pakistan (TTP)                      1351\n",
       "Palestinians                                         1125\n",
       "Houthi extremists (Ansar Allah)                      1062\n",
       "Al-Qaida in the Arabian Peninsula (AQAP)             1020\n",
       "Nicaraguan Democratic Force (FDN)                     895\n",
       "Manuel Rodriguez Patriotic Front (FPMR)               830\n",
       "Sikh Extremists                                       716\n",
       "Corsican National Liberation Front (FLNC)             639\n",
       "Al-Qaida in Iraq                                      638\n",
       "Muslim extremists                                     632\n",
       "Donetsk People's Republic                             624\n",
       "African National Congress (South Africa)              607\n",
       "Separatists                                           589\n",
       "Tupac Amaru Revolutionary Movement (MRTA)             557\n",
       "                                                    ...  \n",
       "Central University students                             1\n",
       "Cleansing Hand (La Mano Que Limpia)                     1\n",
       "Naga People's Council (NPC)                             1\n",
       "Misanthropic Division                                   1\n",
       "Islamic Tendency                                        1\n",
       "Aghwar \"Fire War\" Group                                 1\n",
       "Palestinian Activists                                   1\n",
       "Hasmoneans (Jewish Settler Group)                       1\n",
       "Martyrs Halim Group                                     1\n",
       "People's Information Group                              1\n",
       "Quit Kashmir Movement (QKM)                             1\n",
       "Socialist Revolutionary Brigade                         1\n",
       "Powers of the Revolutionary Arc                         1\n",
       "Malitia-Pro Govt                                        1\n",
       "Kurdish Independence Group (name unk)                   1\n",
       "Islamic Renewal Movement                                1\n",
       "Organization for the oppresed in Egypt's Prisons        1\n",
       "Supreme Islamic Council                                 1\n",
       "Random Anarchists                                       1\n",
       "Agudat Israel Party                                     1\n",
       "Palestinian Liberation Command                          1\n",
       "Fight Against Authority                                 1\n",
       "Mullah Dadullah Front                                   1\n",
       "Grupo Libertad                                          1\n",
       "Georgian Sabotage Group                                 1\n",
       "Aisha Umm-al Mouemeneen (Brigades of Aisha)             1\n",
       "Chondaehyop (Radical Student Coalition)                 1\n",
       "Anya-Nya II Militia                                     1\n",
       "Ariska Brodraskapet (Aryan Brotherhood)                 1\n",
       "New Revolutionary Alternative (NRA)                     1\n",
       "Name: gname, Length: 3537, dtype: int64"
      ]
     },
     "execution_count": 4,
     "metadata": {},
     "output_type": "execute_result"
    }
   ],
   "source": [
    "df['gname'].value_counts()"
   ]
  },
  {
   "cell_type": "code",
   "execution_count": 5,
   "metadata": {},
   "outputs": [
    {
     "data": {
      "text/plain": [
       "1816.91"
      ]
     },
     "execution_count": 5,
     "metadata": {},
     "output_type": "execute_result"
    }
   ],
   "source": [
    "threshold = 0.01 * len(df)\n",
    "threshold"
   ]
  },
  {
   "cell_type": "code",
   "execution_count": 6,
   "metadata": {},
   "outputs": [],
   "source": [
    "value_counts = df['gname'].value_counts()\n",
    "to_remove = value_counts[value_counts <= threshold].index\n",
    "df['gname'].replace(to_remove, 'rare', inplace=True)"
   ]
  },
  {
   "cell_type": "code",
   "execution_count": 7,
   "metadata": {},
   "outputs": [
    {
     "data": {
      "text/plain": [
       "Unknown                                             82782\n",
       "rare                                                58064\n",
       "Taliban                                              7478\n",
       "Islamic State of Iraq and the Levant (ISIL)          5613\n",
       "Shining Path (SL)                                    4555\n",
       "Farabundo Marti National Liberation Front (FMLN)     3351\n",
       "Al-Shabaab                                           3288\n",
       "New People's Army (NPA)                              2772\n",
       "Irish Republican Army (IRA)                          2671\n",
       "Revolutionary Armed Forces of Colombia (FARC)        2487\n",
       "Boko Haram                                           2418\n",
       "Kurdistan Workers' Party (PKK)                       2310\n",
       "Basque Fatherland and Freedom (ETA)                  2024\n",
       "Communist Party of India - Maoist (CPI-Maoist)       1878\n",
       "Name: gname, dtype: int64"
      ]
     },
     "execution_count": 7,
     "metadata": {},
     "output_type": "execute_result"
    }
   ],
   "source": [
    "df['gname'].value_counts()"
   ]
  },
  {
   "cell_type": "code",
   "execution_count": 8,
   "metadata": {},
   "outputs": [
    {
     "data": {
      "text/plain": [
       "[]"
      ]
     },
     "execution_count": 8,
     "metadata": {},
     "output_type": "execute_result"
    }
   ],
   "source": [
    "# list of columns with only one unique values including NAN and dropping them from df\n",
    "l=[]\n",
    "for c in df.columns:\n",
    "    if df[c].nunique(dropna=False)==1 :\n",
    "        l.append(c)\n",
    "l"
   ]
  },
  {
   "cell_type": "code",
   "execution_count": 9,
   "metadata": {},
   "outputs": [
    {
     "data": {
      "text/plain": [
       "(181691, 135)"
      ]
     },
     "execution_count": 9,
     "metadata": {},
     "output_type": "execute_result"
    }
   ],
   "source": [
    "df.drop_duplicates()\n",
    "df.shape"
   ]
  },
  {
   "cell_type": "code",
   "execution_count": 10,
   "metadata": {},
   "outputs": [
    {
     "data": {
      "text/plain": [
       "eventid               0.000000\n",
       "iyear                 0.000000\n",
       "imonth                0.000000\n",
       "iday                  0.000000\n",
       "approxdate            0.949150\n",
       "extended              0.000000\n",
       "resolution            0.987781\n",
       "country               0.000000\n",
       "country_txt           0.000000\n",
       "region                0.000000\n",
       "region_txt            0.000000\n",
       "provstate             0.002317\n",
       "city                  0.002389\n",
       "latitude              0.025076\n",
       "longitude             0.025081\n",
       "specificity           0.000033\n",
       "vicinity              0.000000\n",
       "location              0.694564\n",
       "summary               0.363964\n",
       "crit1                 0.000000\n",
       "crit2                 0.000000\n",
       "crit3                 0.000000\n",
       "doubtterr             0.000006\n",
       "alternative           0.840328\n",
       "alternative_txt       0.840328\n",
       "multiple              0.000006\n",
       "success               0.000000\n",
       "suicide               0.000000\n",
       "attacktype1           0.000000\n",
       "attacktype1_txt       0.000000\n",
       "                        ...   \n",
       "propextent            0.647396\n",
       "propextent_txt        0.647396\n",
       "propvalue             0.785410\n",
       "propcomment           0.681002\n",
       "ishostkid             0.000980\n",
       "nhostkid              0.925302\n",
       "nhostkidus            0.925604\n",
       "nhours                0.977638\n",
       "ndays                 0.955287\n",
       "divert                0.998217\n",
       "kidhijcountry         0.981810\n",
       "ransom                0.574107\n",
       "ransomamt             0.992570\n",
       "ransomamtus           0.996901\n",
       "ransompaid            0.995740\n",
       "ransompaidus          0.996962\n",
       "ransomnote            0.997171\n",
       "hostkidoutcome        0.939507\n",
       "hostkidoutcome_txt    0.939507\n",
       "nreleased             0.942760\n",
       "addnotes              0.844302\n",
       "scite1                0.364305\n",
       "scite2                0.576572\n",
       "scite3                0.760494\n",
       "dbsource              0.000000\n",
       "INT_LOG               0.000000\n",
       "INT_IDEO              0.000000\n",
       "INT_MISC              0.000000\n",
       "INT_ANY               0.000000\n",
       "related               0.862195\n",
       "Length: 135, dtype: float64"
      ]
     },
     "execution_count": 10,
     "metadata": {},
     "output_type": "execute_result"
    }
   ],
   "source": [
    "df.isnull().mean()"
   ]
  },
  {
   "cell_type": "code",
   "execution_count": 11,
   "metadata": {},
   "outputs": [],
   "source": [
    "df=df[df.columns[df.isnull().mean() < 0.8]]"
   ]
  },
  {
   "cell_type": "code",
   "execution_count": 12,
   "metadata": {},
   "outputs": [
    {
     "data": {
      "text/plain": [
       "(181691, 67)"
      ]
     },
     "execution_count": 12,
     "metadata": {},
     "output_type": "execute_result"
    }
   ],
   "source": [
    "df.shape"
   ]
  },
  {
   "cell_type": "code",
   "execution_count": 13,
   "metadata": {},
   "outputs": [
    {
     "data": {
      "text/plain": [
       "['eventid',\n",
       " 'iyear',\n",
       " 'imonth',\n",
       " 'iday',\n",
       " 'extended',\n",
       " 'country',\n",
       " 'country_txt',\n",
       " 'region',\n",
       " 'region_txt',\n",
       " 'provstate',\n",
       " 'city',\n",
       " 'latitude',\n",
       " 'longitude',\n",
       " 'specificity',\n",
       " 'vicinity',\n",
       " 'location',\n",
       " 'summary',\n",
       " 'crit1',\n",
       " 'crit2',\n",
       " 'crit3',\n",
       " 'doubtterr',\n",
       " 'multiple',\n",
       " 'success',\n",
       " 'suicide',\n",
       " 'attacktype1',\n",
       " 'attacktype1_txt',\n",
       " 'targtype1',\n",
       " 'targtype1_txt',\n",
       " 'targsubtype1',\n",
       " 'targsubtype1_txt',\n",
       " 'corp1',\n",
       " 'target1',\n",
       " 'natlty1',\n",
       " 'natlty1_txt',\n",
       " 'gname',\n",
       " 'motive',\n",
       " 'guncertain1',\n",
       " 'individual',\n",
       " 'nperps',\n",
       " 'nperpcap',\n",
       " 'claimed',\n",
       " 'weaptype1',\n",
       " 'weaptype1_txt',\n",
       " 'weapsubtype1',\n",
       " 'weapsubtype1_txt',\n",
       " 'weapdetail',\n",
       " 'nkill',\n",
       " 'nkillus',\n",
       " 'nkillter',\n",
       " 'nwound',\n",
       " 'nwoundus',\n",
       " 'nwoundte',\n",
       " 'property',\n",
       " 'propextent',\n",
       " 'propextent_txt',\n",
       " 'propvalue',\n",
       " 'propcomment',\n",
       " 'ishostkid',\n",
       " 'ransom',\n",
       " 'scite1',\n",
       " 'scite2',\n",
       " 'scite3',\n",
       " 'dbsource',\n",
       " 'INT_LOG',\n",
       " 'INT_IDEO',\n",
       " 'INT_MISC',\n",
       " 'INT_ANY']"
      ]
     },
     "execution_count": 13,
     "metadata": {},
     "output_type": "execute_result"
    }
   ],
   "source": [
    "l=df.columns.tolist()\n",
    "l"
   ]
  },
  {
   "cell_type": "code",
   "execution_count": 14,
   "metadata": {},
   "outputs": [],
   "source": [
    "l_rem=['eventid','country','region','attacktype1','targtype1','targsubtype1','natlty1','weaptype1','weapsubtype1','propextent','latitude','longitude','summary','scite1','scite2','scite3','motive','propcomment','iyear']"
   ]
  },
  {
   "cell_type": "code",
   "execution_count": 15,
   "metadata": {},
   "outputs": [
    {
     "data": {
      "text/plain": [
       "['multiple',\n",
       " 'nwoundus',\n",
       " 'corp1',\n",
       " 'nperpcap',\n",
       " 'target1',\n",
       " 'nkillter',\n",
       " 'natlty1_txt',\n",
       " 'INT_LOG',\n",
       " 'crit2',\n",
       " 'attacktype1_txt',\n",
       " 'dbsource',\n",
       " 'gname',\n",
       " 'doubtterr',\n",
       " 'INT_IDEO',\n",
       " 'ishostkid',\n",
       " 'crit1',\n",
       " 'nperps',\n",
       " 'iday',\n",
       " 'crit3',\n",
       " 'success',\n",
       " 'weapsubtype1_txt',\n",
       " 'extended',\n",
       " 'nkill',\n",
       " 'imonth',\n",
       " 'region_txt',\n",
       " 'guncertain1',\n",
       " 'targsubtype1_txt',\n",
       " 'claimed',\n",
       " 'provstate',\n",
       " 'targtype1_txt',\n",
       " 'weaptype1_txt',\n",
       " 'nkillus',\n",
       " 'nwoundte',\n",
       " 'propvalue',\n",
       " 'INT_ANY',\n",
       " 'location',\n",
       " 'individual',\n",
       " 'weapdetail',\n",
       " 'vicinity',\n",
       " 'country_txt',\n",
       " 'nwound',\n",
       " 'INT_MISC',\n",
       " 'propextent_txt',\n",
       " 'ransom',\n",
       " 'city',\n",
       " 'specificity',\n",
       " 'property',\n",
       " 'suicide']"
      ]
     },
     "execution_count": 15,
     "metadata": {},
     "output_type": "execute_result"
    }
   ],
   "source": [
    "l= list(set(l).difference(set(l_rem)))\n",
    "l"
   ]
  },
  {
   "cell_type": "code",
   "execution_count": 16,
   "metadata": {},
   "outputs": [],
   "source": [
    "df=df[l]"
   ]
  },
  {
   "cell_type": "code",
   "execution_count": 17,
   "metadata": {},
   "outputs": [
    {
     "data": {
      "text/html": [
       "<div>\n",
       "<style scoped>\n",
       "    .dataframe tbody tr th:only-of-type {\n",
       "        vertical-align: middle;\n",
       "    }\n",
       "\n",
       "    .dataframe tbody tr th {\n",
       "        vertical-align: top;\n",
       "    }\n",
       "\n",
       "    .dataframe thead th {\n",
       "        text-align: right;\n",
       "    }\n",
       "</style>\n",
       "<table border=\"1\" class=\"dataframe\">\n",
       "  <thead>\n",
       "    <tr style=\"text-align: right;\">\n",
       "      <th></th>\n",
       "      <th>multiple</th>\n",
       "      <th>nwoundus</th>\n",
       "      <th>corp1</th>\n",
       "      <th>nperpcap</th>\n",
       "      <th>target1</th>\n",
       "      <th>nkillter</th>\n",
       "      <th>natlty1_txt</th>\n",
       "      <th>INT_LOG</th>\n",
       "      <th>crit2</th>\n",
       "      <th>attacktype1_txt</th>\n",
       "      <th>...</th>\n",
       "      <th>vicinity</th>\n",
       "      <th>country_txt</th>\n",
       "      <th>nwound</th>\n",
       "      <th>INT_MISC</th>\n",
       "      <th>propextent_txt</th>\n",
       "      <th>ransom</th>\n",
       "      <th>city</th>\n",
       "      <th>specificity</th>\n",
       "      <th>property</th>\n",
       "      <th>suicide</th>\n",
       "    </tr>\n",
       "  </thead>\n",
       "  <tbody>\n",
       "    <tr>\n",
       "      <th>0</th>\n",
       "      <td>0.0</td>\n",
       "      <td>NaN</td>\n",
       "      <td>NaN</td>\n",
       "      <td>NaN</td>\n",
       "      <td>Julio Guzman</td>\n",
       "      <td>NaN</td>\n",
       "      <td>Dominican Republic</td>\n",
       "      <td>0</td>\n",
       "      <td>1</td>\n",
       "      <td>Assassination</td>\n",
       "      <td>...</td>\n",
       "      <td>0</td>\n",
       "      <td>Dominican Republic</td>\n",
       "      <td>0.0</td>\n",
       "      <td>0</td>\n",
       "      <td>NaN</td>\n",
       "      <td>0.0</td>\n",
       "      <td>Santo Domingo</td>\n",
       "      <td>1.0</td>\n",
       "      <td>0</td>\n",
       "      <td>0</td>\n",
       "    </tr>\n",
       "    <tr>\n",
       "      <th>1</th>\n",
       "      <td>0.0</td>\n",
       "      <td>NaN</td>\n",
       "      <td>Belgian Ambassador Daughter</td>\n",
       "      <td>NaN</td>\n",
       "      <td>Nadine Chaval, daughter</td>\n",
       "      <td>NaN</td>\n",
       "      <td>Belgium</td>\n",
       "      <td>0</td>\n",
       "      <td>1</td>\n",
       "      <td>Hostage Taking (Kidnapping)</td>\n",
       "      <td>...</td>\n",
       "      <td>0</td>\n",
       "      <td>Mexico</td>\n",
       "      <td>0.0</td>\n",
       "      <td>1</td>\n",
       "      <td>NaN</td>\n",
       "      <td>1.0</td>\n",
       "      <td>Mexico city</td>\n",
       "      <td>1.0</td>\n",
       "      <td>0</td>\n",
       "      <td>0</td>\n",
       "    </tr>\n",
       "    <tr>\n",
       "      <th>2</th>\n",
       "      <td>0.0</td>\n",
       "      <td>NaN</td>\n",
       "      <td>Voice of America</td>\n",
       "      <td>NaN</td>\n",
       "      <td>Employee</td>\n",
       "      <td>NaN</td>\n",
       "      <td>United States</td>\n",
       "      <td>-9</td>\n",
       "      <td>1</td>\n",
       "      <td>Assassination</td>\n",
       "      <td>...</td>\n",
       "      <td>0</td>\n",
       "      <td>Philippines</td>\n",
       "      <td>0.0</td>\n",
       "      <td>1</td>\n",
       "      <td>NaN</td>\n",
       "      <td>0.0</td>\n",
       "      <td>Unknown</td>\n",
       "      <td>4.0</td>\n",
       "      <td>0</td>\n",
       "      <td>0</td>\n",
       "    </tr>\n",
       "    <tr>\n",
       "      <th>3</th>\n",
       "      <td>0.0</td>\n",
       "      <td>NaN</td>\n",
       "      <td>NaN</td>\n",
       "      <td>NaN</td>\n",
       "      <td>U.S. Embassy</td>\n",
       "      <td>NaN</td>\n",
       "      <td>United States</td>\n",
       "      <td>-9</td>\n",
       "      <td>1</td>\n",
       "      <td>Bombing/Explosion</td>\n",
       "      <td>...</td>\n",
       "      <td>0</td>\n",
       "      <td>Greece</td>\n",
       "      <td>NaN</td>\n",
       "      <td>1</td>\n",
       "      <td>NaN</td>\n",
       "      <td>0.0</td>\n",
       "      <td>Athens</td>\n",
       "      <td>1.0</td>\n",
       "      <td>1</td>\n",
       "      <td>0</td>\n",
       "    </tr>\n",
       "    <tr>\n",
       "      <th>4</th>\n",
       "      <td>0.0</td>\n",
       "      <td>NaN</td>\n",
       "      <td>NaN</td>\n",
       "      <td>NaN</td>\n",
       "      <td>U.S. Consulate</td>\n",
       "      <td>NaN</td>\n",
       "      <td>United States</td>\n",
       "      <td>-9</td>\n",
       "      <td>1</td>\n",
       "      <td>Facility/Infrastructure Attack</td>\n",
       "      <td>...</td>\n",
       "      <td>0</td>\n",
       "      <td>Japan</td>\n",
       "      <td>NaN</td>\n",
       "      <td>1</td>\n",
       "      <td>NaN</td>\n",
       "      <td>0.0</td>\n",
       "      <td>Fukouka</td>\n",
       "      <td>1.0</td>\n",
       "      <td>1</td>\n",
       "      <td>0</td>\n",
       "    </tr>\n",
       "  </tbody>\n",
       "</table>\n",
       "<p>5 rows × 48 columns</p>\n",
       "</div>"
      ],
      "text/plain": [
       "   multiple  nwoundus                        corp1  nperpcap  \\\n",
       "0       0.0       NaN                          NaN       NaN   \n",
       "1       0.0       NaN  Belgian Ambassador Daughter       NaN   \n",
       "2       0.0       NaN             Voice of America       NaN   \n",
       "3       0.0       NaN                          NaN       NaN   \n",
       "4       0.0       NaN                          NaN       NaN   \n",
       "\n",
       "                   target1  nkillter         natlty1_txt  INT_LOG  crit2  \\\n",
       "0             Julio Guzman       NaN  Dominican Republic        0      1   \n",
       "1  Nadine Chaval, daughter       NaN             Belgium        0      1   \n",
       "2                 Employee       NaN       United States       -9      1   \n",
       "3             U.S. Embassy       NaN       United States       -9      1   \n",
       "4           U.S. Consulate       NaN       United States       -9      1   \n",
       "\n",
       "                  attacktype1_txt   ...    vicinity         country_txt  \\\n",
       "0                   Assassination   ...           0  Dominican Republic   \n",
       "1     Hostage Taking (Kidnapping)   ...           0              Mexico   \n",
       "2                   Assassination   ...           0         Philippines   \n",
       "3               Bombing/Explosion   ...           0              Greece   \n",
       "4  Facility/Infrastructure Attack   ...           0               Japan   \n",
       "\n",
       "   nwound  INT_MISC  propextent_txt  ransom           city  specificity  \\\n",
       "0     0.0         0             NaN     0.0  Santo Domingo          1.0   \n",
       "1     0.0         1             NaN     1.0    Mexico city          1.0   \n",
       "2     0.0         1             NaN     0.0        Unknown          4.0   \n",
       "3     NaN         1             NaN     0.0         Athens          1.0   \n",
       "4     NaN         1             NaN     0.0        Fukouka          1.0   \n",
       "\n",
       "   property  suicide  \n",
       "0         0        0  \n",
       "1         0        0  \n",
       "2         0        0  \n",
       "3         1        0  \n",
       "4         1        0  \n",
       "\n",
       "[5 rows x 48 columns]"
      ]
     },
     "execution_count": 17,
     "metadata": {},
     "output_type": "execute_result"
    }
   ],
   "source": [
    "df.head()"
   ]
  },
  {
   "cell_type": "code",
   "execution_count": 18,
   "metadata": {},
   "outputs": [],
   "source": [
    "label_df=df['gname']"
   ]
  },
  {
   "cell_type": "code",
   "execution_count": 19,
   "metadata": {},
   "outputs": [
    {
     "data": {
      "text/plain": [
       "0                                                   rare\n",
       "1                                                   rare\n",
       "2                                                Unknown\n",
       "3                                                Unknown\n",
       "4                                                Unknown\n",
       "5                                                   rare\n",
       "6                                                   rare\n",
       "7                                                Unknown\n",
       "8                                                   rare\n",
       "9                                                   rare\n",
       "10                                                  rare\n",
       "11                                                  rare\n",
       "12                                               Unknown\n",
       "13                                                  rare\n",
       "14                                                  rare\n",
       "15                                                  rare\n",
       "16                                                  rare\n",
       "17                                                  rare\n",
       "18                                                  rare\n",
       "19                                                  rare\n",
       "20                                                  rare\n",
       "21                                                  rare\n",
       "22                                                  rare\n",
       "23                                                  rare\n",
       "24                                                  rare\n",
       "25                                               Unknown\n",
       "26                                               Unknown\n",
       "27                                                  rare\n",
       "28                                                  rare\n",
       "29                                                  rare\n",
       "                               ...                      \n",
       "181661                                           Unknown\n",
       "181662                           New People's Army (NPA)\n",
       "181663                                           Unknown\n",
       "181664                                           Unknown\n",
       "181665    Communist Party of India - Maoist (CPI-Maoist)\n",
       "181666                                        Boko Haram\n",
       "181667                                              rare\n",
       "181668                                           Unknown\n",
       "181669                                           Unknown\n",
       "181670       Islamic State of Iraq and the Levant (ISIL)\n",
       "181671       Islamic State of Iraq and the Levant (ISIL)\n",
       "181672                                              rare\n",
       "181673                                              rare\n",
       "181674       Islamic State of Iraq and the Levant (ISIL)\n",
       "181675                                        Al-Shabaab\n",
       "181676                                           Taliban\n",
       "181677                                              rare\n",
       "181678                                           Unknown\n",
       "181679       Islamic State of Iraq and the Levant (ISIL)\n",
       "181680                                        Al-Shabaab\n",
       "181681                                              rare\n",
       "181682                                           Unknown\n",
       "181683                                           Taliban\n",
       "181684                                              rare\n",
       "181685                                           Unknown\n",
       "181686                                        Al-Shabaab\n",
       "181687                                              rare\n",
       "181688                                              rare\n",
       "181689                                           Unknown\n",
       "181690                                           Unknown\n",
       "Name: gname, Length: 181691, dtype: object"
      ]
     },
     "execution_count": 19,
     "metadata": {},
     "output_type": "execute_result"
    }
   ],
   "source": [
    "label_df"
   ]
  },
  {
   "cell_type": "code",
   "execution_count": 20,
   "metadata": {},
   "outputs": [],
   "source": [
    "df=df.drop(['gname'],axis=1)"
   ]
  },
  {
   "cell_type": "code",
   "execution_count": 21,
   "metadata": {},
   "outputs": [
    {
     "data": {
      "text/plain": [
       "multiple                2\n",
       "nwoundus               44\n",
       "corp1               33238\n",
       "nperpcap               50\n",
       "target1             86006\n",
       "nkillter               96\n",
       "natlty1_txt           215\n",
       "INT_LOG                 3\n",
       "crit2                   2\n",
       "attacktype1_txt         9\n",
       "dbsource               26\n",
       "doubtterr               3\n",
       "INT_IDEO                3\n",
       "ishostkid               3\n",
       "crit1                   2\n",
       "nperps                113\n",
       "iday                   32\n",
       "crit3                   2\n",
       "success                 2\n",
       "weapsubtype1_txt       30\n",
       "extended                2\n",
       "nkill                 205\n",
       "imonth                 13\n",
       "region_txt             12\n",
       "guncertain1             2\n",
       "targsubtype1_txt      112\n",
       "claimed                 3\n",
       "provstate            2855\n",
       "targtype1_txt          22\n",
       "weaptype1_txt          12\n",
       "nkillus                31\n",
       "nwoundte               44\n",
       "propvalue             659\n",
       "INT_ANY                 3\n",
       "location            44109\n",
       "individual              2\n",
       "weapdetail          19148\n",
       "vicinity                3\n",
       "country_txt           205\n",
       "nwound                238\n",
       "INT_MISC                3\n",
       "propextent_txt          4\n",
       "ransom                  3\n",
       "city                36674\n",
       "specificity             5\n",
       "property                3\n",
       "suicide                 2\n",
       "dtype: int64"
      ]
     },
     "execution_count": 21,
     "metadata": {},
     "output_type": "execute_result"
    }
   ],
   "source": [
    "df.nunique()"
   ]
  },
  {
   "cell_type": "code",
   "execution_count": 22,
   "metadata": {},
   "outputs": [],
   "source": [
    "high_l=['corp1','weapdetail','location','provstate','city','target1']"
   ]
  },
  {
   "cell_type": "code",
   "execution_count": 23,
   "metadata": {},
   "outputs": [],
   "source": [
    "for col in high_l:\n",
    "    threshold=0.03*len(df)\n",
    "    value_counts = df[col].value_counts() \n",
    "    to_remove = value_counts[value_counts <= threshold].index\n",
    "    df[col].replace(to_remove, 'rare', inplace=True)\n",
    "    "
   ]
  },
  {
   "cell_type": "code",
   "execution_count": 24,
   "metadata": {},
   "outputs": [
    {
     "data": {
      "text/plain": [
       "multiple              2\n",
       "nwoundus             44\n",
       "corp1                 3\n",
       "nperpcap             50\n",
       "target1               3\n",
       "nkillter             96\n",
       "natlty1_txt         215\n",
       "INT_LOG               3\n",
       "crit2                 2\n",
       "attacktype1_txt       9\n",
       "dbsource             26\n",
       "doubtterr             3\n",
       "INT_IDEO              3\n",
       "ishostkid             3\n",
       "crit1                 2\n",
       "nperps              113\n",
       "iday                 32\n",
       "crit3                 2\n",
       "success               2\n",
       "weapsubtype1_txt     30\n",
       "extended              2\n",
       "nkill               205\n",
       "imonth               13\n",
       "region_txt           12\n",
       "guncertain1           2\n",
       "targsubtype1_txt    112\n",
       "claimed               3\n",
       "provstate             2\n",
       "targtype1_txt        22\n",
       "weaptype1_txt        12\n",
       "nkillus              31\n",
       "nwoundte             44\n",
       "propvalue           659\n",
       "INT_ANY               3\n",
       "location              1\n",
       "individual            2\n",
       "weapdetail            3\n",
       "vicinity              3\n",
       "country_txt         205\n",
       "nwound              238\n",
       "INT_MISC              3\n",
       "propextent_txt        4\n",
       "ransom                3\n",
       "city                  3\n",
       "specificity           5\n",
       "property              3\n",
       "suicide               2\n",
       "dtype: int64"
      ]
     },
     "execution_count": 24,
     "metadata": {},
     "output_type": "execute_result"
    }
   ],
   "source": [
    "df.nunique()"
   ]
  },
  {
   "cell_type": "code",
   "execution_count": 25,
   "metadata": {},
   "outputs": [
    {
     "data": {
      "text/plain": [
       "(181691, 47)"
      ]
     },
     "execution_count": 25,
     "metadata": {},
     "output_type": "execute_result"
    }
   ],
   "source": [
    "df.shape"
   ]
  },
  {
   "cell_type": "code",
   "execution_count": 26,
   "metadata": {},
   "outputs": [
    {
     "name": "stdout",
     "output_type": "stream",
     "text": [
      "<class 'pandas.core.frame.DataFrame'>\n",
      "RangeIndex: 181691 entries, 0 to 181690\n",
      "Data columns (total 47 columns):\n",
      "multiple            181690 non-null float64\n",
      "nwoundus            116989 non-null float64\n",
      "corp1               139141 non-null object\n",
      "nperpcap            112202 non-null float64\n",
      "target1             181055 non-null object\n",
      "nkillter            114733 non-null float64\n",
      "natlty1_txt         180132 non-null object\n",
      "INT_LOG             181691 non-null int64\n",
      "crit2               181691 non-null int64\n",
      "attacktype1_txt     181691 non-null object\n",
      "dbsource            181691 non-null object\n",
      "doubtterr           181690 non-null float64\n",
      "INT_IDEO            181691 non-null int64\n",
      "ishostkid           181513 non-null float64\n",
      "crit1               181691 non-null int64\n",
      "nperps              110576 non-null float64\n",
      "iday                181691 non-null int64\n",
      "crit3               181691 non-null int64\n",
      "success             181691 non-null int64\n",
      "weapsubtype1_txt    160923 non-null object\n",
      "extended            181691 non-null int64\n",
      "nkill               171378 non-null float64\n",
      "imonth              181691 non-null int64\n",
      "region_txt          181691 non-null object\n",
      "guncertain1         181311 non-null float64\n",
      "targsubtype1_txt    171318 non-null object\n",
      "claimed             115571 non-null float64\n",
      "provstate           181270 non-null object\n",
      "targtype1_txt       181691 non-null object\n",
      "weaptype1_txt       181691 non-null object\n",
      "nkillus             117245 non-null float64\n",
      "nwoundte            112548 non-null float64\n",
      "propvalue           38989 non-null float64\n",
      "INT_ANY             181691 non-null int64\n",
      "location            55495 non-null object\n",
      "individual          181691 non-null int64\n",
      "weapdetail          114021 non-null object\n",
      "vicinity            181691 non-null int64\n",
      "country_txt         181691 non-null object\n",
      "nwound              165380 non-null float64\n",
      "INT_MISC            181691 non-null int64\n",
      "propextent_txt      64065 non-null object\n",
      "ransom              77381 non-null float64\n",
      "city                181257 non-null object\n",
      "specificity         181685 non-null float64\n",
      "property            181691 non-null int64\n",
      "suicide             181691 non-null int64\n",
      "dtypes: float64(16), int64(15), object(16)\n",
      "memory usage: 65.2+ MB\n"
     ]
    }
   ],
   "source": [
    "df.info()"
   ]
  },
  {
   "cell_type": "code",
   "execution_count": 27,
   "metadata": {},
   "outputs": [
    {
     "data": {
      "text/plain": [
       "multiple                 1\n",
       "nwoundus             64702\n",
       "corp1                42550\n",
       "nperpcap             69489\n",
       "target1                636\n",
       "nkillter             66958\n",
       "natlty1_txt           1559\n",
       "INT_LOG                  0\n",
       "crit2                    0\n",
       "attacktype1_txt          0\n",
       "dbsource                 0\n",
       "doubtterr                1\n",
       "INT_IDEO                 0\n",
       "ishostkid              178\n",
       "crit1                    0\n",
       "nperps               71115\n",
       "iday                     0\n",
       "crit3                    0\n",
       "success                  0\n",
       "weapsubtype1_txt     20768\n",
       "extended                 0\n",
       "nkill                10313\n",
       "imonth                   0\n",
       "region_txt               0\n",
       "guncertain1            380\n",
       "targsubtype1_txt     10373\n",
       "claimed              66120\n",
       "provstate              421\n",
       "targtype1_txt            0\n",
       "weaptype1_txt            0\n",
       "nkillus              64446\n",
       "nwoundte             69143\n",
       "propvalue           142702\n",
       "INT_ANY                  0\n",
       "location            126196\n",
       "individual               0\n",
       "weapdetail           67670\n",
       "vicinity                 0\n",
       "country_txt              0\n",
       "nwound               16311\n",
       "INT_MISC                 0\n",
       "propextent_txt      117626\n",
       "ransom              104310\n",
       "city                   434\n",
       "specificity              6\n",
       "property                 0\n",
       "suicide                  0\n",
       "dtype: int64"
      ]
     },
     "execution_count": 27,
     "metadata": {},
     "output_type": "execute_result"
    }
   ],
   "source": [
    "df.isnull().sum()"
   ]
  },
  {
   "cell_type": "code",
   "execution_count": 28,
   "metadata": {},
   "outputs": [],
   "source": [
    "#drop columns with rare and Nan only\n",
    "df=df.drop(['location','target1'],axis=1)"
   ]
  },
  {
   "cell_type": "code",
   "execution_count": 29,
   "metadata": {},
   "outputs": [],
   "source": [
    "imp_zero=['claimed','specificity','nwound','nwoundte','nperps','nkillter','nkillus','multiple','doubtterr','nperpcap','nwoundus','ransom','ishostkid','nkill','guncertain1','propvalue']"
   ]
  },
  {
   "cell_type": "code",
   "execution_count": 30,
   "metadata": {},
   "outputs": [],
   "source": [
    "imp_Unknown=['targsubtype1_txt','natlty1_txt','corp1','weapdetail','weapsubtype1_txt','provstate','city','propextent_txt']"
   ]
  },
  {
   "cell_type": "code",
   "execution_count": 31,
   "metadata": {},
   "outputs": [],
   "source": [
    "for col in imp_zero:\n",
    "    df[col] = df[col].fillna(0)"
   ]
  },
  {
   "cell_type": "code",
   "execution_count": 32,
   "metadata": {},
   "outputs": [],
   "source": [
    "for col in imp_Unknown:\n",
    "    df[col] = df[col].fillna('Unknown')"
   ]
  },
  {
   "cell_type": "code",
   "execution_count": 33,
   "metadata": {},
   "outputs": [
    {
     "data": {
      "text/plain": [
       "multiple            0\n",
       "nwoundus            0\n",
       "corp1               0\n",
       "nperpcap            0\n",
       "nkillter            0\n",
       "natlty1_txt         0\n",
       "INT_LOG             0\n",
       "crit2               0\n",
       "attacktype1_txt     0\n",
       "dbsource            0\n",
       "doubtterr           0\n",
       "INT_IDEO            0\n",
       "ishostkid           0\n",
       "crit1               0\n",
       "nperps              0\n",
       "iday                0\n",
       "crit3               0\n",
       "success             0\n",
       "weapsubtype1_txt    0\n",
       "extended            0\n",
       "nkill               0\n",
       "imonth              0\n",
       "region_txt          0\n",
       "guncertain1         0\n",
       "targsubtype1_txt    0\n",
       "claimed             0\n",
       "provstate           0\n",
       "targtype1_txt       0\n",
       "weaptype1_txt       0\n",
       "nkillus             0\n",
       "nwoundte            0\n",
       "propvalue           0\n",
       "INT_ANY             0\n",
       "individual          0\n",
       "weapdetail          0\n",
       "vicinity            0\n",
       "country_txt         0\n",
       "nwound              0\n",
       "INT_MISC            0\n",
       "propextent_txt      0\n",
       "ransom              0\n",
       "city                0\n",
       "specificity         0\n",
       "property            0\n",
       "suicide             0\n",
       "dtype: int64"
      ]
     },
     "execution_count": 33,
     "metadata": {},
     "output_type": "execute_result"
    }
   ],
   "source": [
    "df.isnull().sum()"
   ]
  },
  {
   "cell_type": "code",
   "execution_count": 34,
   "metadata": {},
   "outputs": [],
   "source": [
    "#df of non numeric columns\n",
    "obj_df = df.select_dtypes(include=['object']).copy()"
   ]
  },
  {
   "cell_type": "code",
   "execution_count": 35,
   "metadata": {},
   "outputs": [],
   "source": [
    "obj_col=obj_df.columns.tolist()\n",
    "num_col=list(set(df.columns.tolist())-set(obj_col))"
   ]
  },
  {
   "cell_type": "code",
   "execution_count": 36,
   "metadata": {},
   "outputs": [],
   "source": [
    "num_df=df[num_col]"
   ]
  },
  {
   "cell_type": "code",
   "execution_count": 37,
   "metadata": {},
   "outputs": [
    {
     "data": {
      "text/html": [
       "<div>\n",
       "<style scoped>\n",
       "    .dataframe tbody tr th:only-of-type {\n",
       "        vertical-align: middle;\n",
       "    }\n",
       "\n",
       "    .dataframe tbody tr th {\n",
       "        vertical-align: top;\n",
       "    }\n",
       "\n",
       "    .dataframe thead th {\n",
       "        text-align: right;\n",
       "    }\n",
       "</style>\n",
       "<table border=\"1\" class=\"dataframe\">\n",
       "  <thead>\n",
       "    <tr style=\"text-align: right;\">\n",
       "      <th></th>\n",
       "      <th>corp1</th>\n",
       "      <th>natlty1_txt</th>\n",
       "      <th>attacktype1_txt</th>\n",
       "      <th>dbsource</th>\n",
       "      <th>weapsubtype1_txt</th>\n",
       "      <th>region_txt</th>\n",
       "      <th>targsubtype1_txt</th>\n",
       "      <th>provstate</th>\n",
       "      <th>targtype1_txt</th>\n",
       "      <th>weaptype1_txt</th>\n",
       "      <th>weapdetail</th>\n",
       "      <th>country_txt</th>\n",
       "      <th>propextent_txt</th>\n",
       "      <th>city</th>\n",
       "    </tr>\n",
       "  </thead>\n",
       "  <tbody>\n",
       "    <tr>\n",
       "      <th>0</th>\n",
       "      <td>Unknown</td>\n",
       "      <td>Dominican Republic</td>\n",
       "      <td>Assassination</td>\n",
       "      <td>PGIS</td>\n",
       "      <td>Unknown</td>\n",
       "      <td>Central America &amp; Caribbean</td>\n",
       "      <td>Named Civilian</td>\n",
       "      <td>Unknown</td>\n",
       "      <td>Private Citizens &amp; Property</td>\n",
       "      <td>Unknown</td>\n",
       "      <td>Unknown</td>\n",
       "      <td>Dominican Republic</td>\n",
       "      <td>Unknown</td>\n",
       "      <td>rare</td>\n",
       "    </tr>\n",
       "    <tr>\n",
       "      <th>1</th>\n",
       "      <td>rare</td>\n",
       "      <td>Belgium</td>\n",
       "      <td>Hostage Taking (Kidnapping)</td>\n",
       "      <td>PGIS</td>\n",
       "      <td>Unknown</td>\n",
       "      <td>North America</td>\n",
       "      <td>Diplomatic Personnel (outside of embassy, cons...</td>\n",
       "      <td>rare</td>\n",
       "      <td>Government (Diplomatic)</td>\n",
       "      <td>Unknown</td>\n",
       "      <td>Unknown</td>\n",
       "      <td>Mexico</td>\n",
       "      <td>Unknown</td>\n",
       "      <td>rare</td>\n",
       "    </tr>\n",
       "    <tr>\n",
       "      <th>2</th>\n",
       "      <td>rare</td>\n",
       "      <td>United States</td>\n",
       "      <td>Assassination</td>\n",
       "      <td>PGIS</td>\n",
       "      <td>Unknown</td>\n",
       "      <td>Southeast Asia</td>\n",
       "      <td>Radio Journalist/Staff/Facility</td>\n",
       "      <td>rare</td>\n",
       "      <td>Journalists &amp; Media</td>\n",
       "      <td>Unknown</td>\n",
       "      <td>Unknown</td>\n",
       "      <td>Philippines</td>\n",
       "      <td>Unknown</td>\n",
       "      <td>Unknown</td>\n",
       "    </tr>\n",
       "    <tr>\n",
       "      <th>3</th>\n",
       "      <td>Unknown</td>\n",
       "      <td>United States</td>\n",
       "      <td>Bombing/Explosion</td>\n",
       "      <td>PGIS</td>\n",
       "      <td>Unknown Explosive Type</td>\n",
       "      <td>Western Europe</td>\n",
       "      <td>Embassy/Consulate</td>\n",
       "      <td>rare</td>\n",
       "      <td>Government (Diplomatic)</td>\n",
       "      <td>Explosives</td>\n",
       "      <td>Explosive</td>\n",
       "      <td>Greece</td>\n",
       "      <td>Unknown</td>\n",
       "      <td>rare</td>\n",
       "    </tr>\n",
       "    <tr>\n",
       "      <th>4</th>\n",
       "      <td>Unknown</td>\n",
       "      <td>United States</td>\n",
       "      <td>Facility/Infrastructure Attack</td>\n",
       "      <td>PGIS</td>\n",
       "      <td>Unknown</td>\n",
       "      <td>East Asia</td>\n",
       "      <td>Embassy/Consulate</td>\n",
       "      <td>rare</td>\n",
       "      <td>Government (Diplomatic)</td>\n",
       "      <td>Incendiary</td>\n",
       "      <td>rare</td>\n",
       "      <td>Japan</td>\n",
       "      <td>Unknown</td>\n",
       "      <td>rare</td>\n",
       "    </tr>\n",
       "  </tbody>\n",
       "</table>\n",
       "</div>"
      ],
      "text/plain": [
       "     corp1         natlty1_txt                 attacktype1_txt dbsource  \\\n",
       "0  Unknown  Dominican Republic                   Assassination     PGIS   \n",
       "1     rare             Belgium     Hostage Taking (Kidnapping)     PGIS   \n",
       "2     rare       United States                   Assassination     PGIS   \n",
       "3  Unknown       United States               Bombing/Explosion     PGIS   \n",
       "4  Unknown       United States  Facility/Infrastructure Attack     PGIS   \n",
       "\n",
       "         weapsubtype1_txt                   region_txt  \\\n",
       "0                 Unknown  Central America & Caribbean   \n",
       "1                 Unknown                North America   \n",
       "2                 Unknown               Southeast Asia   \n",
       "3  Unknown Explosive Type               Western Europe   \n",
       "4                 Unknown                    East Asia   \n",
       "\n",
       "                                    targsubtype1_txt provstate  \\\n",
       "0                                     Named Civilian   Unknown   \n",
       "1  Diplomatic Personnel (outside of embassy, cons...      rare   \n",
       "2                    Radio Journalist/Staff/Facility      rare   \n",
       "3                                  Embassy/Consulate      rare   \n",
       "4                                  Embassy/Consulate      rare   \n",
       "\n",
       "                 targtype1_txt weaptype1_txt weapdetail         country_txt  \\\n",
       "0  Private Citizens & Property       Unknown    Unknown  Dominican Republic   \n",
       "1      Government (Diplomatic)       Unknown    Unknown              Mexico   \n",
       "2          Journalists & Media       Unknown    Unknown         Philippines   \n",
       "3      Government (Diplomatic)    Explosives  Explosive              Greece   \n",
       "4      Government (Diplomatic)    Incendiary       rare               Japan   \n",
       "\n",
       "  propextent_txt     city  \n",
       "0        Unknown     rare  \n",
       "1        Unknown     rare  \n",
       "2        Unknown  Unknown  \n",
       "3        Unknown     rare  \n",
       "4        Unknown     rare  "
      ]
     },
     "execution_count": 37,
     "metadata": {},
     "output_type": "execute_result"
    }
   ],
   "source": [
    "obj_df.head()"
   ]
  },
  {
   "cell_type": "code",
   "execution_count": 38,
   "metadata": {},
   "outputs": [
    {
     "data": {
      "text/html": [
       "<div>\n",
       "<style scoped>\n",
       "    .dataframe tbody tr th:only-of-type {\n",
       "        vertical-align: middle;\n",
       "    }\n",
       "\n",
       "    .dataframe tbody tr th {\n",
       "        vertical-align: top;\n",
       "    }\n",
       "\n",
       "    .dataframe thead th {\n",
       "        text-align: right;\n",
       "    }\n",
       "</style>\n",
       "<table border=\"1\" class=\"dataframe\">\n",
       "  <thead>\n",
       "    <tr style=\"text-align: right;\">\n",
       "      <th></th>\n",
       "      <th>multiple</th>\n",
       "      <th>nwoundus</th>\n",
       "      <th>nperpcap</th>\n",
       "      <th>nkillter</th>\n",
       "      <th>INT_LOG</th>\n",
       "      <th>crit2</th>\n",
       "      <th>INT_IDEO</th>\n",
       "      <th>doubtterr</th>\n",
       "      <th>ishostkid</th>\n",
       "      <th>crit1</th>\n",
       "      <th>...</th>\n",
       "      <th>propvalue</th>\n",
       "      <th>INT_ANY</th>\n",
       "      <th>individual</th>\n",
       "      <th>vicinity</th>\n",
       "      <th>nwound</th>\n",
       "      <th>INT_MISC</th>\n",
       "      <th>ransom</th>\n",
       "      <th>specificity</th>\n",
       "      <th>property</th>\n",
       "      <th>suicide</th>\n",
       "    </tr>\n",
       "  </thead>\n",
       "  <tbody>\n",
       "    <tr>\n",
       "      <th>0</th>\n",
       "      <td>0.0</td>\n",
       "      <td>0.0</td>\n",
       "      <td>0.0</td>\n",
       "      <td>0.0</td>\n",
       "      <td>0</td>\n",
       "      <td>1</td>\n",
       "      <td>0</td>\n",
       "      <td>0.0</td>\n",
       "      <td>0.0</td>\n",
       "      <td>1</td>\n",
       "      <td>...</td>\n",
       "      <td>0.0</td>\n",
       "      <td>0</td>\n",
       "      <td>0</td>\n",
       "      <td>0</td>\n",
       "      <td>0.0</td>\n",
       "      <td>0</td>\n",
       "      <td>0.0</td>\n",
       "      <td>1.0</td>\n",
       "      <td>0</td>\n",
       "      <td>0</td>\n",
       "    </tr>\n",
       "    <tr>\n",
       "      <th>1</th>\n",
       "      <td>0.0</td>\n",
       "      <td>0.0</td>\n",
       "      <td>0.0</td>\n",
       "      <td>0.0</td>\n",
       "      <td>0</td>\n",
       "      <td>1</td>\n",
       "      <td>1</td>\n",
       "      <td>0.0</td>\n",
       "      <td>1.0</td>\n",
       "      <td>1</td>\n",
       "      <td>...</td>\n",
       "      <td>0.0</td>\n",
       "      <td>1</td>\n",
       "      <td>0</td>\n",
       "      <td>0</td>\n",
       "      <td>0.0</td>\n",
       "      <td>1</td>\n",
       "      <td>1.0</td>\n",
       "      <td>1.0</td>\n",
       "      <td>0</td>\n",
       "      <td>0</td>\n",
       "    </tr>\n",
       "    <tr>\n",
       "      <th>2</th>\n",
       "      <td>0.0</td>\n",
       "      <td>0.0</td>\n",
       "      <td>0.0</td>\n",
       "      <td>0.0</td>\n",
       "      <td>-9</td>\n",
       "      <td>1</td>\n",
       "      <td>-9</td>\n",
       "      <td>0.0</td>\n",
       "      <td>0.0</td>\n",
       "      <td>1</td>\n",
       "      <td>...</td>\n",
       "      <td>0.0</td>\n",
       "      <td>1</td>\n",
       "      <td>0</td>\n",
       "      <td>0</td>\n",
       "      <td>0.0</td>\n",
       "      <td>1</td>\n",
       "      <td>0.0</td>\n",
       "      <td>4.0</td>\n",
       "      <td>0</td>\n",
       "      <td>0</td>\n",
       "    </tr>\n",
       "    <tr>\n",
       "      <th>3</th>\n",
       "      <td>0.0</td>\n",
       "      <td>0.0</td>\n",
       "      <td>0.0</td>\n",
       "      <td>0.0</td>\n",
       "      <td>-9</td>\n",
       "      <td>1</td>\n",
       "      <td>-9</td>\n",
       "      <td>0.0</td>\n",
       "      <td>0.0</td>\n",
       "      <td>1</td>\n",
       "      <td>...</td>\n",
       "      <td>0.0</td>\n",
       "      <td>1</td>\n",
       "      <td>0</td>\n",
       "      <td>0</td>\n",
       "      <td>0.0</td>\n",
       "      <td>1</td>\n",
       "      <td>0.0</td>\n",
       "      <td>1.0</td>\n",
       "      <td>1</td>\n",
       "      <td>0</td>\n",
       "    </tr>\n",
       "    <tr>\n",
       "      <th>4</th>\n",
       "      <td>0.0</td>\n",
       "      <td>0.0</td>\n",
       "      <td>0.0</td>\n",
       "      <td>0.0</td>\n",
       "      <td>-9</td>\n",
       "      <td>1</td>\n",
       "      <td>-9</td>\n",
       "      <td>-9.0</td>\n",
       "      <td>0.0</td>\n",
       "      <td>1</td>\n",
       "      <td>...</td>\n",
       "      <td>0.0</td>\n",
       "      <td>1</td>\n",
       "      <td>0</td>\n",
       "      <td>0</td>\n",
       "      <td>0.0</td>\n",
       "      <td>1</td>\n",
       "      <td>0.0</td>\n",
       "      <td>1.0</td>\n",
       "      <td>1</td>\n",
       "      <td>0</td>\n",
       "    </tr>\n",
       "  </tbody>\n",
       "</table>\n",
       "<p>5 rows × 31 columns</p>\n",
       "</div>"
      ],
      "text/plain": [
       "   multiple  nwoundus  nperpcap  nkillter  INT_LOG  crit2  INT_IDEO  \\\n",
       "0       0.0       0.0       0.0       0.0        0      1         0   \n",
       "1       0.0       0.0       0.0       0.0        0      1         1   \n",
       "2       0.0       0.0       0.0       0.0       -9      1        -9   \n",
       "3       0.0       0.0       0.0       0.0       -9      1        -9   \n",
       "4       0.0       0.0       0.0       0.0       -9      1        -9   \n",
       "\n",
       "   doubtterr  ishostkid  crit1   ...     propvalue  INT_ANY  individual  \\\n",
       "0        0.0        0.0      1   ...           0.0        0           0   \n",
       "1        0.0        1.0      1   ...           0.0        1           0   \n",
       "2        0.0        0.0      1   ...           0.0        1           0   \n",
       "3        0.0        0.0      1   ...           0.0        1           0   \n",
       "4       -9.0        0.0      1   ...           0.0        1           0   \n",
       "\n",
       "   vicinity  nwound  INT_MISC  ransom  specificity  property  suicide  \n",
       "0         0     0.0         0     0.0          1.0         0        0  \n",
       "1         0     0.0         1     1.0          1.0         0        0  \n",
       "2         0     0.0         1     0.0          4.0         0        0  \n",
       "3         0     0.0         1     0.0          1.0         1        0  \n",
       "4         0     0.0         1     0.0          1.0         1        0  \n",
       "\n",
       "[5 rows x 31 columns]"
      ]
     },
     "execution_count": 38,
     "metadata": {},
     "output_type": "execute_result"
    }
   ],
   "source": [
    "num_df.head()"
   ]
  },
  {
   "cell_type": "code",
   "execution_count": 39,
   "metadata": {},
   "outputs": [
    {
     "data": {
      "text/plain": [
       "0       rare\n",
       "1       rare\n",
       "2    Unknown\n",
       "3    Unknown\n",
       "4    Unknown\n",
       "Name: gname, dtype: object"
      ]
     },
     "execution_count": 39,
     "metadata": {},
     "output_type": "execute_result"
    }
   ],
   "source": [
    "label_df.head()"
   ]
  },
  {
   "cell_type": "code",
   "execution_count": 40,
   "metadata": {},
   "outputs": [
    {
     "data": {
      "text/plain": [
       "(181691, 14)"
      ]
     },
     "execution_count": 40,
     "metadata": {},
     "output_type": "execute_result"
    }
   ],
   "source": [
    "obj_df.shape"
   ]
  },
  {
   "cell_type": "code",
   "execution_count": 41,
   "metadata": {},
   "outputs": [
    {
     "data": {
      "text/plain": [
       "(181691, 31)"
      ]
     },
     "execution_count": 41,
     "metadata": {},
     "output_type": "execute_result"
    }
   ],
   "source": [
    "num_df.shape"
   ]
  },
  {
   "cell_type": "code",
   "execution_count": 42,
   "metadata": {},
   "outputs": [
    {
     "data": {
      "text/plain": [
       "corp1                 3\n",
       "natlty1_txt         216\n",
       "attacktype1_txt       9\n",
       "dbsource             26\n",
       "weapsubtype1_txt     31\n",
       "region_txt           12\n",
       "targsubtype1_txt    113\n",
       "provstate             3\n",
       "targtype1_txt        22\n",
       "weaptype1_txt        12\n",
       "weapdetail            4\n",
       "country_txt         205\n",
       "propextent_txt        4\n",
       "city                  3\n",
       "dtype: int64"
      ]
     },
     "execution_count": 42,
     "metadata": {},
     "output_type": "execute_result"
    }
   ],
   "source": [
    "obj_df.nunique()"
   ]
  },
  {
   "cell_type": "code",
   "execution_count": 43,
   "metadata": {},
   "outputs": [],
   "source": [
    "label_df[\"gname\"] = label_df.astype('category')"
   ]
  },
  {
   "cell_type": "code",
   "execution_count": 44,
   "metadata": {},
   "outputs": [],
   "source": [
    "label_df['label']= label_df[\"gname\"].cat.codes"
   ]
  },
  {
   "cell_type": "code",
   "execution_count": 45,
   "metadata": {},
   "outputs": [
    {
     "data": {
      "text/plain": [
       "array([13, 13, 12, ..., 13, 12, 12], dtype=int8)"
      ]
     },
     "execution_count": 45,
     "metadata": {},
     "output_type": "execute_result"
    }
   ],
   "source": [
    "label_df['label'].values"
   ]
  },
  {
   "cell_type": "code",
   "execution_count": 46,
   "metadata": {},
   "outputs": [],
   "source": [
    "import category_encoders as ce"
   ]
  },
  {
   "cell_type": "code",
   "execution_count": 47,
   "metadata": {},
   "outputs": [],
   "source": [
    "ce_hash = ce.HashingEncoder(cols = ['natlty1_txt'])"
   ]
  },
  {
   "cell_type": "code",
   "execution_count": 48,
   "metadata": {},
   "outputs": [],
   "source": [
    "df_h=ce_hash.fit_transform(obj_df, label_df['label'].values)"
   ]
  },
  {
   "cell_type": "code",
   "execution_count": 49,
   "metadata": {},
   "outputs": [],
   "source": [
    "l=df_h.columns.tolist()"
   ]
  },
  {
   "cell_type": "code",
   "execution_count": 50,
   "metadata": {},
   "outputs": [
    {
     "data": {
      "text/plain": [
       "['col_0', 'col_1', 'col_2', 'col_3', 'col_4', 'col_5', 'col_6', 'col_7']"
      ]
     },
     "execution_count": 50,
     "metadata": {},
     "output_type": "execute_result"
    }
   ],
   "source": [
    "l[:8]"
   ]
  },
  {
   "cell_type": "code",
   "execution_count": 51,
   "metadata": {},
   "outputs": [
    {
     "name": "stdout",
     "output_type": "stream",
     "text": [
      "{'col_0': 'col_0_natlty1_txt', 'col_1': 'col_1_natlty1_txt', 'col_2': 'col_2_natlty1_txt', 'col_3': 'col_3_natlty1_txt', 'col_4': 'col_4_natlty1_txt', 'col_5': 'col_5_natlty1_txt', 'col_6': 'col_6_natlty1_txt', 'col_7': 'col_7_natlty1_txt'}\n"
     ]
    }
   ],
   "source": [
    "d={}\n",
    "for i in range(0,8):\n",
    "    d[l[i]]=l[i]+\"_\"+\"natlty1_txt\"\n",
    "print(d)"
   ]
  },
  {
   "cell_type": "code",
   "execution_count": 52,
   "metadata": {},
   "outputs": [
    {
     "data": {
      "text/plain": [
       "Index(['col_0_natlty1_txt', 'col_1_natlty1_txt', 'col_2_natlty1_txt',\n",
       "       'col_3_natlty1_txt', 'col_4_natlty1_txt', 'col_5_natlty1_txt',\n",
       "       'col_6_natlty1_txt', 'col_7_natlty1_txt', 'corp1', 'attacktype1_txt',\n",
       "       'dbsource', 'weapsubtype1_txt', 'region_txt', 'targsubtype1_txt',\n",
       "       'provstate', 'targtype1_txt', 'weaptype1_txt', 'weapdetail',\n",
       "       'country_txt', 'propextent_txt', 'city'],\n",
       "      dtype='object')"
      ]
     },
     "execution_count": 52,
     "metadata": {},
     "output_type": "execute_result"
    }
   ],
   "source": [
    "df_h=df_h.rename(columns=d)\n",
    "df_h.columns"
   ]
  },
  {
   "cell_type": "code",
   "execution_count": 53,
   "metadata": {},
   "outputs": [],
   "source": [
    "ce_hash = ce.HashingEncoder(cols = ['targsubtype1_txt'])"
   ]
  },
  {
   "cell_type": "code",
   "execution_count": 54,
   "metadata": {},
   "outputs": [],
   "source": [
    "df_h=ce_hash.fit_transform(df_h, label_df['label'].values)"
   ]
  },
  {
   "cell_type": "code",
   "execution_count": 55,
   "metadata": {},
   "outputs": [
    {
     "name": "stdout",
     "output_type": "stream",
     "text": [
      "['col_0', 'col_1', 'col_2', 'col_3', 'col_4', 'col_5', 'col_6', 'col_7']\n"
     ]
    }
   ],
   "source": [
    "l=df_h.columns.tolist()\n",
    "print(l[:8])"
   ]
  },
  {
   "cell_type": "code",
   "execution_count": 56,
   "metadata": {},
   "outputs": [
    {
     "name": "stdout",
     "output_type": "stream",
     "text": [
      "{'col_0': 'col_0_targsubtype1_txt', 'col_1': 'col_1_targsubtype1_txt', 'col_2': 'col_2_targsubtype1_txt', 'col_3': 'col_3_targsubtype1_txt', 'col_4': 'col_4_targsubtype1_txt', 'col_5': 'col_5_targsubtype1_txt', 'col_6': 'col_6_targsubtype1_txt', 'col_7': 'col_7_targsubtype1_txt'}\n",
      "Index(['col_0_targsubtype1_txt', 'col_1_targsubtype1_txt',\n",
      "       'col_2_targsubtype1_txt', 'col_3_targsubtype1_txt',\n",
      "       'col_4_targsubtype1_txt', 'col_5_targsubtype1_txt',\n",
      "       'col_6_targsubtype1_txt', 'col_7_targsubtype1_txt', 'col_0_natlty1_txt',\n",
      "       'col_1_natlty1_txt', 'col_2_natlty1_txt', 'col_3_natlty1_txt',\n",
      "       'col_4_natlty1_txt', 'col_5_natlty1_txt', 'col_6_natlty1_txt',\n",
      "       'col_7_natlty1_txt', 'corp1', 'attacktype1_txt', 'dbsource',\n",
      "       'weapsubtype1_txt', 'region_txt', 'provstate', 'targtype1_txt',\n",
      "       'weaptype1_txt', 'weapdetail', 'country_txt', 'propextent_txt', 'city'],\n",
      "      dtype='object')\n"
     ]
    }
   ],
   "source": [
    "d={}\n",
    "for i in range(0,8):\n",
    "    d[l[i]]=l[i]+\"_\"+\"targsubtype1_txt\"\n",
    "print(d)\n",
    "df_h=df_h.rename(columns=d)\n",
    "print(df_h.columns)"
   ]
  },
  {
   "cell_type": "code",
   "execution_count": 57,
   "metadata": {},
   "outputs": [],
   "source": [
    "ce_hash = ce.HashingEncoder(cols = ['country_txt'])"
   ]
  },
  {
   "cell_type": "code",
   "execution_count": 58,
   "metadata": {},
   "outputs": [],
   "source": [
    "df_h=ce_hash.fit_transform(df_h, label_df['label'].values)"
   ]
  },
  {
   "cell_type": "code",
   "execution_count": 59,
   "metadata": {},
   "outputs": [
    {
     "name": "stdout",
     "output_type": "stream",
     "text": [
      "['col_0', 'col_1', 'col_2', 'col_3', 'col_4', 'col_5', 'col_6', 'col_7']\n",
      "{'col_0': 'col_0_country_txt', 'col_1': 'col_1_country_txt', 'col_2': 'col_2_country_txt', 'col_3': 'col_3_country_txt', 'col_4': 'col_4_country_txt', 'col_5': 'col_5_country_txt', 'col_6': 'col_6_country_txt', 'col_7': 'col_7_country_txt'}\n",
      "Index(['col_0_country_txt', 'col_1_country_txt', 'col_2_country_txt',\n",
      "       'col_3_country_txt', 'col_4_country_txt', 'col_5_country_txt',\n",
      "       'col_6_country_txt', 'col_7_country_txt', 'col_0_targsubtype1_txt',\n",
      "       'col_1_targsubtype1_txt', 'col_2_targsubtype1_txt',\n",
      "       'col_3_targsubtype1_txt', 'col_4_targsubtype1_txt',\n",
      "       'col_5_targsubtype1_txt', 'col_6_targsubtype1_txt',\n",
      "       'col_7_targsubtype1_txt', 'col_0_natlty1_txt', 'col_1_natlty1_txt',\n",
      "       'col_2_natlty1_txt', 'col_3_natlty1_txt', 'col_4_natlty1_txt',\n",
      "       'col_5_natlty1_txt', 'col_6_natlty1_txt', 'col_7_natlty1_txt', 'corp1',\n",
      "       'attacktype1_txt', 'dbsource', 'weapsubtype1_txt', 'region_txt',\n",
      "       'provstate', 'targtype1_txt', 'weaptype1_txt', 'weapdetail',\n",
      "       'propextent_txt', 'city'],\n",
      "      dtype='object')\n"
     ]
    }
   ],
   "source": [
    "l=df_h.columns.tolist()\n",
    "print(l[:8])\n",
    "d={}\n",
    "for i in range(0,8):\n",
    "    d[l[i]]=l[i]+\"_\"+\"country_txt\"\n",
    "print(d)\n",
    "df_h=df_h.rename(columns=d)\n",
    "print(df_h.columns)"
   ]
  },
  {
   "cell_type": "code",
   "execution_count": 60,
   "metadata": {},
   "outputs": [],
   "source": [
    "ce_hash = ce.HashingEncoder(cols =['targtype1_txt','weapsubtype1_txt','region_txt','dbsource','weaptype1_txt'])"
   ]
  },
  {
   "cell_type": "code",
   "execution_count": 61,
   "metadata": {},
   "outputs": [],
   "source": [
    "df_h=ce_hash.fit_transform(df_h, label_df['label'].values)"
   ]
  },
  {
   "cell_type": "code",
   "execution_count": 62,
   "metadata": {},
   "outputs": [
    {
     "name": "stdout",
     "output_type": "stream",
     "text": [
      "Index(['col_0', 'col_1', 'col_2', 'col_3', 'col_4', 'col_5', 'col_6', 'col_7',\n",
      "       'col_0_country_txt', 'col_1_country_txt', 'col_2_country_txt',\n",
      "       'col_3_country_txt', 'col_4_country_txt', 'col_5_country_txt',\n",
      "       'col_6_country_txt', 'col_7_country_txt', 'col_0_targsubtype1_txt',\n",
      "       'col_1_targsubtype1_txt', 'col_2_targsubtype1_txt',\n",
      "       'col_3_targsubtype1_txt', 'col_4_targsubtype1_txt',\n",
      "       'col_5_targsubtype1_txt', 'col_6_targsubtype1_txt',\n",
      "       'col_7_targsubtype1_txt', 'col_0_natlty1_txt', 'col_1_natlty1_txt',\n",
      "       'col_2_natlty1_txt', 'col_3_natlty1_txt', 'col_4_natlty1_txt',\n",
      "       'col_5_natlty1_txt', 'col_6_natlty1_txt', 'col_7_natlty1_txt', 'corp1',\n",
      "       'attacktype1_txt', 'provstate', 'weapdetail', 'propextent_txt', 'city'],\n",
      "      dtype='object')\n",
      "(181691, 38)\n"
     ]
    }
   ],
   "source": [
    "print(df_h.columns)\n",
    "print(df_h.shape)"
   ]
  },
  {
   "cell_type": "code",
   "execution_count": 63,
   "metadata": {},
   "outputs": [
    {
     "data": {
      "text/plain": [
       "col_0                     5\n",
       "col_1                     4\n",
       "col_2                     4\n",
       "col_3                     6\n",
       "col_4                     5\n",
       "col_5                     4\n",
       "col_6                     5\n",
       "col_7                     4\n",
       "col_0_country_txt         2\n",
       "col_1_country_txt         2\n",
       "col_2_country_txt         2\n",
       "col_3_country_txt         2\n",
       "col_4_country_txt         2\n",
       "col_5_country_txt         2\n",
       "col_6_country_txt         2\n",
       "col_7_country_txt         2\n",
       "col_0_targsubtype1_txt    2\n",
       "col_1_targsubtype1_txt    2\n",
       "col_2_targsubtype1_txt    2\n",
       "col_3_targsubtype1_txt    2\n",
       "col_4_targsubtype1_txt    2\n",
       "col_5_targsubtype1_txt    2\n",
       "col_6_targsubtype1_txt    2\n",
       "col_7_targsubtype1_txt    2\n",
       "col_0_natlty1_txt         2\n",
       "col_1_natlty1_txt         2\n",
       "col_2_natlty1_txt         2\n",
       "col_3_natlty1_txt         2\n",
       "col_4_natlty1_txt         2\n",
       "col_5_natlty1_txt         2\n",
       "col_6_natlty1_txt         2\n",
       "col_7_natlty1_txt         2\n",
       "corp1                     3\n",
       "attacktype1_txt           9\n",
       "provstate                 3\n",
       "weapdetail                4\n",
       "propextent_txt            4\n",
       "city                      3\n",
       "dtype: int64"
      ]
     },
     "execution_count": 63,
     "metadata": {},
     "output_type": "execute_result"
    }
   ],
   "source": [
    "df_h.nunique()"
   ]
  },
  {
   "cell_type": "code",
   "execution_count": 64,
   "metadata": {},
   "outputs": [
    {
     "name": "stdout",
     "output_type": "stream",
     "text": [
      "Index(['col_0', 'col_1', 'col_2', 'col_3', 'col_4', 'col_5', 'col_6', 'col_7',\n",
      "       'col_0_country_txt', 'col_1_country_txt', 'col_2_country_txt',\n",
      "       'col_3_country_txt', 'col_4_country_txt', 'col_5_country_txt',\n",
      "       'col_6_country_txt', 'col_7_country_txt', 'col_0_targsubtype1_txt',\n",
      "       'col_1_targsubtype1_txt', 'col_2_targsubtype1_txt',\n",
      "       'col_3_targsubtype1_txt', 'col_4_targsubtype1_txt',\n",
      "       'col_5_targsubtype1_txt', 'col_6_targsubtype1_txt',\n",
      "       'col_7_targsubtype1_txt', 'col_0_natlty1_txt', 'col_1_natlty1_txt',\n",
      "       'col_2_natlty1_txt', 'col_3_natlty1_txt', 'col_4_natlty1_txt',\n",
      "       'col_5_natlty1_txt', 'col_6_natlty1_txt', 'col_7_natlty1_txt',\n",
      "       'attacktype1_txt_Assassination', 'attacktype1_txt_Bombing/Explosion',\n",
      "       'attacktype1_txt_Facility/Infrastructure Attack',\n",
      "       'attacktype1_txt_Hijacking',\n",
      "       'attacktype1_txt_Hostage Taking (Barricade Incident)',\n",
      "       'attacktype1_txt_Hostage Taking (Kidnapping)',\n",
      "       'attacktype1_txt_Unarmed Assault', 'attacktype1_txt_Unknown',\n",
      "       'city_Unknown', 'city_rare',\n",
      "       'propextent_txt_Major (likely >= $1 million but < $1 billion)',\n",
      "       'propextent_txt_Minor (likely < $1 million)', 'propextent_txt_Unknown',\n",
      "       'weapdetail_Explosive', 'weapdetail_Unknown', 'weapdetail_rare',\n",
      "       'corp1_Unknown', 'corp1_rare', 'provstate_Unknown', 'provstate_rare'],\n",
      "      dtype='object')\n",
      "(181691, 52)\n",
      "(181691, 31)\n"
     ]
    }
   ],
   "source": [
    "#one hot encoding of categorical columns\n",
    "obj_col=['attacktype1_txt','city','propextent_txt','weapdetail','corp1','provstate']\n",
    "df_h=pd.get_dummies(df_h, columns=obj_col, prefix=obj_col,drop_first=True)\n",
    "print(df_h.columns)\n",
    "print(df_h.shape)\n",
    "print(num_df.shape)"
   ]
  },
  {
   "cell_type": "code",
   "execution_count": 65,
   "metadata": {},
   "outputs": [],
   "source": [
    "\n",
    "class ChiSquare:\n",
    "    def __init__(self, dataframe):\n",
    "        self.df = dataframe\n",
    "        self.p = None #P-Value\n",
    "        self.chi2 = None #Chi Test Statistic\n",
    "        self.dof = None\n",
    "        self.dfTabular = None\n",
    "        self.dfExpected = None\n",
    "    def _print_chisquare_result(self, colX, alpha):\n",
    "        #result = \"\"\n",
    "        if self.p<alpha:\n",
    "            #result=\"{0} is IMPORTANT for Prediction\".format(colX)\n",
    "            #print(result)\n",
    "            return 0\n",
    "        else:\n",
    "            #result=\"{0} is NOT an important predictor. (Discard {0} from model)\".format(colX)\n",
    "            #print(result)\n",
    "            return 1\n",
    "            \n",
    "        \n",
    "    def TestIndependence(self,colX,colY, alpha=0.05):\n",
    "        X = self.df[colX].astype(str)\n",
    "        Y = self.df[colY].astype(str)\n",
    "        \n",
    "        self.dfObserved = pd.crosstab(Y,X) \n",
    "        chi2, p, dof, expected = stats.chi2_contingency(self.dfObserved.values)\n",
    "        self.p = p\n",
    "        self.chi2 = chi2\n",
    "        self.dof = dof \n",
    "        \n",
    "        self.dfExpected = pd.DataFrame(expected, columns=self.dfObserved.columns, index = self.dfObserved.index)\n",
    "        \n",
    "        output=self._print_chisquare_result(colX, alpha)\n",
    "        return output"
   ]
  },
  {
   "cell_type": "code",
   "execution_count": 66,
   "metadata": {},
   "outputs": [
    {
     "data": {
      "text/plain": [
       "(181691, 52)"
      ]
     },
     "execution_count": 66,
     "metadata": {},
     "output_type": "execute_result"
    }
   ],
   "source": [
    "df_h.shape"
   ]
  },
  {
   "cell_type": "code",
   "execution_count": 69,
   "metadata": {},
   "outputs": [
    {
     "data": {
      "text/plain": [
       "0                                                   rare\n",
       "1                                                   rare\n",
       "2                                                Unknown\n",
       "3                                                Unknown\n",
       "4                                                Unknown\n",
       "5                                                   rare\n",
       "6                                                   rare\n",
       "7                                                Unknown\n",
       "8                                                   rare\n",
       "9                                                   rare\n",
       "10                                                  rare\n",
       "11                                                  rare\n",
       "12                                               Unknown\n",
       "13                                                  rare\n",
       "14                                                  rare\n",
       "15                                                  rare\n",
       "16                                                  rare\n",
       "17                                                  rare\n",
       "18                                                  rare\n",
       "19                                                  rare\n",
       "20                                                  rare\n",
       "21                                                  rare\n",
       "22                                                  rare\n",
       "23                                                  rare\n",
       "24                                                  rare\n",
       "25                                               Unknown\n",
       "26                                               Unknown\n",
       "27                                                  rare\n",
       "28                                                  rare\n",
       "29                                                  rare\n",
       "                               ...                      \n",
       "181661                                           Unknown\n",
       "181662                           New People's Army (NPA)\n",
       "181663                                           Unknown\n",
       "181664                                           Unknown\n",
       "181665    Communist Party of India - Maoist (CPI-Maoist)\n",
       "181666                                        Boko Haram\n",
       "181667                                              rare\n",
       "181668                                           Unknown\n",
       "181669                                           Unknown\n",
       "181670       Islamic State of Iraq and the Levant (ISIL)\n",
       "181671       Islamic State of Iraq and the Levant (ISIL)\n",
       "181672                                              rare\n",
       "181673                                              rare\n",
       "181674       Islamic State of Iraq and the Levant (ISIL)\n",
       "181675                                        Al-Shabaab\n",
       "181676                                           Taliban\n",
       "181677                                              rare\n",
       "181678                                           Unknown\n",
       "181679       Islamic State of Iraq and the Levant (ISIL)\n",
       "181680                                        Al-Shabaab\n",
       "181681                                              rare\n",
       "181682                                           Unknown\n",
       "181683                                           Taliban\n",
       "181684                                              rare\n",
       "181685                                           Unknown\n",
       "181686                                        Al-Shabaab\n",
       "181687                                              rare\n",
       "181688                                              rare\n",
       "181689                                           Unknown\n",
       "181690                                           Unknown\n",
       "Name: gname, Length: 181691, dtype: object"
      ]
     },
     "execution_count": 69,
     "metadata": {},
     "output_type": "execute_result"
    }
   ],
   "source": [
    "label_df[:-2]"
   ]
  },
  {
   "cell_type": "code",
   "execution_count": 70,
   "metadata": {},
   "outputs": [],
   "source": [
    "df_h['Label']=label_df[:-2].values"
   ]
  },
  {
   "cell_type": "code",
   "execution_count": 71,
   "metadata": {},
   "outputs": [
    {
     "data": {
      "text/html": [
       "<div>\n",
       "<style scoped>\n",
       "    .dataframe tbody tr th:only-of-type {\n",
       "        vertical-align: middle;\n",
       "    }\n",
       "\n",
       "    .dataframe tbody tr th {\n",
       "        vertical-align: top;\n",
       "    }\n",
       "\n",
       "    .dataframe thead th {\n",
       "        text-align: right;\n",
       "    }\n",
       "</style>\n",
       "<table border=\"1\" class=\"dataframe\">\n",
       "  <thead>\n",
       "    <tr style=\"text-align: right;\">\n",
       "      <th></th>\n",
       "      <th>col_0</th>\n",
       "      <th>col_1</th>\n",
       "      <th>col_2</th>\n",
       "      <th>col_3</th>\n",
       "      <th>col_4</th>\n",
       "      <th>col_5</th>\n",
       "      <th>col_6</th>\n",
       "      <th>col_7</th>\n",
       "      <th>col_0_country_txt</th>\n",
       "      <th>col_1_country_txt</th>\n",
       "      <th>...</th>\n",
       "      <th>propextent_txt_Minor (likely &lt; $1 million)</th>\n",
       "      <th>propextent_txt_Unknown</th>\n",
       "      <th>weapdetail_Explosive</th>\n",
       "      <th>weapdetail_Unknown</th>\n",
       "      <th>weapdetail_rare</th>\n",
       "      <th>corp1_Unknown</th>\n",
       "      <th>corp1_rare</th>\n",
       "      <th>provstate_Unknown</th>\n",
       "      <th>provstate_rare</th>\n",
       "      <th>Label</th>\n",
       "    </tr>\n",
       "  </thead>\n",
       "  <tbody>\n",
       "    <tr>\n",
       "      <th>0</th>\n",
       "      <td>1</td>\n",
       "      <td>1</td>\n",
       "      <td>0</td>\n",
       "      <td>0</td>\n",
       "      <td>0</td>\n",
       "      <td>0</td>\n",
       "      <td>2</td>\n",
       "      <td>1</td>\n",
       "      <td>0</td>\n",
       "      <td>0</td>\n",
       "      <td>...</td>\n",
       "      <td>0</td>\n",
       "      <td>1</td>\n",
       "      <td>0</td>\n",
       "      <td>1</td>\n",
       "      <td>0</td>\n",
       "      <td>1</td>\n",
       "      <td>0</td>\n",
       "      <td>1</td>\n",
       "      <td>0</td>\n",
       "      <td>rare</td>\n",
       "    </tr>\n",
       "    <tr>\n",
       "      <th>1</th>\n",
       "      <td>1</td>\n",
       "      <td>1</td>\n",
       "      <td>1</td>\n",
       "      <td>0</td>\n",
       "      <td>0</td>\n",
       "      <td>0</td>\n",
       "      <td>2</td>\n",
       "      <td>0</td>\n",
       "      <td>0</td>\n",
       "      <td>1</td>\n",
       "      <td>...</td>\n",
       "      <td>0</td>\n",
       "      <td>1</td>\n",
       "      <td>0</td>\n",
       "      <td>1</td>\n",
       "      <td>0</td>\n",
       "      <td>0</td>\n",
       "      <td>1</td>\n",
       "      <td>0</td>\n",
       "      <td>1</td>\n",
       "      <td>rare</td>\n",
       "    </tr>\n",
       "    <tr>\n",
       "      <th>2</th>\n",
       "      <td>1</td>\n",
       "      <td>0</td>\n",
       "      <td>1</td>\n",
       "      <td>0</td>\n",
       "      <td>0</td>\n",
       "      <td>0</td>\n",
       "      <td>2</td>\n",
       "      <td>1</td>\n",
       "      <td>0</td>\n",
       "      <td>0</td>\n",
       "      <td>...</td>\n",
       "      <td>0</td>\n",
       "      <td>1</td>\n",
       "      <td>0</td>\n",
       "      <td>1</td>\n",
       "      <td>0</td>\n",
       "      <td>0</td>\n",
       "      <td>1</td>\n",
       "      <td>0</td>\n",
       "      <td>1</td>\n",
       "      <td>Unknown</td>\n",
       "    </tr>\n",
       "    <tr>\n",
       "      <th>3</th>\n",
       "      <td>1</td>\n",
       "      <td>1</td>\n",
       "      <td>0</td>\n",
       "      <td>0</td>\n",
       "      <td>1</td>\n",
       "      <td>1</td>\n",
       "      <td>1</td>\n",
       "      <td>0</td>\n",
       "      <td>1</td>\n",
       "      <td>0</td>\n",
       "      <td>...</td>\n",
       "      <td>0</td>\n",
       "      <td>1</td>\n",
       "      <td>1</td>\n",
       "      <td>0</td>\n",
       "      <td>0</td>\n",
       "      <td>1</td>\n",
       "      <td>0</td>\n",
       "      <td>0</td>\n",
       "      <td>1</td>\n",
       "      <td>Unknown</td>\n",
       "    </tr>\n",
       "    <tr>\n",
       "      <th>4</th>\n",
       "      <td>1</td>\n",
       "      <td>1</td>\n",
       "      <td>0</td>\n",
       "      <td>1</td>\n",
       "      <td>0</td>\n",
       "      <td>0</td>\n",
       "      <td>1</td>\n",
       "      <td>1</td>\n",
       "      <td>0</td>\n",
       "      <td>0</td>\n",
       "      <td>...</td>\n",
       "      <td>0</td>\n",
       "      <td>1</td>\n",
       "      <td>0</td>\n",
       "      <td>0</td>\n",
       "      <td>1</td>\n",
       "      <td>1</td>\n",
       "      <td>0</td>\n",
       "      <td>0</td>\n",
       "      <td>1</td>\n",
       "      <td>Unknown</td>\n",
       "    </tr>\n",
       "  </tbody>\n",
       "</table>\n",
       "<p>5 rows × 53 columns</p>\n",
       "</div>"
      ],
      "text/plain": [
       "   col_0  col_1  col_2  col_3  col_4  col_5  col_6  col_7  col_0_country_txt  \\\n",
       "0      1      1      0      0      0      0      2      1                  0   \n",
       "1      1      1      1      0      0      0      2      0                  0   \n",
       "2      1      0      1      0      0      0      2      1                  0   \n",
       "3      1      1      0      0      1      1      1      0                  1   \n",
       "4      1      1      0      1      0      0      1      1                  0   \n",
       "\n",
       "   col_1_country_txt   ...     propextent_txt_Minor (likely < $1 million)  \\\n",
       "0                  0   ...                                              0   \n",
       "1                  1   ...                                              0   \n",
       "2                  0   ...                                              0   \n",
       "3                  0   ...                                              0   \n",
       "4                  0   ...                                              0   \n",
       "\n",
       "   propextent_txt_Unknown  weapdetail_Explosive  weapdetail_Unknown  \\\n",
       "0                       1                     0                   1   \n",
       "1                       1                     0                   1   \n",
       "2                       1                     0                   1   \n",
       "3                       1                     1                   0   \n",
       "4                       1                     0                   0   \n",
       "\n",
       "   weapdetail_rare  corp1_Unknown  corp1_rare  provstate_Unknown  \\\n",
       "0                0              1           0                  1   \n",
       "1                0              0           1                  0   \n",
       "2                0              0           1                  0   \n",
       "3                0              1           0                  0   \n",
       "4                1              1           0                  0   \n",
       "\n",
       "   provstate_rare    Label  \n",
       "0               0     rare  \n",
       "1               1     rare  \n",
       "2               1  Unknown  \n",
       "3               1  Unknown  \n",
       "4               1  Unknown  \n",
       "\n",
       "[5 rows x 53 columns]"
      ]
     },
     "execution_count": 71,
     "metadata": {},
     "output_type": "execute_result"
    }
   ],
   "source": [
    "df_h.head()"
   ]
  },
  {
   "cell_type": "code",
   "execution_count": 72,
   "metadata": {},
   "outputs": [
    {
     "data": {
      "text/plain": [
       "Unknown                                             82782\n",
       "rare                                                58064\n",
       "Taliban                                              7478\n",
       "Islamic State of Iraq and the Levant (ISIL)          5613\n",
       "Shining Path (SL)                                    4555\n",
       "Farabundo Marti National Liberation Front (FMLN)     3351\n",
       "Al-Shabaab                                           3288\n",
       "New People's Army (NPA)                              2772\n",
       "Irish Republican Army (IRA)                          2671\n",
       "Revolutionary Armed Forces of Colombia (FARC)        2487\n",
       "Boko Haram                                           2418\n",
       "Kurdistan Workers' Party (PKK)                       2310\n",
       "Basque Fatherland and Freedom (ETA)                  2024\n",
       "Communist Party of India - Maoist (CPI-Maoist)       1878\n",
       "Name: Label, dtype: int64"
      ]
     },
     "execution_count": 72,
     "metadata": {},
     "output_type": "execute_result"
    }
   ],
   "source": [
    "df_h['Label'].value_counts()"
   ]
  },
  {
   "cell_type": "code",
   "execution_count": 73,
   "metadata": {},
   "outputs": [],
   "source": [
    "#Initialize ChiSquare Class\n",
    "cT = ChiSquare(df_h)"
   ]
  },
  {
   "cell_type": "code",
   "execution_count": 74,
   "metadata": {},
   "outputs": [
    {
     "data": {
      "text/plain": [
       "[]"
      ]
     },
     "execution_count": 74,
     "metadata": {},
     "output_type": "execute_result"
    }
   ],
   "source": [
    "l_exclude=[]\n",
    "for var in df_h.columns.tolist()[:-1]:\n",
    "    if cT.TestIndependence(colX=var,colY=\"Label\" )==1:\n",
    "        l_exclude.append(var)\n",
    "l_exclude"
   ]
  },
  {
   "cell_type": "code",
   "execution_count": 75,
   "metadata": {},
   "outputs": [
    {
     "data": {
      "text/plain": [
       "Index(['multiple', 'nwoundus', 'nperpcap', 'nkillter', 'INT_LOG', 'crit2',\n",
       "       'INT_IDEO', 'doubtterr', 'ishostkid', 'crit1', 'nperps', 'iday',\n",
       "       'crit3', 'success', 'extended', 'nkill', 'imonth', 'guncertain1',\n",
       "       'claimed', 'nwoundte', 'nkillus', 'propvalue', 'INT_ANY', 'individual',\n",
       "       'vicinity', 'nwound', 'INT_MISC', 'ransom', 'specificity', 'property',\n",
       "       'suicide'],\n",
       "      dtype='object')"
      ]
     },
     "execution_count": 75,
     "metadata": {},
     "output_type": "execute_result"
    }
   ],
   "source": [
    "num_df.columns"
   ]
  },
  {
   "cell_type": "code",
   "execution_count": 76,
   "metadata": {},
   "outputs": [
    {
     "data": {
      "text/html": [
       "<div>\n",
       "<style scoped>\n",
       "    .dataframe tbody tr th:only-of-type {\n",
       "        vertical-align: middle;\n",
       "    }\n",
       "\n",
       "    .dataframe tbody tr th {\n",
       "        vertical-align: top;\n",
       "    }\n",
       "\n",
       "    .dataframe thead th {\n",
       "        text-align: right;\n",
       "    }\n",
       "</style>\n",
       "<table border=\"1\" class=\"dataframe\">\n",
       "  <thead>\n",
       "    <tr style=\"text-align: right;\">\n",
       "      <th></th>\n",
       "      <th>multiple</th>\n",
       "      <th>nwoundus</th>\n",
       "      <th>nperpcap</th>\n",
       "      <th>nkillter</th>\n",
       "      <th>INT_LOG</th>\n",
       "      <th>crit2</th>\n",
       "      <th>INT_IDEO</th>\n",
       "      <th>doubtterr</th>\n",
       "      <th>ishostkid</th>\n",
       "      <th>crit1</th>\n",
       "      <th>...</th>\n",
       "      <th>propvalue</th>\n",
       "      <th>INT_ANY</th>\n",
       "      <th>individual</th>\n",
       "      <th>vicinity</th>\n",
       "      <th>nwound</th>\n",
       "      <th>INT_MISC</th>\n",
       "      <th>ransom</th>\n",
       "      <th>specificity</th>\n",
       "      <th>property</th>\n",
       "      <th>suicide</th>\n",
       "    </tr>\n",
       "  </thead>\n",
       "  <tbody>\n",
       "    <tr>\n",
       "      <th>0</th>\n",
       "      <td>0.0</td>\n",
       "      <td>0.0</td>\n",
       "      <td>0.19604</td>\n",
       "      <td>0.0</td>\n",
       "      <td>0.9</td>\n",
       "      <td>1.0</td>\n",
       "      <td>0.9</td>\n",
       "      <td>0.9</td>\n",
       "      <td>0.9</td>\n",
       "      <td>1.0</td>\n",
       "      <td>...</td>\n",
       "      <td>3.666667e-08</td>\n",
       "      <td>0.9</td>\n",
       "      <td>0.0</td>\n",
       "      <td>0.9</td>\n",
       "      <td>0.0</td>\n",
       "      <td>0.9</td>\n",
       "      <td>0.9</td>\n",
       "      <td>0.2</td>\n",
       "      <td>0.9</td>\n",
       "      <td>0.0</td>\n",
       "    </tr>\n",
       "    <tr>\n",
       "      <th>1</th>\n",
       "      <td>0.0</td>\n",
       "      <td>0.0</td>\n",
       "      <td>0.19604</td>\n",
       "      <td>0.0</td>\n",
       "      <td>0.9</td>\n",
       "      <td>1.0</td>\n",
       "      <td>1.0</td>\n",
       "      <td>0.9</td>\n",
       "      <td>1.0</td>\n",
       "      <td>1.0</td>\n",
       "      <td>...</td>\n",
       "      <td>3.666667e-08</td>\n",
       "      <td>1.0</td>\n",
       "      <td>0.0</td>\n",
       "      <td>0.9</td>\n",
       "      <td>0.0</td>\n",
       "      <td>1.0</td>\n",
       "      <td>1.0</td>\n",
       "      <td>0.2</td>\n",
       "      <td>0.9</td>\n",
       "      <td>0.0</td>\n",
       "    </tr>\n",
       "    <tr>\n",
       "      <th>2</th>\n",
       "      <td>0.0</td>\n",
       "      <td>0.0</td>\n",
       "      <td>0.19604</td>\n",
       "      <td>0.0</td>\n",
       "      <td>0.0</td>\n",
       "      <td>1.0</td>\n",
       "      <td>0.0</td>\n",
       "      <td>0.9</td>\n",
       "      <td>0.9</td>\n",
       "      <td>1.0</td>\n",
       "      <td>...</td>\n",
       "      <td>3.666667e-08</td>\n",
       "      <td>1.0</td>\n",
       "      <td>0.0</td>\n",
       "      <td>0.9</td>\n",
       "      <td>0.0</td>\n",
       "      <td>1.0</td>\n",
       "      <td>0.9</td>\n",
       "      <td>0.8</td>\n",
       "      <td>0.9</td>\n",
       "      <td>0.0</td>\n",
       "    </tr>\n",
       "    <tr>\n",
       "      <th>3</th>\n",
       "      <td>0.0</td>\n",
       "      <td>0.0</td>\n",
       "      <td>0.19604</td>\n",
       "      <td>0.0</td>\n",
       "      <td>0.0</td>\n",
       "      <td>1.0</td>\n",
       "      <td>0.0</td>\n",
       "      <td>0.9</td>\n",
       "      <td>0.9</td>\n",
       "      <td>1.0</td>\n",
       "      <td>...</td>\n",
       "      <td>3.666667e-08</td>\n",
       "      <td>1.0</td>\n",
       "      <td>0.0</td>\n",
       "      <td>0.9</td>\n",
       "      <td>0.0</td>\n",
       "      <td>1.0</td>\n",
       "      <td>0.9</td>\n",
       "      <td>0.2</td>\n",
       "      <td>1.0</td>\n",
       "      <td>0.0</td>\n",
       "    </tr>\n",
       "    <tr>\n",
       "      <th>4</th>\n",
       "      <td>0.0</td>\n",
       "      <td>0.0</td>\n",
       "      <td>0.19604</td>\n",
       "      <td>0.0</td>\n",
       "      <td>0.0</td>\n",
       "      <td>1.0</td>\n",
       "      <td>0.0</td>\n",
       "      <td>0.0</td>\n",
       "      <td>0.9</td>\n",
       "      <td>1.0</td>\n",
       "      <td>...</td>\n",
       "      <td>3.666667e-08</td>\n",
       "      <td>1.0</td>\n",
       "      <td>0.0</td>\n",
       "      <td>0.9</td>\n",
       "      <td>0.0</td>\n",
       "      <td>1.0</td>\n",
       "      <td>0.9</td>\n",
       "      <td>0.2</td>\n",
       "      <td>1.0</td>\n",
       "      <td>0.0</td>\n",
       "    </tr>\n",
       "  </tbody>\n",
       "</table>\n",
       "<p>5 rows × 31 columns</p>\n",
       "</div>"
      ],
      "text/plain": [
       "   multiple  nwoundus  nperpcap  nkillter  INT_LOG  crit2  INT_IDEO  \\\n",
       "0       0.0       0.0   0.19604       0.0      0.9    1.0       0.9   \n",
       "1       0.0       0.0   0.19604       0.0      0.9    1.0       1.0   \n",
       "2       0.0       0.0   0.19604       0.0      0.0    1.0       0.0   \n",
       "3       0.0       0.0   0.19604       0.0      0.0    1.0       0.0   \n",
       "4       0.0       0.0   0.19604       0.0      0.0    1.0       0.0   \n",
       "\n",
       "   doubtterr  ishostkid  crit1   ...        propvalue  INT_ANY  individual  \\\n",
       "0        0.9        0.9    1.0   ...     3.666667e-08      0.9         0.0   \n",
       "1        0.9        1.0    1.0   ...     3.666667e-08      1.0         0.0   \n",
       "2        0.9        0.9    1.0   ...     3.666667e-08      1.0         0.0   \n",
       "3        0.9        0.9    1.0   ...     3.666667e-08      1.0         0.0   \n",
       "4        0.0        0.9    1.0   ...     3.666667e-08      1.0         0.0   \n",
       "\n",
       "   vicinity  nwound  INT_MISC  ransom  specificity  property  suicide  \n",
       "0       0.9     0.0       0.9     0.9          0.2       0.9      0.0  \n",
       "1       0.9     0.0       1.0     1.0          0.2       0.9      0.0  \n",
       "2       0.9     0.0       1.0     0.9          0.8       0.9      0.0  \n",
       "3       0.9     0.0       1.0     0.9          0.2       1.0      0.0  \n",
       "4       0.9     0.0       1.0     0.9          0.2       1.0      0.0  \n",
       "\n",
       "[5 rows x 31 columns]"
      ]
     },
     "execution_count": 76,
     "metadata": {},
     "output_type": "execute_result"
    }
   ],
   "source": [
    "from sklearn.preprocessing import MinMaxScaler\n",
    "sc_X = MinMaxScaler()\n",
    "X= sc_X.fit_transform(num_df.values)\n",
    "#scaled df numeric\n",
    "num_df=pd.DataFrame(X,columns=num_df.columns.tolist())\n",
    "num_df.head()"
   ]
  },
  {
   "cell_type": "code",
   "execution_count": 77,
   "metadata": {},
   "outputs": [],
   "source": [
    "df= pd.concat([num_df,df_h],axis=1)"
   ]
  },
  {
   "cell_type": "code",
   "execution_count": 78,
   "metadata": {},
   "outputs": [
    {
     "data": {
      "text/plain": [
       "['INT_IDEO',\n",
       " 'col_2_natlty1_txt',\n",
       " 'col_3_natlty1_txt',\n",
       " 'propextent_txt_Unknown']"
      ]
     },
     "execution_count": 78,
     "metadata": {},
     "output_type": "execute_result"
    }
   ],
   "source": [
    "#drop highly correlated features\n",
    "#Create correlation matrix\n",
    "corr_matrix = df.corr().abs()\n",
    "# Select upper triangle of correlation matrix\n",
    "upper = corr_matrix.where(np.triu(np.ones(corr_matrix.shape), k=1).astype(np.bool))\n",
    "# Find index of feature columns with correlation greater than 0.9\n",
    "to_drop = [column for column in upper.columns if any(upper[column] > 0.9)]\n",
    "to_drop"
   ]
  },
  {
   "cell_type": "code",
   "execution_count": 79,
   "metadata": {},
   "outputs": [
    {
     "data": {
      "text/html": [
       "<div>\n",
       "<style scoped>\n",
       "    .dataframe tbody tr th:only-of-type {\n",
       "        vertical-align: middle;\n",
       "    }\n",
       "\n",
       "    .dataframe tbody tr th {\n",
       "        vertical-align: top;\n",
       "    }\n",
       "\n",
       "    .dataframe thead th {\n",
       "        text-align: right;\n",
       "    }\n",
       "</style>\n",
       "<table border=\"1\" class=\"dataframe\">\n",
       "  <thead>\n",
       "    <tr style=\"text-align: right;\">\n",
       "      <th></th>\n",
       "      <th>multiple</th>\n",
       "      <th>nwoundus</th>\n",
       "      <th>nperpcap</th>\n",
       "      <th>nkillter</th>\n",
       "      <th>INT_LOG</th>\n",
       "      <th>crit2</th>\n",
       "      <th>doubtterr</th>\n",
       "      <th>ishostkid</th>\n",
       "      <th>crit1</th>\n",
       "      <th>nperps</th>\n",
       "      <th>...</th>\n",
       "      <th>propextent_txt_Major (likely &gt;= $1 million but &lt; $1 billion)</th>\n",
       "      <th>propextent_txt_Minor (likely &lt; $1 million)</th>\n",
       "      <th>weapdetail_Explosive</th>\n",
       "      <th>weapdetail_Unknown</th>\n",
       "      <th>weapdetail_rare</th>\n",
       "      <th>corp1_Unknown</th>\n",
       "      <th>corp1_rare</th>\n",
       "      <th>provstate_Unknown</th>\n",
       "      <th>provstate_rare</th>\n",
       "      <th>Label</th>\n",
       "    </tr>\n",
       "  </thead>\n",
       "  <tbody>\n",
       "    <tr>\n",
       "      <th>0</th>\n",
       "      <td>0.0</td>\n",
       "      <td>0.0</td>\n",
       "      <td>0.19604</td>\n",
       "      <td>0.0</td>\n",
       "      <td>0.9</td>\n",
       "      <td>1.0</td>\n",
       "      <td>0.9</td>\n",
       "      <td>0.9</td>\n",
       "      <td>1.0</td>\n",
       "      <td>0.003944</td>\n",
       "      <td>...</td>\n",
       "      <td>0</td>\n",
       "      <td>0</td>\n",
       "      <td>0</td>\n",
       "      <td>1</td>\n",
       "      <td>0</td>\n",
       "      <td>1</td>\n",
       "      <td>0</td>\n",
       "      <td>1</td>\n",
       "      <td>0</td>\n",
       "      <td>rare</td>\n",
       "    </tr>\n",
       "    <tr>\n",
       "      <th>1</th>\n",
       "      <td>0.0</td>\n",
       "      <td>0.0</td>\n",
       "      <td>0.19604</td>\n",
       "      <td>0.0</td>\n",
       "      <td>0.9</td>\n",
       "      <td>1.0</td>\n",
       "      <td>0.9</td>\n",
       "      <td>1.0</td>\n",
       "      <td>1.0</td>\n",
       "      <td>0.004223</td>\n",
       "      <td>...</td>\n",
       "      <td>0</td>\n",
       "      <td>0</td>\n",
       "      <td>0</td>\n",
       "      <td>1</td>\n",
       "      <td>0</td>\n",
       "      <td>0</td>\n",
       "      <td>1</td>\n",
       "      <td>0</td>\n",
       "      <td>1</td>\n",
       "      <td>rare</td>\n",
       "    </tr>\n",
       "    <tr>\n",
       "      <th>2</th>\n",
       "      <td>0.0</td>\n",
       "      <td>0.0</td>\n",
       "      <td>0.19604</td>\n",
       "      <td>0.0</td>\n",
       "      <td>0.0</td>\n",
       "      <td>1.0</td>\n",
       "      <td>0.9</td>\n",
       "      <td>0.9</td>\n",
       "      <td>1.0</td>\n",
       "      <td>0.003944</td>\n",
       "      <td>...</td>\n",
       "      <td>0</td>\n",
       "      <td>0</td>\n",
       "      <td>0</td>\n",
       "      <td>1</td>\n",
       "      <td>0</td>\n",
       "      <td>0</td>\n",
       "      <td>1</td>\n",
       "      <td>0</td>\n",
       "      <td>1</td>\n",
       "      <td>Unknown</td>\n",
       "    </tr>\n",
       "    <tr>\n",
       "      <th>3</th>\n",
       "      <td>0.0</td>\n",
       "      <td>0.0</td>\n",
       "      <td>0.19604</td>\n",
       "      <td>0.0</td>\n",
       "      <td>0.0</td>\n",
       "      <td>1.0</td>\n",
       "      <td>0.9</td>\n",
       "      <td>0.9</td>\n",
       "      <td>1.0</td>\n",
       "      <td>0.003944</td>\n",
       "      <td>...</td>\n",
       "      <td>0</td>\n",
       "      <td>0</td>\n",
       "      <td>1</td>\n",
       "      <td>0</td>\n",
       "      <td>0</td>\n",
       "      <td>1</td>\n",
       "      <td>0</td>\n",
       "      <td>0</td>\n",
       "      <td>1</td>\n",
       "      <td>Unknown</td>\n",
       "    </tr>\n",
       "    <tr>\n",
       "      <th>4</th>\n",
       "      <td>0.0</td>\n",
       "      <td>0.0</td>\n",
       "      <td>0.19604</td>\n",
       "      <td>0.0</td>\n",
       "      <td>0.0</td>\n",
       "      <td>1.0</td>\n",
       "      <td>0.0</td>\n",
       "      <td>0.9</td>\n",
       "      <td>1.0</td>\n",
       "      <td>0.003944</td>\n",
       "      <td>...</td>\n",
       "      <td>0</td>\n",
       "      <td>0</td>\n",
       "      <td>0</td>\n",
       "      <td>0</td>\n",
       "      <td>1</td>\n",
       "      <td>1</td>\n",
       "      <td>0</td>\n",
       "      <td>0</td>\n",
       "      <td>1</td>\n",
       "      <td>Unknown</td>\n",
       "    </tr>\n",
       "  </tbody>\n",
       "</table>\n",
       "<p>5 rows × 80 columns</p>\n",
       "</div>"
      ],
      "text/plain": [
       "   multiple  nwoundus  nperpcap  nkillter  INT_LOG  crit2  doubtterr  \\\n",
       "0       0.0       0.0   0.19604       0.0      0.9    1.0        0.9   \n",
       "1       0.0       0.0   0.19604       0.0      0.9    1.0        0.9   \n",
       "2       0.0       0.0   0.19604       0.0      0.0    1.0        0.9   \n",
       "3       0.0       0.0   0.19604       0.0      0.0    1.0        0.9   \n",
       "4       0.0       0.0   0.19604       0.0      0.0    1.0        0.0   \n",
       "\n",
       "   ishostkid  crit1    nperps   ...     \\\n",
       "0        0.9    1.0  0.003944   ...      \n",
       "1        1.0    1.0  0.004223   ...      \n",
       "2        0.9    1.0  0.003944   ...      \n",
       "3        0.9    1.0  0.003944   ...      \n",
       "4        0.9    1.0  0.003944   ...      \n",
       "\n",
       "   propextent_txt_Major (likely >= $1 million but < $1 billion)  \\\n",
       "0                                                  0              \n",
       "1                                                  0              \n",
       "2                                                  0              \n",
       "3                                                  0              \n",
       "4                                                  0              \n",
       "\n",
       "   propextent_txt_Minor (likely < $1 million)  weapdetail_Explosive  \\\n",
       "0                                           0                     0   \n",
       "1                                           0                     0   \n",
       "2                                           0                     0   \n",
       "3                                           0                     1   \n",
       "4                                           0                     0   \n",
       "\n",
       "   weapdetail_Unknown  weapdetail_rare  corp1_Unknown  corp1_rare  \\\n",
       "0                   1                0              1           0   \n",
       "1                   1                0              0           1   \n",
       "2                   1                0              0           1   \n",
       "3                   0                0              1           0   \n",
       "4                   0                1              1           0   \n",
       "\n",
       "   provstate_Unknown  provstate_rare    Label  \n",
       "0                  1               0     rare  \n",
       "1                  0               1     rare  \n",
       "2                  0               1  Unknown  \n",
       "3                  0               1  Unknown  \n",
       "4                  0               1  Unknown  \n",
       "\n",
       "[5 rows x 80 columns]"
      ]
     },
     "execution_count": 79,
     "metadata": {},
     "output_type": "execute_result"
    }
   ],
   "source": [
    "# Drop features \n",
    "df.drop(to_drop, axis=1, inplace=True)\n",
    "df.head()"
   ]
  },
  {
   "cell_type": "code",
   "execution_count": 80,
   "metadata": {},
   "outputs": [],
   "source": [
    "df.to_csv(r'C:\\Users\\kumar.vishwesh\\Music\\KV\\KV plan of attack\\project\\df.csv')"
   ]
  },
  {
   "cell_type": "code",
   "execution_count": 82,
   "metadata": {},
   "outputs": [
    {
     "data": {
      "text/plain": [
       "(181691, 80)"
      ]
     },
     "execution_count": 82,
     "metadata": {},
     "output_type": "execute_result"
    }
   ],
   "source": [
    "df.shape"
   ]
  },
  {
   "cell_type": "code",
   "execution_count": 83,
   "metadata": {},
   "outputs": [],
   "source": [
    "from sklearn.model_selection import train_test_split\n",
    "X_df = df.iloc[:, :-1]\n",
    "y = df.iloc[:, 79]"
   ]
  },
  {
   "cell_type": "code",
   "execution_count": 84,
   "metadata": {},
   "outputs": [],
   "source": [
    "# convert integers to dummy variables (i.e. one hot encoded)\n",
    "from keras.utils import np_utils\n",
    "from sklearn.preprocessing import LabelEncoder\n",
    "encoder = LabelEncoder()\n",
    "encoder.fit(y)\n",
    "encoded_Y = encoder.transform(y)\n",
    "# convert integers to dummy variables (i.e. one hot encoded)\n",
    "y_df = np_utils.to_categorical(encoded_Y)"
   ]
  },
  {
   "cell_type": "code",
   "execution_count": 85,
   "metadata": {},
   "outputs": [
    {
     "data": {
      "text/plain": [
       "14"
      ]
     },
     "execution_count": 85,
     "metadata": {},
     "output_type": "execute_result"
    }
   ],
   "source": [
    "len(y_df[0])"
   ]
  },
  {
   "cell_type": "code",
   "execution_count": 86,
   "metadata": {},
   "outputs": [],
   "source": [
    "train_x, test_x, train_y, test_y = train_test_split(X_df,y_df,test_size = 0.2, random_state = 0)"
   ]
  },
  {
   "cell_type": "code",
   "execution_count": 88,
   "metadata": {},
   "outputs": [],
   "source": [
    "# create model\n",
    "model = Sequential()\n",
    "model.add(Dense(47, input_dim=79, activation='relu'))\n",
    "model.add(Dense(14, activation='softmax'))\n",
    "# Compile model\n",
    "model.compile(loss='categorical_crossentropy', optimizer='adam', metrics=['accuracy'])"
   ]
  },
  {
   "cell_type": "code",
   "execution_count": 89,
   "metadata": {},
   "outputs": [
    {
     "name": "stdout",
     "output_type": "stream",
     "text": [
      "Epoch 1/100\n",
      "145352/145352 [==============================] - 26s 182us/step - loss: 0.4671 - acc: 0.8229\n",
      "Epoch 2/100\n",
      "145352/145352 [==============================] - 28s 190us/step - loss: 0.3580 - acc: 0.8565\n",
      "Epoch 3/100\n",
      "145352/145352 [==============================] - 27s 184us/step - loss: 0.3391 - acc: 0.8628\n",
      "Epoch 4/100\n",
      "145352/145352 [==============================] - 29s 203us/step - loss: 0.3293 - acc: 0.8679\n",
      "Epoch 5/100\n",
      "145352/145352 [==============================] - 33s 227us/step - loss: 0.3212 - acc: 0.8712\n",
      "Epoch 6/100\n",
      "145352/145352 [==============================] - 29s 199us/step - loss: 0.3168 - acc: 0.8727\n",
      "Epoch 7/100\n",
      "145352/145352 [==============================] - 20s 136us/step - loss: 0.3111 - acc: 0.8753\n",
      "Epoch 8/100\n",
      "145352/145352 [==============================] - 19s 133us/step - loss: 0.3072 - acc: 0.8761\n",
      "Epoch 9/100\n",
      "145352/145352 [==============================] - 17s 115us/step - loss: 0.3030 - acc: 0.8784\n",
      "Epoch 10/100\n",
      "145352/145352 [==============================] - 17s 117us/step - loss: 0.2998 - acc: 0.8800\n",
      "Epoch 11/100\n",
      "145352/145352 [==============================] - 17s 117us/step - loss: 0.2969 - acc: 0.8813\n",
      "Epoch 12/100\n",
      "145352/145352 [==============================] - 25s 175us/step - loss: 0.2942 - acc: 0.8821\n",
      "Epoch 13/100\n",
      "145352/145352 [==============================] - 28s 193us/step - loss: 0.2919 - acc: 0.8842\n",
      "Epoch 14/100\n",
      "145352/145352 [==============================] - 29s 198us/step - loss: 0.2887 - acc: 0.8837\n",
      "Epoch 15/100\n",
      "145352/145352 [==============================] - 29s 200us/step - loss: 0.2874 - acc: 0.88464s - loss: 0.2866 - ETA:  - ETA: 1s -\n",
      "Epoch 16/100\n",
      "145352/145352 [==============================] - 29s 199us/step - loss: 0.2856 - acc: 0.88663s - loss: 0.2851 - - ETA: 0s - loss: 0.2855 - \n",
      "Epoch 17/100\n",
      "145352/145352 [==============================] - 28s 193us/step - loss: 0.2841 - acc: 0.8865\n",
      "Epoch 18/100\n",
      "145352/145352 [==============================] - 26s 180us/step - loss: 0.2824 - acc: 0.88721s -\n",
      "Epoch 19/100\n",
      "145352/145352 [==============================] - 26s 176us/step - loss: 0.2816 - acc: 0.8873\n",
      "Epoch 20/100\n",
      "145352/145352 [==============================] - 27s 187us/step - loss: 0.2814 - acc: 0.88751\n",
      "Epoch 21/100\n",
      "145352/145352 [==============================] - 27s 183us/step - loss: 0.2798 - acc: 0.8876\n",
      "Epoch 22/100\n",
      "145352/145352 [==============================] - 26s 182us/step - loss: 0.2783 - acc: 0.8888\n",
      "Epoch 23/100\n",
      "145352/145352 [==============================] - 27s 184us/step - loss: 0.2781 - acc: 0.8886\n",
      "Epoch 24/100\n",
      "145352/145352 [==============================] - 27s 186us/step - loss: 0.2764 - acc: 0.8894\n",
      "Epoch 25/100\n",
      "145352/145352 [==============================] - 25s 175us/step - loss: 0.2757 - acc: 0.8895\n",
      "Epoch 26/100\n",
      "145352/145352 [==============================] - 26s 180us/step - loss: 0.2754 - acc: 0.88963s\n",
      "Epoch 27/100\n",
      "145352/145352 [==============================] - 26s 180us/step - loss: 0.2749 - acc: 0.8901\n",
      "Epoch 28/100\n",
      "145352/145352 [==============================] - 25s 174us/step - loss: 0.2741 - acc: 0.88953s - loss: 0.274 - ETA: 1s -\n",
      "Epoch 29/100\n",
      "145352/145352 [==============================] - 26s 178us/step - loss: 0.2737 - acc: 0.8898\n",
      "Epoch 30/100\n",
      "145352/145352 [==============================] - 26s 176us/step - loss: 0.2732 - acc: 0.8899\n",
      "Epoch 31/100\n",
      "145352/145352 [==============================] - 25s 170us/step - loss: 0.2722 - acc: 0.8904\n",
      "Epoch 32/100\n",
      "145352/145352 [==============================] - 26s 180us/step - loss: 0.2725 - acc: 0.8906\n",
      "Epoch 33/100\n",
      "145352/145352 [==============================] - 26s 178us/step - loss: 0.2715 - acc: 0.8907\n",
      "Epoch 34/100\n",
      "145352/145352 [==============================] - 26s 176us/step - loss: 0.2715 - acc: 0.8911\n",
      "Epoch 35/100\n",
      "145352/145352 [==============================] - 19s 134us/step - loss: 0.2703 - acc: 0.8918\n",
      "Epoch 36/100\n",
      "145352/145352 [==============================] - 18s 126us/step - loss: 0.2704 - acc: 0.8923\n",
      "Epoch 37/100\n",
      "145352/145352 [==============================] - 20s 139us/step - loss: 0.2701 - acc: 0.8923\n",
      "Epoch 38/100\n",
      "145352/145352 [==============================] - 20s 141us/step - loss: 0.2687 - acc: 0.8920\n",
      "Epoch 39/100\n",
      "145352/145352 [==============================] - 18s 125us/step - loss: 0.2686 - acc: 0.8920\n",
      "Epoch 40/100\n",
      "145352/145352 [==============================] - 18s 126us/step - loss: 0.2688 - acc: 0.8925\n",
      "Epoch 41/100\n",
      "145352/145352 [==============================] - 19s 134us/step - loss: 0.2680 - acc: 0.8922\n",
      "Epoch 42/100\n",
      "145352/145352 [==============================] - 17s 120us/step - loss: 0.2676 - acc: 0.8930\n",
      "Epoch 43/100\n",
      "145352/145352 [==============================] - 18s 121us/step - loss: 0.2676 - acc: 0.8926\n",
      "Epoch 44/100\n",
      "145352/145352 [==============================] - 20s 135us/step - loss: 0.2668 - acc: 0.8933\n",
      "Epoch 45/100\n",
      "145352/145352 [==============================] - 24s 164us/step - loss: 0.2668 - acc: 0.8930\n",
      "Epoch 46/100\n",
      "145352/145352 [==============================] - 20s 134us/step - loss: 0.2666 - acc: 0.8930\n",
      "Epoch 47/100\n",
      "145352/145352 [==============================] - 18s 124us/step - loss: 0.2664 - acc: 0.8931\n",
      "Epoch 48/100\n",
      "145352/145352 [==============================] - 19s 129us/step - loss: 0.2659 - acc: 0.8928\n",
      "Epoch 49/100\n",
      "145352/145352 [==============================] - 19s 134us/step - loss: 0.2657 - acc: 0.8939\n",
      "Epoch 50/100\n",
      "145352/145352 [==============================] - 20s 137us/step - loss: 0.2648 - acc: 0.8944\n",
      "Epoch 51/100\n",
      "145352/145352 [==============================] - 25s 173us/step - loss: 0.2643 - acc: 0.8943\n",
      "Epoch 52/100\n",
      "145352/145352 [==============================] - 20s 139us/step - loss: 0.2647 - acc: 0.8943\n",
      "Epoch 53/100\n",
      "145352/145352 [==============================] - 21s 147us/step - loss: 0.2646 - acc: 0.8936 0s - loss: 0.2649 - acc\n",
      "Epoch 54/100\n",
      "145352/145352 [==============================] - 26s 178us/step - loss: 0.2642 - acc: 0.8943\n",
      "Epoch 55/100\n",
      "145352/145352 [==============================] - 16s 110us/step - loss: 0.2636 - acc: 0.8940\n",
      "Epoch 56/100\n",
      "145352/145352 [==============================] - 16s 109us/step - loss: 0.2633 - acc: 0.89441s - \n",
      "Epoch 57/100\n",
      "145352/145352 [==============================] - 17s 116us/step - loss: 0.2631 - acc: 0.8949\n",
      "Epoch 58/100\n",
      "145352/145352 [==============================] - 17s 118us/step - loss: 0.2626 - acc: 0.8946\n",
      "Epoch 59/100\n",
      "145352/145352 [==============================] - 15s 101us/step - loss: 0.2629 - acc: 0.8943\n",
      "Epoch 60/100\n",
      "145352/145352 [==============================] - 14s 94us/step - loss: 0.2621 - acc: 0.8958\n",
      "Epoch 61/100\n",
      "145352/145352 [==============================] - 15s 102us/step - loss: 0.2620 - acc: 0.8954\n",
      "Epoch 62/100\n",
      "145352/145352 [==============================] - 14s 98us/step - loss: 0.2615 - acc: 0.8947\n",
      "Epoch 63/100\n",
      "145352/145352 [==============================] - 14s 94us/step - loss: 0.2616 - acc: 0.8950\n",
      "Epoch 64/100\n",
      "145352/145352 [==============================] - 12s 86us/step - loss: 0.2617 - acc: 0.8952\n",
      "Epoch 65/100\n",
      "145352/145352 [==============================] - 13s 91us/step - loss: 0.2615 - acc: 0.8953\n",
      "Epoch 66/100\n",
      "145352/145352 [==============================] - 13s 90us/step - loss: 0.2607 - acc: 0.8958\n",
      "Epoch 67/100\n",
      "145352/145352 [==============================] - 13s 87us/step - loss: 0.2611 - acc: 0.8953\n",
      "Epoch 68/100\n",
      "145352/145352 [==============================] - 12s 86us/step - loss: 0.2604 - acc: 0.8960\n",
      "Epoch 69/100\n",
      "145352/145352 [==============================] - 13s 87us/step - loss: 0.2607 - acc: 0.8957\n",
      "Epoch 70/100\n",
      "145352/145352 [==============================] - 13s 92us/step - loss: 0.2603 - acc: 0.8956\n",
      "Epoch 71/100\n",
      "145352/145352 [==============================] - 13s 92us/step - loss: 0.2600 - acc: 0.8959\n",
      "Epoch 72/100\n",
      "145352/145352 [==============================] - 12s 85us/step - loss: 0.2593 - acc: 0.8964\n",
      "Epoch 73/100\n",
      "145352/145352 [==============================] - 13s 89us/step - loss: 0.2596 - acc: 0.8964\n",
      "Epoch 74/100\n",
      "145352/145352 [==============================] - 13s 86us/step - loss: 0.2595 - acc: 0.8964\n",
      "Epoch 75/100\n",
      "145352/145352 [==============================] - 13s 91us/step - loss: 0.2596 - acc: 0.8965\n",
      "Epoch 76/100\n",
      "145352/145352 [==============================] - 13s 90us/step - loss: 0.2590 - acc: 0.8957\n",
      "Epoch 77/100\n"
     ]
    },
    {
     "name": "stdout",
     "output_type": "stream",
     "text": [
      "145352/145352 [==============================] - 13s 89us/step - loss: 0.2588 - acc: 0.8959\n",
      "Epoch 78/100\n",
      "145352/145352 [==============================] - 15s 103us/step - loss: 0.2584 - acc: 0.8962\n",
      "Epoch 79/100\n",
      "145352/145352 [==============================] - 17s 114us/step - loss: 0.2585 - acc: 0.8963\n",
      "Epoch 80/100\n",
      "145352/145352 [==============================] - 20s 136us/step - loss: 0.2583 - acc: 0.8967\n",
      "Epoch 81/100\n",
      "145352/145352 [==============================] - 18s 126us/step - loss: 0.2585 - acc: 0.8970\n",
      "Epoch 82/100\n",
      "145352/145352 [==============================] - 18s 124us/step - loss: 0.2578 - acc: 0.8967\n",
      "Epoch 83/100\n",
      "145352/145352 [==============================] - 18s 127us/step - loss: 0.2573 - acc: 0.8967\n",
      "Epoch 84/100\n",
      "145352/145352 [==============================] - 17s 119us/step - loss: 0.2572 - acc: 0.8972\n",
      "Epoch 85/100\n",
      "145352/145352 [==============================] - 18s 121us/step - loss: 0.2579 - acc: 0.89670s - loss: 0.2575 - acc: 0\n",
      "Epoch 86/100\n",
      "145352/145352 [==============================] - 18s 125us/step - loss: 0.2573 - acc: 0.8966\n",
      "Epoch 87/100\n",
      "145352/145352 [==============================] - 17s 119us/step - loss: 0.2566 - acc: 0.8969\n",
      "Epoch 88/100\n",
      "145352/145352 [==============================] - 17s 120us/step - loss: 0.2570 - acc: 0.8974\n",
      "Epoch 89/100\n",
      "145352/145352 [==============================] - 18s 121us/step - loss: 0.2566 - acc: 0.8968\n",
      "Epoch 90/100\n",
      "145352/145352 [==============================] - 18s 126us/step - loss: 0.2563 - acc: 0.8977\n",
      "Epoch 91/100\n",
      "145352/145352 [==============================] - 17s 119us/step - loss: 0.2558 - acc: 0.8978\n",
      "Epoch 92/100\n",
      "145352/145352 [==============================] - 18s 123us/step - loss: 0.2558 - acc: 0.8979\n",
      "Epoch 93/100\n",
      "145352/145352 [==============================] - 19s 129us/step - loss: 0.2561 - acc: 0.8974\n",
      "Epoch 94/100\n",
      "145352/145352 [==============================] - 17s 120us/step - loss: 0.2561 - acc: 0.8983\n",
      "Epoch 95/100\n",
      "145352/145352 [==============================] - 17s 119us/step - loss: 0.2562 - acc: 0.8979\n",
      "Epoch 96/100\n",
      "145352/145352 [==============================] - 21s 144us/step - loss: 0.2560 - acc: 0.8976\n",
      "Epoch 97/100\n",
      "145352/145352 [==============================] - 20s 137us/step - loss: 0.2556 - acc: 0.8972\n",
      "Epoch 98/100\n",
      "145352/145352 [==============================] - 18s 124us/step - loss: 0.2561 - acc: 0.8977\n",
      "Epoch 99/100\n",
      "145352/145352 [==============================] - 18s 121us/step - loss: 0.2550 - acc: 0.8983\n",
      "Epoch 100/100\n",
      "145352/145352 [==============================] - 19s 129us/step - loss: 0.2558 - acc: 0.8981\n"
     ]
    },
    {
     "data": {
      "text/plain": [
       "<keras.callbacks.History at 0x284aaf32550>"
      ]
     },
     "execution_count": 89,
     "metadata": {},
     "output_type": "execute_result"
    }
   ],
   "source": [
    "model.fit(train_x, train_y, epochs = 100, batch_size = 10)"
   ]
  },
  {
   "cell_type": "code",
   "execution_count": 90,
   "metadata": {},
   "outputs": [
    {
     "name": "stdout",
     "output_type": "stream",
     "text": [
      "36339/36339 [==============================] - 1s 20us/step\n",
      "\n",
      "acc: 89.56%\n"
     ]
    }
   ],
   "source": [
    "scores = model.evaluate(test_x, test_y)\n",
    "print(\"\\n%s: %.2f%%\" % (model.metrics_names[1], scores[1]*100))"
   ]
  }
 ],
 "metadata": {
  "kernelspec": {
   "display_name": "Python 3",
   "language": "python",
   "name": "python3"
  },
  "language_info": {
   "codemirror_mode": {
    "name": "ipython",
    "version": 3
   },
   "file_extension": ".py",
   "mimetype": "text/x-python",
   "name": "python",
   "nbconvert_exporter": "python",
   "pygments_lexer": "ipython3",
   "version": "3.6.4"
  }
 },
 "nbformat": 4,
 "nbformat_minor": 2
}
