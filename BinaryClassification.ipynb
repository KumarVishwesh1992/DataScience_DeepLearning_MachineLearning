{
 "cells": [
  {
   "cell_type": "code",
   "execution_count": 1,
   "metadata": {},
   "outputs": [
    {
     "name": "stderr",
     "output_type": "stream",
     "text": [
      "C:\\Users\\kumar.vishwesh\\AppData\\Local\\Continuum\\anaconda3\\lib\\site-packages\\h5py\\__init__.py:36: FutureWarning: Conversion of the second argument of issubdtype from `float` to `np.floating` is deprecated. In future, it will be treated as `np.float64 == np.dtype(float).type`.\n",
      "  from ._conv import register_converters as _register_converters\n",
      "Using TensorFlow backend.\n"
     ]
    }
   ],
   "source": [
    "#import libraries\n",
    "import pandas as pd\n",
    "import matplotlib.pyplot as plt\n",
    "import seaborn as sns\n",
    "import numpy as np\n",
    "from scipy.stats import norm\n",
    "from sklearn.preprocessing import StandardScaler\n",
    "from scipy import stats\n",
    "import warnings\n",
    "import keras\n",
    "from keras.models import Sequential\n",
    "from keras.layers import Dense\n",
    "warnings.filterwarnings('ignore')\n",
    "get_ipython().magic(u'matplotlib inline')"
   ]
  },
  {
   "cell_type": "code",
   "execution_count": 2,
   "metadata": {},
   "outputs": [],
   "source": [
    "#read healthy and non healthy dataset\n",
    "df_healthy = pd.read_csv('Healthy_Data.csv')\n",
    "df_unhealthy=pd.read_csv('Not_Healthy_Data.csv')"
   ]
  },
  {
   "cell_type": "code",
   "execution_count": 3,
   "metadata": {},
   "outputs": [
    {
     "name": "stdout",
     "output_type": "stream",
     "text": [
      "(798, 55)\n",
      "(693, 55)\n"
     ]
    }
   ],
   "source": [
    "#adding label- 1 denotes healthy status\n",
    "df_healthy['LABEL']=1\n",
    "#adding label- 0 denotes unhealthy status\n",
    "df_unhealthy['LABEL']=0\n",
    "print(df_healthy.shape)\n",
    "print(df_unhealthy.shape)"
   ]
  },
  {
   "cell_type": "code",
   "execution_count": 4,
   "metadata": {},
   "outputs": [],
   "source": [
    "#down sampling for class balance\n",
    "df_healthy = df_healthy.sample(n=693)"
   ]
  },
  {
   "cell_type": "code",
   "execution_count": 5,
   "metadata": {},
   "outputs": [],
   "source": [
    "#merging\n",
    "df = df_healthy.append(df_unhealthy, ignore_index=True)"
   ]
  },
  {
   "cell_type": "code",
   "execution_count": 6,
   "metadata": {},
   "outputs": [],
   "source": [
    "# list of columns with only one unique values including NAN and dropping them from df\n",
    "l=[]\n",
    "for c in df.columns:\n",
    "    if df[c].nunique(dropna=False)==1 :\n",
    "        l.append(c)\n",
    "df.drop(l, axis=1, inplace=True)"
   ]
  },
  {
   "cell_type": "code",
   "execution_count": 7,
   "metadata": {},
   "outputs": [
    {
     "data": {
      "text/plain": [
       "(1386, 35)"
      ]
     },
     "execution_count": 7,
     "metadata": {},
     "output_type": "execute_result"
    }
   ],
   "source": [
    "df.shape"
   ]
  },
  {
   "cell_type": "code",
   "execution_count": 8,
   "metadata": {},
   "outputs": [
    {
     "name": "stdout",
     "output_type": "stream",
     "text": [
      "[]\n",
      "[]\n"
     ]
    },
    {
     "data": {
      "text/plain": [
       "(1386, 35)"
      ]
     },
     "execution_count": 8,
     "metadata": {},
     "output_type": "execute_result"
    }
   ],
   "source": [
    "#in merged and not in healthy\n",
    "l1=list(set(df.columns.tolist())-set(df_healthy.columns.tolist()))\n",
    "print(l1)\n",
    "#in merged and not in unhealthy\n",
    "l2=list(set(df.columns.tolist())-set(df_unhealthy.columns.tolist()))\n",
    "print(l2)\n",
    "#dropping uncommon\n",
    "l=l1+l2\n",
    "df.drop(l, axis=1, inplace=True)\n",
    "df.shape"
   ]
  },
  {
   "cell_type": "code",
   "execution_count": 9,
   "metadata": {},
   "outputs": [
    {
     "data": {
      "text/plain": [
       "(1386, 35)"
      ]
     },
     "execution_count": 9,
     "metadata": {},
     "output_type": "execute_result"
    }
   ],
   "source": [
    "df.drop_duplicates()\n",
    "df.shape"
   ]
  },
  {
   "cell_type": "code",
   "execution_count": 10,
   "metadata": {},
   "outputs": [
    {
     "data": {
      "text/plain": [
       "(1386, 31)"
      ]
     },
     "execution_count": 10,
     "metadata": {},
     "output_type": "execute_result"
    }
   ],
   "source": [
    "df.drop(['_raw','_time','punct','timestamp'], axis=1, inplace=True)\n",
    "df.shape"
   ]
  },
  {
   "cell_type": "code",
   "execution_count": 11,
   "metadata": {},
   "outputs": [
    {
     "name": "stdout",
     "output_type": "stream",
     "text": [
      "['description']\n"
     ]
    }
   ],
   "source": [
    "l=[]\n",
    "for col in df.columns:\n",
    "    if ('ip' in col.lower()):\n",
    "        l.append(col)\n",
    "print(l)"
   ]
  },
  {
   "cell_type": "code",
   "execution_count": 12,
   "metadata": {},
   "outputs": [
    {
     "name": "stdout",
     "output_type": "stream",
     "text": [
      "['date_hour', 'date_mday', 'date_minute', 'date_month', 'date_second', 'date_wday', 'date_year', 'date_zone']\n"
     ]
    }
   ],
   "source": [
    "l=[]\n",
    "for col in df.columns:\n",
    "    if ('date' in col.lower()):\n",
    "        l.append(col)\n",
    "print(l)"
   ]
  },
  {
   "cell_type": "code",
   "execution_count": 13,
   "metadata": {},
   "outputs": [
    {
     "data": {
      "text/plain": [
       "(1386, 23)"
      ]
     },
     "execution_count": 13,
     "metadata": {},
     "output_type": "execute_result"
    }
   ],
   "source": [
    "df.drop(l, axis=1, inplace=True)\n",
    "df.shape"
   ]
  },
  {
   "cell_type": "code",
   "execution_count": 14,
   "metadata": {},
   "outputs": [
    {
     "name": "stdout",
     "output_type": "stream",
     "text": [
      "failed_test_id\n",
      "88\n",
      "id\n",
      "828\n",
      "['failed_test_id', 'id']\n"
     ]
    }
   ],
   "source": [
    "l=[]\n",
    "for col in df.columns:\n",
    "    if ('id' in col.lower()):\n",
    "        l.append(col)\n",
    "        print(col)\n",
    "        print(df[col].nunique())\n",
    "print(l)"
   ]
  },
  {
   "cell_type": "code",
   "execution_count": 15,
   "metadata": {},
   "outputs": [],
   "source": [
    "#df of non numeric columns\n",
    "obj_df = df.select_dtypes(include=['object']).copy()"
   ]
  },
  {
   "cell_type": "code",
   "execution_count": 16,
   "metadata": {},
   "outputs": [
    {
     "name": "stdout",
     "output_type": "stream",
     "text": [
      "(1386, 19)\n",
      "(1386, 3)\n",
      "(1386, 1)\n"
     ]
    }
   ],
   "source": [
    "obj_col=obj_df.columns.tolist()\n",
    "num_col=list(set(df.columns.tolist())-set(obj_col))\n",
    "num_col.remove('LABEL')\n",
    "num_df=df[num_col]\n",
    "label_df=df[['LABEL']]\n",
    "print(obj_df.shape)\n",
    "print(num_df.shape)\n",
    "print(label_df.shape)"
   ]
  },
  {
   "cell_type": "code",
   "execution_count": 17,
   "metadata": {},
   "outputs": [
    {
     "data": {
      "text/plain": [
       "Index(['action', 'channel', 'description', 'element', 'failed_test_action',\n",
       "       'failed_test_id', 'failure_message', 'host', 'id', 'method',\n",
       "       'result_code', 'source', 'sourcetype', 'url.host{}', 'url.path{}',\n",
       "       'url.protocol', 'url.query{}.key', 'url.query{}.value',\n",
       "       'where_isfailed'],\n",
       "      dtype='object')"
      ]
     },
     "execution_count": 17,
     "metadata": {},
     "output_type": "execute_result"
    }
   ],
   "source": [
    "obj_df.columns"
   ]
  },
  {
   "cell_type": "code",
   "execution_count": 18,
   "metadata": {},
   "outputs": [
    {
     "data": {
      "text/plain": [
       "Index(['exec_time', 'timestartpos', 'timeendpos'], dtype='object')"
      ]
     },
     "execution_count": 18,
     "metadata": {},
     "output_type": "execute_result"
    }
   ],
   "source": [
    "num_df.columns"
   ]
  },
  {
   "cell_type": "code",
   "execution_count": 19,
   "metadata": {},
   "outputs": [
    {
     "data": {
      "text/plain": [
       "exec_time       409\n",
       "timestartpos      1\n",
       "timeendpos        1\n",
       "dtype: int64"
      ]
     },
     "execution_count": 19,
     "metadata": {},
     "output_type": "execute_result"
    }
   ],
   "source": [
    "num_df.nunique()"
   ]
  },
  {
   "cell_type": "code",
   "execution_count": 20,
   "metadata": {},
   "outputs": [
    {
     "data": {
      "text/plain": [
       "action                 21\n",
       "channel                 4\n",
       "description             1\n",
       "element                 1\n",
       "failed_test_action      9\n",
       "failed_test_id         88\n",
       "failure_message        73\n",
       "host                    2\n",
       "id                    828\n",
       "method                  2\n",
       "result_code             4\n",
       "source                  5\n",
       "sourcetype              4\n",
       "url.host{}              6\n",
       "url.path{}             21\n",
       "url.protocol            2\n",
       "url.query{}.key         6\n",
       "url.query{}.value       6\n",
       "where_isfailed          3\n",
       "dtype: int64"
      ]
     },
     "execution_count": 20,
     "metadata": {},
     "output_type": "execute_result"
    }
   ],
   "source": [
    "obj_df.nunique()"
   ]
  },
  {
   "cell_type": "code",
   "execution_count": 21,
   "metadata": {},
   "outputs": [
    {
     "data": {
      "text/plain": [
       "['exec_time', 'timestartpos', 'timeendpos']"
      ]
     },
     "execution_count": 21,
     "metadata": {},
     "output_type": "execute_result"
    }
   ],
   "source": [
    "#missing values\n",
    "na_num_col_list=num_df.columns[num_df.isna().any()].tolist()\n",
    "na_num_col_list"
   ]
  },
  {
   "cell_type": "code",
   "execution_count": 22,
   "metadata": {},
   "outputs": [],
   "source": [
    "#imputing numerical columns\n",
    "from sklearn.preprocessing import Imputer\n",
    "imputer = Imputer(missing_values = 'NaN', strategy = 'mean', axis = 0)\n",
    "imputer = imputer.fit(num_df[na_num_col_list].values)\n",
    "X=imputer.transform(num_df[na_num_col_list].values)"
   ]
  },
  {
   "cell_type": "code",
   "execution_count": 23,
   "metadata": {},
   "outputs": [
    {
     "data": {
      "text/plain": [
       "exec_time       False\n",
       "timestartpos    False\n",
       "timeendpos      False\n",
       "dtype: bool"
      ]
     },
     "execution_count": 23,
     "metadata": {},
     "output_type": "execute_result"
    }
   ],
   "source": [
    "df2 = pd.DataFrame(X,columns=na_num_col_list)\n",
    "num_df.drop(na_num_col_list, axis=1, inplace=True)\n",
    "num_df = pd.concat([num_df,df2],axis=1)\n",
    "num_df.isna().any()"
   ]
  },
  {
   "cell_type": "code",
   "execution_count": 24,
   "metadata": {},
   "outputs": [
    {
     "data": {
      "text/html": [
       "<div>\n",
       "<style scoped>\n",
       "    .dataframe tbody tr th:only-of-type {\n",
       "        vertical-align: middle;\n",
       "    }\n",
       "\n",
       "    .dataframe tbody tr th {\n",
       "        vertical-align: top;\n",
       "    }\n",
       "\n",
       "    .dataframe thead th {\n",
       "        text-align: right;\n",
       "    }\n",
       "</style>\n",
       "<table border=\"1\" class=\"dataframe\">\n",
       "  <thead>\n",
       "    <tr style=\"text-align: right;\">\n",
       "      <th></th>\n",
       "      <th>exec_time</th>\n",
       "      <th>timestartpos</th>\n",
       "      <th>timeendpos</th>\n",
       "    </tr>\n",
       "  </thead>\n",
       "  <tbody>\n",
       "    <tr>\n",
       "      <th>0</th>\n",
       "      <td>1943.574879</td>\n",
       "      <td>0.0</td>\n",
       "      <td>23.0</td>\n",
       "    </tr>\n",
       "    <tr>\n",
       "      <th>1</th>\n",
       "      <td>14.000000</td>\n",
       "      <td>0.0</td>\n",
       "      <td>23.0</td>\n",
       "    </tr>\n",
       "    <tr>\n",
       "      <th>2</th>\n",
       "      <td>1943.574879</td>\n",
       "      <td>0.0</td>\n",
       "      <td>23.0</td>\n",
       "    </tr>\n",
       "    <tr>\n",
       "      <th>3</th>\n",
       "      <td>293.000000</td>\n",
       "      <td>0.0</td>\n",
       "      <td>23.0</td>\n",
       "    </tr>\n",
       "    <tr>\n",
       "      <th>4</th>\n",
       "      <td>1943.574879</td>\n",
       "      <td>0.0</td>\n",
       "      <td>23.0</td>\n",
       "    </tr>\n",
       "  </tbody>\n",
       "</table>\n",
       "</div>"
      ],
      "text/plain": [
       "     exec_time  timestartpos  timeendpos\n",
       "0  1943.574879           0.0        23.0\n",
       "1    14.000000           0.0        23.0\n",
       "2  1943.574879           0.0        23.0\n",
       "3   293.000000           0.0        23.0\n",
       "4  1943.574879           0.0        23.0"
      ]
     },
     "execution_count": 24,
     "metadata": {},
     "output_type": "execute_result"
    }
   ],
   "source": [
    "num_df.head()"
   ]
  },
  {
   "cell_type": "code",
   "execution_count": 25,
   "metadata": {},
   "outputs": [],
   "source": [
    "obj_label_df=pd.concat([obj_df,label_df],axis=1)"
   ]
  },
  {
   "cell_type": "code",
   "execution_count": 26,
   "metadata": {},
   "outputs": [],
   "source": [
    "class ChiSquare:\n",
    "    def __init__(self, dataframe):\n",
    "        self.df = dataframe\n",
    "        self.p = None #P-Value\n",
    "        self.chi2 = None #Chi Test Statistic\n",
    "        self.dof = None\n",
    "        self.dfTabular = None\n",
    "        self.dfExpected = None\n",
    "    def _print_chisquare_result(self, colX, alpha):\n",
    "        #result = \"\"\n",
    "        if self.p<alpha:\n",
    "            #result=\"{0} is IMPORTANT for Prediction\".format(colX)\n",
    "            #print(result)\n",
    "            return 0\n",
    "        else:\n",
    "            #result=\"{0} is NOT an important predictor. (Discard {0} from model)\".format(colX)\n",
    "            #print(result)\n",
    "            return 1\n",
    "            \n",
    "        \n",
    "    def TestIndependence(self,colX,colY, alpha=0.05):\n",
    "        X = self.df[colX].astype(str)\n",
    "        Y = self.df[colY].astype(str)\n",
    "        \n",
    "        self.dfObserved = pd.crosstab(Y,X) \n",
    "        chi2, p, dof, expected = stats.chi2_contingency(self.dfObserved.values)\n",
    "        self.p = p\n",
    "        self.chi2 = chi2\n",
    "        self.dof = dof \n",
    "        \n",
    "        self.dfExpected = pd.DataFrame(expected, columns=self.dfObserved.columns, index = self.dfObserved.index)\n",
    "        \n",
    "        output=self._print_chisquare_result(colX, alpha)\n",
    "        return output"
   ]
  },
  {
   "cell_type": "code",
   "execution_count": 27,
   "metadata": {},
   "outputs": [],
   "source": [
    "#Initialize ChiSquare Class\n",
    "cT = ChiSquare(obj_label_df)"
   ]
  },
  {
   "cell_type": "code",
   "execution_count": 28,
   "metadata": {},
   "outputs": [
    {
     "data": {
      "text/plain": [
       "['action',\n",
       " 'description',\n",
       " 'element',\n",
       " 'failed_test_id',\n",
       " 'failure_message',\n",
       " 'host',\n",
       " 'id',\n",
       " 'method',\n",
       " 'url.path{}',\n",
       " 'url.protocol']"
      ]
     },
     "execution_count": 28,
     "metadata": {},
     "output_type": "execute_result"
    }
   ],
   "source": [
    "l_exclude=[]\n",
    "for var in obj_df.columns.tolist():\n",
    "    if cT.TestIndependence(colX=var,colY=\"LABEL\" )==1:\n",
    "        l_exclude.append(var)\n",
    "l_exclude"
   ]
  },
  {
   "cell_type": "code",
   "execution_count": 29,
   "metadata": {},
   "outputs": [
    {
     "data": {
      "text/plain": [
       "(1386, 9)"
      ]
     },
     "execution_count": 29,
     "metadata": {},
     "output_type": "execute_result"
    }
   ],
   "source": [
    "obj_df.drop(l_exclude, axis=1, inplace=True)\n",
    "obj_df.shape"
   ]
  },
  {
   "cell_type": "code",
   "execution_count": 30,
   "metadata": {},
   "outputs": [
    {
     "data": {
      "text/plain": [
       "channel               4\n",
       "failed_test_action    9\n",
       "result_code           4\n",
       "source                5\n",
       "sourcetype            4\n",
       "url.host{}            6\n",
       "url.query{}.key       6\n",
       "url.query{}.value     6\n",
       "where_isfailed        3\n",
       "dtype: int64"
      ]
     },
     "execution_count": 30,
     "metadata": {},
     "output_type": "execute_result"
    }
   ],
   "source": [
    "obj_df.nunique()"
   ]
  },
  {
   "cell_type": "code",
   "execution_count": 31,
   "metadata": {},
   "outputs": [
    {
     "name": "stdout",
     "output_type": "stream",
     "text": [
      "(1386, 9)\n",
      "(1386, 3)\n",
      "(1386, 1)\n"
     ]
    }
   ],
   "source": [
    "print(obj_df.shape)\n",
    "print(num_df.shape)\n",
    "print(label_df.shape)"
   ]
  },
  {
   "cell_type": "code",
   "execution_count": 32,
   "metadata": {},
   "outputs": [],
   "source": [
    "#one hot encoding of categorical columns\n",
    "obj_col=obj_df.columns.tolist()\n",
    "obj_df=pd.get_dummies(obj_df, columns=obj_col, prefix=obj_col)"
   ]
  },
  {
   "cell_type": "code",
   "execution_count": 33,
   "metadata": {},
   "outputs": [
    {
     "data": {
      "text/plain": [
       "(1386, 47)"
      ]
     },
     "execution_count": 33,
     "metadata": {},
     "output_type": "execute_result"
    }
   ],
   "source": [
    "obj_df.shape"
   ]
  },
  {
   "cell_type": "code",
   "execution_count": 34,
   "metadata": {},
   "outputs": [],
   "source": [
    "#Initialize ChiSquare Class\n",
    "cT2 = ChiSquare(pd.concat([obj_df, label_df],axis=1))"
   ]
  },
  {
   "cell_type": "code",
   "execution_count": null,
   "metadata": {},
   "outputs": [],
   "source": [
    "#list\n",
    "l_exclude=[]\n",
    "for var in obj_df.columns.tolist():\n",
    "    if cT2.TestIndependence(colX=var,colY=\"LABEL\" )==1:\n",
    "        l_exclude.append(var)\n",
    "l_exclude"
   ]
  },
  {
   "cell_type": "code",
   "execution_count": 36,
   "metadata": {},
   "outputs": [
    {
     "data": {
      "text/plain": [
       "(1386, 12)"
      ]
     },
     "execution_count": 36,
     "metadata": {},
     "output_type": "execute_result"
    }
   ],
   "source": [
    "obj_df.drop(l_exclude, axis=1, inplace=True)\n",
    "obj_df.shape"
   ]
  },
  {
   "cell_type": "code",
   "execution_count": 37,
   "metadata": {},
   "outputs": [],
   "source": [
    "from sklearn.preprocessing import StandardScaler\n",
    "sc_X = StandardScaler()\n",
    "X= sc_X.fit_transform(num_df.values)\n",
    "#scaled df numeric\n",
    "num_df=pd.DataFrame(X,columns=num_df.columns.tolist())"
   ]
  },
  {
   "cell_type": "code",
   "execution_count": 38,
   "metadata": {},
   "outputs": [],
   "source": [
    "df= pd.concat([num_df,obj_df,label_df],axis=1)"
   ]
  },
  {
   "cell_type": "code",
   "execution_count": 40,
   "metadata": {},
   "outputs": [],
   "source": [
    "#drop highly correlated features\n",
    "#Create correlation matrix\n",
    "corr_matrix = df.corr().abs()"
   ]
  },
  {
   "cell_type": "code",
   "execution_count": null,
   "metadata": {},
   "outputs": [],
   "source": [
    "# Select upper triangle of correlation matrix\n",
    "upper = corr_matrix.where(np.triu(np.ones(corr_matrix.shape), k=1).astype(np.bool))\n",
    "# Find index of feature columns with correlation greater than 0.9\n",
    "to_drop = [column for column in upper.columns if any(upper[column] > 0.9)]\n",
    "to_drop"
   ]
  },
  {
   "cell_type": "code",
   "execution_count": null,
   "metadata": {},
   "outputs": [],
   "source": [
    "# Drop features \n",
    "df.drop(to_drop, axis=1, inplace=True)\n",
    "df.head()"
   ]
  },
  {
   "cell_type": "code",
   "execution_count": 43,
   "metadata": {},
   "outputs": [],
   "source": [
    "df.to_csv('f.csv',encoding='utf-8', index=False)"
   ]
  },
  {
   "cell_type": "code",
   "execution_count": 44,
   "metadata": {},
   "outputs": [
    {
     "data": {
      "text/plain": [
       "(1386, 12)"
      ]
     },
     "execution_count": 44,
     "metadata": {},
     "output_type": "execute_result"
    }
   ],
   "source": [
    "df.shape"
   ]
  },
  {
   "cell_type": "code",
   "execution_count": 45,
   "metadata": {},
   "outputs": [],
   "source": [
    "from sklearn.model_selection import train_test_split\n",
    "X_df = df.iloc[:, :-1]\n",
    "y_df = df.iloc[:, 11]"
   ]
  },
  {
   "cell_type": "code",
   "execution_count": 46,
   "metadata": {},
   "outputs": [],
   "source": [
    "X_train_df, X_test_df, y_train_df, y_test_df = train_test_split(X_df, y_df, test_size = 0.2)"
   ]
  },
  {
   "cell_type": "markdown",
   "metadata": {},
   "source": [
    "ANN"
   ]
  },
  {
   "cell_type": "code",
   "execution_count": 47,
   "metadata": {},
   "outputs": [],
   "source": [
    "classifier2 = Sequential()\n",
    "classifier2.add(Dense(output_dim = 6, init = 'uniform', activation = 'relu', input_dim = 11))\n",
    "classifier2.add(Dense(output_dim = 6, init = 'uniform', activation = 'relu'))\n",
    "#classifier2.add(Dense(output_dim = 31, init = 'uniform', activation = 'relu'))\n",
    "classifier2.add(Dense(output_dim = 1, init = 'uniform', activation = 'sigmoid'))\n",
    "classifier2.compile(optimizer = 'adam', loss = 'binary_crossentropy', metrics = ['accuracy'])"
   ]
  },
  {
   "cell_type": "code",
   "execution_count": 48,
   "metadata": {},
   "outputs": [
    {
     "name": "stdout",
     "output_type": "stream",
     "text": [
      "Epoch 1/100\n",
      "1108/1108 [==============================] - 1s 470us/step - loss: 0.6933 - acc: 0.4919\n",
      "Epoch 2/100\n",
      "1108/1108 [==============================] - 0s 334us/step - loss: 0.6926 - acc: 0.5217\n",
      "Epoch 3/100\n",
      "1108/1108 [==============================] - 0s 253us/step - loss: 0.6889 - acc: 0.5388\n",
      "Epoch 4/100\n",
      "1108/1108 [==============================] - 0s 157us/step - loss: 0.6815 - acc: 0.5505\n",
      "Epoch 5/100\n",
      "1108/1108 [==============================] - 0s 186us/step - loss: 0.6730 - acc: 0.5578\n",
      "Epoch 6/100\n",
      "1108/1108 [==============================] - 0s 156us/step - loss: 0.6670 - acc: 0.5578 0s - loss: 0.6667 - acc: 0.558\n",
      "Epoch 7/100\n",
      "1108/1108 [==============================] - 0s 160us/step - loss: 0.6630 - acc: 0.5578\n",
      "Epoch 8/100\n",
      "1108/1108 [==============================] - 0s 167us/step - loss: 0.6603 - acc: 0.5578\n",
      "Epoch 9/100\n",
      "1108/1108 [==============================] - 0s 159us/step - loss: 0.6585 - acc: 0.5578\n",
      "Epoch 10/100\n",
      "1108/1108 [==============================] - 0s 164us/step - loss: 0.6571 - acc: 0.5578\n",
      "Epoch 11/100\n",
      "1108/1108 [==============================] - 0s 229us/step - loss: 0.6559 - acc: 0.5578\n",
      "Epoch 12/100\n",
      "1108/1108 [==============================] - 0s 291us/step - loss: 0.6546 - acc: 0.5587\n",
      "Epoch 13/100\n",
      "1108/1108 [==============================] - 0s 264us/step - loss: 0.6538 - acc: 0.5578 0s - loss: 0.6519 - acc: 0.56\n",
      "Epoch 14/100\n",
      "1108/1108 [==============================] - 0s 186us/step - loss: 0.6531 - acc: 0.5578\n",
      "Epoch 15/100\n",
      "1108/1108 [==============================] - 0s 209us/step - loss: 0.6520 - acc: 0.5578 0s - loss: 0.6499 - acc: 0.555\n",
      "Epoch 16/100\n",
      "1108/1108 [==============================] - 0s 167us/step - loss: 0.6513 - acc: 0.5578\n",
      "Epoch 17/100\n",
      "1108/1108 [==============================] - 0s 291us/step - loss: 0.6510 - acc: 0.5596\n",
      "Epoch 18/100\n",
      "1108/1108 [==============================] - 0s 234us/step - loss: 0.6503 - acc: 0.5596\n",
      "Epoch 19/100\n",
      "1108/1108 [==============================] - 0s 263us/step - loss: 0.6497 - acc: 0.5596\n",
      "Epoch 20/100\n",
      "1108/1108 [==============================] - 0s 144us/step - loss: 0.6494 - acc: 0.5596\n",
      "Epoch 21/100\n",
      "1108/1108 [==============================] - 0s 231us/step - loss: 0.6491 - acc: 0.5641\n",
      "Epoch 22/100\n",
      "1108/1108 [==============================] - 0s 199us/step - loss: 0.6487 - acc: 0.5596\n",
      "Epoch 23/100\n",
      "1108/1108 [==============================] - 0s 137us/step - loss: 0.6483 - acc: 0.5767\n",
      "Epoch 24/100\n",
      "1108/1108 [==============================] - ETA: 0s - loss: 0.6491 - acc: 0.562 - 0s 182us/step - loss: 0.6479 - acc: 0.5740\n",
      "Epoch 25/100\n",
      "1108/1108 [==============================] - 0s 168us/step - loss: 0.6478 - acc: 0.5722\n",
      "Epoch 26/100\n",
      "1108/1108 [==============================] - 0s 99us/step - loss: 0.6473 - acc: 0.5686\n",
      "Epoch 27/100\n",
      "1108/1108 [==============================] - 0s 85us/step - loss: 0.6471 - acc: 0.5731\n",
      "Epoch 28/100\n",
      "1108/1108 [==============================] - 0s 120us/step - loss: 0.6467 - acc: 0.5830\n",
      "Epoch 29/100\n",
      "1108/1108 [==============================] - 0s 132us/step - loss: 0.6463 - acc: 0.5884\n",
      "Epoch 30/100\n",
      "1108/1108 [==============================] - 0s 208us/step - loss: 0.6461 - acc: 0.5758\n",
      "Epoch 31/100\n",
      "1108/1108 [==============================] - 0s 218us/step - loss: 0.6460 - acc: 0.5740\n",
      "Epoch 32/100\n",
      "1108/1108 [==============================] - 0s 165us/step - loss: 0.6456 - acc: 0.5830\n",
      "Epoch 33/100\n",
      "1108/1108 [==============================] - 0s 99us/step - loss: 0.6454 - acc: 0.5875\n",
      "Epoch 34/100\n",
      "1108/1108 [==============================] - 0s 116us/step - loss: 0.6453 - acc: 0.5749\n",
      "Epoch 35/100\n",
      "1108/1108 [==============================] - 0s 150us/step - loss: 0.6450 - acc: 0.5758\n",
      "Epoch 36/100\n",
      "1108/1108 [==============================] - 0s 103us/step - loss: 0.6447 - acc: 0.5758\n",
      "Epoch 37/100\n",
      "1108/1108 [==============================] - 0s 99us/step - loss: 0.6443 - acc: 0.5785\n",
      "Epoch 38/100\n",
      "1108/1108 [==============================] - 0s 127us/step - loss: 0.6444 - acc: 0.5812\n",
      "Epoch 39/100\n",
      "1108/1108 [==============================] - 0s 155us/step - loss: 0.6439 - acc: 0.5839\n",
      "Epoch 40/100\n",
      "1108/1108 [==============================] - 0s 141us/step - loss: 0.6435 - acc: 0.5848\n",
      "Epoch 41/100\n",
      "1108/1108 [==============================] - 0s 203us/step - loss: 0.6435 - acc: 0.5830\n",
      "Epoch 42/100\n",
      "1108/1108 [==============================] - 0s 265us/step - loss: 0.6434 - acc: 0.5848\n",
      "Epoch 43/100\n",
      "1108/1108 [==============================] - 0s 180us/step - loss: 0.6434 - acc: 0.5740\n",
      "Epoch 44/100\n",
      "1108/1108 [==============================] - 0s 241us/step - loss: 0.6428 - acc: 0.5830\n",
      "Epoch 45/100\n",
      "1108/1108 [==============================] - 0s 343us/step - loss: 0.6427 - acc: 0.5803\n",
      "Epoch 46/100\n",
      "1108/1108 [==============================] - 0s 229us/step - loss: 0.6422 - acc: 0.5794\n",
      "Epoch 47/100\n",
      "1108/1108 [==============================] - 0s 193us/step - loss: 0.6420 - acc: 0.5740\n",
      "Epoch 48/100\n",
      "1108/1108 [==============================] - 0s 272us/step - loss: 0.6422 - acc: 0.5839\n",
      "Epoch 49/100\n",
      "1108/1108 [==============================] - 0s 173us/step - loss: 0.6421 - acc: 0.5776\n",
      "Epoch 50/100\n",
      "1108/1108 [==============================] - 0s 263us/step - loss: 0.6421 - acc: 0.5794\n",
      "Epoch 51/100\n",
      "1108/1108 [==============================] - 0s 254us/step - loss: 0.6417 - acc: 0.5866\n",
      "Epoch 52/100\n",
      "1108/1108 [==============================] - 0s 247us/step - loss: 0.6412 - acc: 0.5731 0s - loss: 0.6413 - acc: 0.573\n",
      "Epoch 53/100\n",
      "1108/1108 [==============================] - 0s 246us/step - loss: 0.6410 - acc: 0.5812\n",
      "Epoch 54/100\n",
      "1108/1108 [==============================] - 0s 223us/step - loss: 0.6411 - acc: 0.5794\n",
      "Epoch 55/100\n",
      "1108/1108 [==============================] - 0s 250us/step - loss: 0.6408 - acc: 0.5785\n",
      "Epoch 56/100\n",
      "1108/1108 [==============================] - 0s 212us/step - loss: 0.6407 - acc: 0.5830\n",
      "Epoch 57/100\n",
      "1108/1108 [==============================] - ETA: 0s - loss: 0.6406 - acc: 0.575 - 0s 235us/step - loss: 0.6404 - acc: 0.5758\n",
      "Epoch 58/100\n",
      "1108/1108 [==============================] - 0s 176us/step - loss: 0.6402 - acc: 0.5821\n",
      "Epoch 59/100\n",
      "1108/1108 [==============================] - 0s 189us/step - loss: 0.6401 - acc: 0.5812\n",
      "Epoch 60/100\n",
      "1108/1108 [==============================] - 0s 210us/step - loss: 0.6398 - acc: 0.5839\n",
      "Epoch 61/100\n",
      "1108/1108 [==============================] - 0s 158us/step - loss: 0.6399 - acc: 0.5794\n",
      "Epoch 62/100\n",
      "1108/1108 [==============================] - 0s 153us/step - loss: 0.6393 - acc: 0.5812\n",
      "Epoch 63/100\n",
      "1108/1108 [==============================] - 0s 146us/step - loss: 0.6395 - acc: 0.5830\n",
      "Epoch 64/100\n",
      "1108/1108 [==============================] - 0s 171us/step - loss: 0.6391 - acc: 0.5758\n",
      "Epoch 65/100\n",
      "1108/1108 [==============================] - 0s 189us/step - loss: 0.6394 - acc: 0.5794\n",
      "Epoch 66/100\n",
      "1108/1108 [==============================] - 0s 152us/step - loss: 0.6387 - acc: 0.5821\n",
      "Epoch 67/100\n",
      "1108/1108 [==============================] - 0s 243us/step - loss: 0.6386 - acc: 0.5803\n",
      "Epoch 68/100\n",
      "1108/1108 [==============================] - 0s 153us/step - loss: 0.6388 - acc: 0.5749\n",
      "Epoch 69/100\n",
      "1108/1108 [==============================] - 0s 138us/step - loss: 0.6381 - acc: 0.5794\n",
      "Epoch 70/100\n",
      "1108/1108 [==============================] - 0s 208us/step - loss: 0.6382 - acc: 0.5677 0s - loss: 0.6296 - acc: 0.56\n",
      "Epoch 71/100\n",
      "1108/1108 [==============================] - 0s 270us/step - loss: 0.6381 - acc: 0.5803\n",
      "Epoch 72/100\n",
      "1108/1108 [==============================] - 0s 205us/step - loss: 0.6379 - acc: 0.5758\n",
      "Epoch 73/100\n",
      "1108/1108 [==============================] - 0s 267us/step - loss: 0.6381 - acc: 0.5713\n",
      "Epoch 74/100\n",
      "1108/1108 [==============================] - 0s 171us/step - loss: 0.6376 - acc: 0.5821\n",
      "Epoch 75/100\n",
      "1108/1108 [==============================] - 0s 369us/step - loss: 0.6373 - acc: 0.5758\n",
      "Epoch 76/100\n",
      "1108/1108 [==============================] - 0s 336us/step - loss: 0.6379 - acc: 0.5749\n",
      "Epoch 77/100\n",
      "1108/1108 [==============================] - 0s 186us/step - loss: 0.6373 - acc: 0.5767\n",
      "Epoch 78/100\n",
      "1108/1108 [==============================] - 0s 239us/step - loss: 0.6370 - acc: 0.5794\n",
      "Epoch 79/100\n",
      "1108/1108 [==============================] - 0s 203us/step - loss: 0.6370 - acc: 0.5749\n"
     ]
    },
    {
     "name": "stdout",
     "output_type": "stream",
     "text": [
      "Epoch 80/100\n",
      "1108/1108 [==============================] - 0s 175us/step - loss: 0.6369 - acc: 0.5785\n",
      "Epoch 81/100\n",
      "1108/1108 [==============================] - 0s 334us/step - loss: 0.6367 - acc: 0.5695\n",
      "Epoch 82/100\n",
      "1108/1108 [==============================] - 0s 222us/step - loss: 0.6364 - acc: 0.5821\n",
      "Epoch 83/100\n",
      "1108/1108 [==============================] - 0s 305us/step - loss: 0.6364 - acc: 0.5812\n",
      "Epoch 84/100\n",
      "1108/1108 [==============================] - 0s 188us/step - loss: 0.6367 - acc: 0.5812\n",
      "Epoch 85/100\n",
      "1108/1108 [==============================] - 0s 193us/step - loss: 0.6365 - acc: 0.5650\n",
      "Epoch 86/100\n",
      "1108/1108 [==============================] - 0s 179us/step - loss: 0.6362 - acc: 0.5785\n",
      "Epoch 87/100\n",
      "1108/1108 [==============================] - 0s 221us/step - loss: 0.6360 - acc: 0.5812\n",
      "Epoch 88/100\n",
      "1108/1108 [==============================] - 0s 204us/step - loss: 0.6358 - acc: 0.5803\n",
      "Epoch 89/100\n",
      "1108/1108 [==============================] - 0s 134us/step - loss: 0.6360 - acc: 0.5821\n",
      "Epoch 90/100\n",
      "1108/1108 [==============================] - 0s 152us/step - loss: 0.6360 - acc: 0.5794\n",
      "Epoch 91/100\n",
      "1108/1108 [==============================] - 0s 212us/step - loss: 0.6359 - acc: 0.5821\n",
      "Epoch 92/100\n",
      "1108/1108 [==============================] - 0s 180us/step - loss: 0.6357 - acc: 0.5857\n",
      "Epoch 93/100\n",
      "1108/1108 [==============================] - 0s 226us/step - loss: 0.6359 - acc: 0.5623\n",
      "Epoch 94/100\n",
      "1108/1108 [==============================] - 0s 176us/step - loss: 0.6362 - acc: 0.5794\n",
      "Epoch 95/100\n",
      "1108/1108 [==============================] - 0s 183us/step - loss: 0.6351 - acc: 0.5848\n",
      "Epoch 96/100\n",
      "1108/1108 [==============================] - 0s 161us/step - loss: 0.6352 - acc: 0.5776\n",
      "Epoch 97/100\n",
      "1108/1108 [==============================] - 0s 166us/step - loss: 0.6347 - acc: 0.5785\n",
      "Epoch 98/100\n",
      "1108/1108 [==============================] - 0s 185us/step - loss: 0.6356 - acc: 0.5767\n",
      "Epoch 99/100\n",
      "1108/1108 [==============================] - 0s 214us/step - loss: 0.6350 - acc: 0.5803\n",
      "Epoch 100/100\n",
      "1108/1108 [==============================] - 0s 182us/step - loss: 0.6353 - acc: 0.5740\n"
     ]
    },
    {
     "data": {
      "text/plain": [
       "<keras.callbacks.History at 0x196ae546b00>"
      ]
     },
     "execution_count": 48,
     "metadata": {},
     "output_type": "execute_result"
    }
   ],
   "source": [
    "classifier2.fit(X_train_df, y_train_df, batch_size = 10, nb_epoch = 100)"
   ]
  },
  {
   "cell_type": "code",
   "execution_count": 119,
   "metadata": {},
   "outputs": [
    {
     "data": {
      "text/plain": [
       "0.5514440433212996"
      ]
     },
     "execution_count": 119,
     "metadata": {},
     "output_type": "execute_result"
    }
   ],
   "source": [
    "classifier.score(X_train_df,y_train_df)"
   ]
  },
  {
   "cell_type": "code",
   "execution_count": 107,
   "metadata": {},
   "outputs": [
    {
     "name": "stdout",
     "output_type": "stream",
     "text": [
      "[[456  91]\n",
      " [377 184]]\n"
     ]
    }
   ],
   "source": [
    "#train prediction\n",
    "y_pred_train=classifier2.predict(X_train_df)\n",
    "y_pred_train =np.where(y_pred_train > 0.5 ,1, 0)\n",
    "cm_train= confusion_matrix(y_train_df, y_pred_train)\n",
    "print(cm_train)"
   ]
  },
  {
   "cell_type": "code",
   "execution_count": 108,
   "metadata": {},
   "outputs": [
    {
     "name": "stdout",
     "output_type": "stream",
     "text": [
      "1108\n"
     ]
    },
    {
     "data": {
      "text/plain": [
       "57.761732851985556"
      ]
     },
     "execution_count": 108,
     "metadata": {},
     "output_type": "execute_result"
    }
   ],
   "source": [
    "total_train_records=456+184+91+377\n",
    "print(total_train_records)\n",
    "accuracy_train=((456+184)/total_train_records)*100\n",
    "accuracy_train"
   ]
  },
  {
   "cell_type": "code",
   "execution_count": 79,
   "metadata": {},
   "outputs": [
    {
     "data": {
      "text/plain": [
       "array([[1.5656589e-08],\n",
       "       [8.1643504e-01],\n",
       "       [4.6702513e-01],\n",
       "       [7.1493572e-01],\n",
       "       [4.6726561e-01],\n",
       "       [4.6766651e-01],\n",
       "       [4.8965093e-01],\n",
       "       [4.7071451e-01],\n",
       "       [4.6862879e-01],\n",
       "       [5.1648897e-01],\n",
       "       [4.8965093e-01],\n",
       "       [8.0035800e-01],\n",
       "       [4.6806744e-01],\n",
       "       [1.7805785e-08],\n",
       "       [4.6758631e-01],\n",
       "       [4.8965093e-01],\n",
       "       [4.8965093e-01],\n",
       "       [5.6926817e-01],\n",
       "       [6.5766549e-01],\n",
       "       [4.8965093e-01],\n",
       "       [5.5841768e-01],\n",
       "       [4.8965093e-01],\n",
       "       [1.0510681e-02],\n",
       "       [4.6702513e-01],\n",
       "       [6.6454256e-01],\n",
       "       [5.7258183e-01],\n",
       "       [6.5596604e-01],\n",
       "       [4.8965093e-01],\n",
       "       [5.2364326e-01],\n",
       "       [4.6886939e-01],\n",
       "       [4.6734577e-01],\n",
       "       [4.7039354e-01],\n",
       "       [4.8965093e-01],\n",
       "       [4.8965093e-01],\n",
       "       [4.7095519e-01],\n",
       "       [9.2406476e-01],\n",
       "       [4.8965093e-01],\n",
       "       [4.6758631e-01],\n",
       "       [4.8965093e-01],\n",
       "       [4.6846837e-01],\n",
       "       [4.7047380e-01],\n",
       "       [6.5802914e-01],\n",
       "       [4.8965093e-01],\n",
       "       [9.8395452e-05],\n",
       "       [4.8965093e-01],\n",
       "       [4.6710527e-01],\n",
       "       [5.2645427e-01],\n",
       "       [4.8965093e-01],\n",
       "       [4.6854854e-01],\n",
       "       [4.8965093e-01],\n",
       "       [5.6119543e-01],\n",
       "       [4.8965093e-01],\n",
       "       [5.6190908e-01],\n",
       "       [5.3663886e-01],\n",
       "       [8.3101258e-05],\n",
       "       [4.6774668e-01],\n",
       "       [5.1174229e-01],\n",
       "       [6.7230040e-01],\n",
       "       [4.8965093e-01],\n",
       "       [7.1074677e-01],\n",
       "       [5.6325644e-01],\n",
       "       [4.6750611e-01],\n",
       "       [6.7028028e-01],\n",
       "       [4.6742597e-01],\n",
       "       [4.8027268e-01],\n",
       "       [4.8965093e-01],\n",
       "       [4.8965093e-01],\n",
       "       [4.8965093e-01],\n",
       "       [4.7601345e-01],\n",
       "       [4.8965093e-01],\n",
       "       [4.6710527e-01],\n",
       "       [6.6406220e-01],\n",
       "       [4.8965093e-01],\n",
       "       [4.7882578e-01],\n",
       "       [4.7047380e-01],\n",
       "       [5.6997871e-01],\n",
       "       [4.8965093e-01],\n",
       "       [4.6758631e-01],\n",
       "       [8.1652391e-01],\n",
       "       [4.6846837e-01],\n",
       "       [4.9129409e-01],\n",
       "       [4.6750611e-01],\n",
       "       [4.8965093e-01],\n",
       "       [4.9290407e-01],\n",
       "       [4.6750611e-01],\n",
       "       [4.8075503e-01],\n",
       "       [4.8965093e-01],\n",
       "       [7.9338491e-01],\n",
       "       [4.6702513e-01],\n",
       "       [4.6766651e-01],\n",
       "       [4.6710527e-01],\n",
       "       [4.6726561e-01],\n",
       "       [6.8509948e-01],\n",
       "       [4.9113309e-01],\n",
       "       [4.8965093e-01],\n",
       "       [7.1372688e-01],\n",
       "       [4.8965093e-01],\n",
       "       [4.6758631e-01],\n",
       "       [4.9145511e-01],\n",
       "       [5.6396937e-01],\n",
       "       [4.7697756e-01],\n",
       "       [6.5596604e-01],\n",
       "       [4.8965093e-01],\n",
       "       [4.6710527e-01],\n",
       "       [8.3101258e-05],\n",
       "       [4.8965093e-01],\n",
       "       [4.6702513e-01],\n",
       "       [4.7464800e-01],\n",
       "       [4.8965093e-01],\n",
       "       [4.8965093e-01],\n",
       "       [4.6726561e-01],\n",
       "       [4.8992583e-01],\n",
       "       [4.6806744e-01],\n",
       "       [7.1449649e-01],\n",
       "       [4.8965093e-01],\n",
       "       [4.7625446e-01],\n",
       "       [4.8965093e-01],\n",
       "       [4.6854854e-01],\n",
       "       [6.5923995e-01],\n",
       "       [4.8965093e-01],\n",
       "       [4.6862879e-01],\n",
       "       [4.6702513e-01],\n",
       "       [4.8965093e-01],\n",
       "       [4.6710527e-01],\n",
       "       [4.8965093e-01],\n",
       "       [4.7071451e-01],\n",
       "       [4.7039354e-01],\n",
       "       [5.2846110e-01],\n",
       "       [4.6718544e-01],\n",
       "       [4.8965093e-01],\n",
       "       [4.8965093e-01],\n",
       "       [4.6694493e-01],\n",
       "       [4.6758631e-01],\n",
       "       [8.1649423e-01],\n",
       "       [4.8965093e-01],\n",
       "       [4.6766651e-01],\n",
       "       [4.8965093e-01],\n",
       "       [4.8965093e-01],\n",
       "       [4.8413259e-01],\n",
       "       [4.6782684e-01],\n",
       "       [4.6750611e-01],\n",
       "       [4.8965093e-01],\n",
       "       [6.5596604e-01],\n",
       "       [4.8965093e-01],\n",
       "       [4.6734577e-01],\n",
       "       [5.6056082e-01],\n",
       "       [4.8965093e-01],\n",
       "       [6.6322070e-01],\n",
       "       [4.6766651e-01],\n",
       "       [4.8965093e-01],\n",
       "       [4.8965093e-01],\n",
       "       [4.9531913e-01],\n",
       "       [9.0764223e-09],\n",
       "       [4.8965093e-01],\n",
       "       [6.5948182e-01],\n",
       "       [4.8912093e-01],\n",
       "       [5.3102857e-01],\n",
       "       [4.8965093e-01],\n",
       "       [6.9064927e-01],\n",
       "       [4.6750611e-01],\n",
       "       [4.6742597e-01],\n",
       "       [4.8965093e-01],\n",
       "       [4.8965093e-01],\n",
       "       [4.6726561e-01],\n",
       "       [9.2265481e-01],\n",
       "       [4.8965093e-01],\n",
       "       [4.8965093e-01],\n",
       "       [5.6468201e-01],\n",
       "       [4.8965093e-01],\n",
       "       [4.8952338e-01],\n",
       "       [4.6742597e-01],\n",
       "       [4.8965093e-01],\n",
       "       [7.1350682e-01],\n",
       "       [4.6710527e-01],\n",
       "       [5.7029450e-01],\n",
       "       [4.6734577e-01],\n",
       "       [5.1021320e-01],\n",
       "       [7.2374171e-01],\n",
       "       [4.6710527e-01],\n",
       "       [4.6734577e-01],\n",
       "       [4.8965093e-01],\n",
       "       [5.2685571e-01],\n",
       "       [4.8965093e-01],\n",
       "       [7.1734411e-01],\n",
       "       [4.6734577e-01],\n",
       "       [4.8493695e-01],\n",
       "       [7.1416676e-01],\n",
       "       [4.8965093e-01],\n",
       "       [6.5705901e-01],\n",
       "       [4.8965093e-01],\n",
       "       [5.3856033e-01],\n",
       "       [4.8965093e-01],\n",
       "       [4.8678735e-01],\n",
       "       [4.6710527e-01],\n",
       "       [4.8965093e-01],\n",
       "       [4.8965093e-01],\n",
       "       [4.8965093e-01],\n",
       "       [7.1974015e-01],\n",
       "       [4.6822780e-01],\n",
       "       [4.8965093e-01],\n",
       "       [4.8965093e-01],\n",
       "       [4.8965093e-01],\n",
       "       [4.8965093e-01],\n",
       "       [7.1405679e-01],\n",
       "       [4.7601345e-01],\n",
       "       [5.6064022e-01],\n",
       "       [4.6702513e-01],\n",
       "       [4.8965093e-01],\n",
       "       [4.8965093e-01],\n",
       "       [4.7938842e-01],\n",
       "       [4.8965093e-01],\n",
       "       [4.8965093e-01],\n",
       "       [4.7207880e-01],\n",
       "       [4.8965093e-01],\n",
       "       [7.1295607e-01],\n",
       "       [4.8965093e-01],\n",
       "       [6.6813451e-01],\n",
       "       [4.8965093e-01],\n",
       "       [4.6822780e-01],\n",
       "       [7.1196312e-01],\n",
       "       [4.8965093e-01],\n",
       "       [4.6766651e-01],\n",
       "       [4.7199857e-01],\n",
       "       [4.8965093e-01],\n",
       "       [5.6143332e-01],\n",
       "       [4.8965093e-01],\n",
       "       [4.6742597e-01],\n",
       "       [9.2364812e-01],\n",
       "       [4.8965093e-01],\n",
       "       [4.7826323e-01],\n",
       "       [4.6681973e-01],\n",
       "       [4.8965093e-01],\n",
       "       [4.6766651e-01],\n",
       "       [9.8395452e-05],\n",
       "       [4.7095519e-01],\n",
       "       [4.8965093e-01],\n",
       "       [4.8965093e-01],\n",
       "       [6.5669483e-01],\n",
       "       [4.8965093e-01],\n",
       "       [7.0124620e-01],\n",
       "       [4.6830797e-01],\n",
       "       [4.6718544e-01],\n",
       "       [4.8965093e-01],\n",
       "       [4.6734577e-01],\n",
       "       [4.6766651e-01],\n",
       "       [4.8965093e-01],\n",
       "       [9.2862523e-01],\n",
       "       [4.8965093e-01],\n",
       "       [4.6734577e-01],\n",
       "       [4.6710527e-01],\n",
       "       [4.6862879e-01],\n",
       "       [6.5669483e-01],\n",
       "       [4.8965093e-01],\n",
       "       [4.8965093e-01],\n",
       "       [6.5851367e-01],\n",
       "       [4.8965093e-01],\n",
       "       [4.9056968e-01],\n",
       "       [4.8965093e-01],\n",
       "       [6.6394204e-01],\n",
       "       [1.8198232e-08],\n",
       "       [4.8965093e-01],\n",
       "       [4.7858471e-01],\n",
       "       [4.6798721e-01],\n",
       "       [6.8335414e-01],\n",
       "       [5.2484816e-01],\n",
       "       [4.6681973e-01],\n",
       "       [9.7741985e-01],\n",
       "       [5.8068001e-01],\n",
       "       [4.8035312e-01],\n",
       "       [4.6718544e-01],\n",
       "       [8.1655353e-01],\n",
       "       [4.8965093e-01],\n",
       "       [4.8965093e-01],\n",
       "       [4.8965093e-01],\n",
       "       [6.2899935e-01],\n",
       "       [4.8965093e-01],\n",
       "       [4.8965093e-01],\n",
       "       [5.5944985e-01]], dtype=float32)"
      ]
     },
     "execution_count": 79,
     "metadata": {},
     "output_type": "execute_result"
    }
   ],
   "source": [
    "#test prediction\n",
    "y_pred = classifier2.predict(X_test_df)\n",
    "y_pred"
   ]
  },
  {
   "cell_type": "code",
   "execution_count": 81,
   "metadata": {},
   "outputs": [
    {
     "data": {
      "text/plain": [
       "array([[0],\n",
       "       [1],\n",
       "       [0],\n",
       "       [1],\n",
       "       [0],\n",
       "       [0],\n",
       "       [0],\n",
       "       [0],\n",
       "       [0],\n",
       "       [1],\n",
       "       [0],\n",
       "       [1],\n",
       "       [0],\n",
       "       [0],\n",
       "       [0],\n",
       "       [0],\n",
       "       [0],\n",
       "       [1],\n",
       "       [1],\n",
       "       [0],\n",
       "       [1],\n",
       "       [0],\n",
       "       [0],\n",
       "       [0],\n",
       "       [1],\n",
       "       [1],\n",
       "       [1],\n",
       "       [0],\n",
       "       [1],\n",
       "       [0],\n",
       "       [0],\n",
       "       [0],\n",
       "       [0],\n",
       "       [0],\n",
       "       [0],\n",
       "       [1],\n",
       "       [0],\n",
       "       [0],\n",
       "       [0],\n",
       "       [0],\n",
       "       [0],\n",
       "       [1],\n",
       "       [0],\n",
       "       [0],\n",
       "       [0],\n",
       "       [0],\n",
       "       [1],\n",
       "       [0],\n",
       "       [0],\n",
       "       [0],\n",
       "       [1],\n",
       "       [0],\n",
       "       [1],\n",
       "       [1],\n",
       "       [0],\n",
       "       [0],\n",
       "       [1],\n",
       "       [1],\n",
       "       [0],\n",
       "       [1],\n",
       "       [1],\n",
       "       [0],\n",
       "       [1],\n",
       "       [0],\n",
       "       [0],\n",
       "       [0],\n",
       "       [0],\n",
       "       [0],\n",
       "       [0],\n",
       "       [0],\n",
       "       [0],\n",
       "       [1],\n",
       "       [0],\n",
       "       [0],\n",
       "       [0],\n",
       "       [1],\n",
       "       [0],\n",
       "       [0],\n",
       "       [1],\n",
       "       [0],\n",
       "       [0],\n",
       "       [0],\n",
       "       [0],\n",
       "       [0],\n",
       "       [0],\n",
       "       [0],\n",
       "       [0],\n",
       "       [1],\n",
       "       [0],\n",
       "       [0],\n",
       "       [0],\n",
       "       [0],\n",
       "       [1],\n",
       "       [0],\n",
       "       [0],\n",
       "       [1],\n",
       "       [0],\n",
       "       [0],\n",
       "       [0],\n",
       "       [1],\n",
       "       [0],\n",
       "       [1],\n",
       "       [0],\n",
       "       [0],\n",
       "       [0],\n",
       "       [0],\n",
       "       [0],\n",
       "       [0],\n",
       "       [0],\n",
       "       [0],\n",
       "       [0],\n",
       "       [0],\n",
       "       [0],\n",
       "       [1],\n",
       "       [0],\n",
       "       [0],\n",
       "       [0],\n",
       "       [0],\n",
       "       [1],\n",
       "       [0],\n",
       "       [0],\n",
       "       [0],\n",
       "       [0],\n",
       "       [0],\n",
       "       [0],\n",
       "       [0],\n",
       "       [0],\n",
       "       [1],\n",
       "       [0],\n",
       "       [0],\n",
       "       [0],\n",
       "       [0],\n",
       "       [0],\n",
       "       [1],\n",
       "       [0],\n",
       "       [0],\n",
       "       [0],\n",
       "       [0],\n",
       "       [0],\n",
       "       [0],\n",
       "       [0],\n",
       "       [0],\n",
       "       [1],\n",
       "       [0],\n",
       "       [0],\n",
       "       [1],\n",
       "       [0],\n",
       "       [1],\n",
       "       [0],\n",
       "       [0],\n",
       "       [0],\n",
       "       [0],\n",
       "       [0],\n",
       "       [0],\n",
       "       [1],\n",
       "       [0],\n",
       "       [1],\n",
       "       [0],\n",
       "       [1],\n",
       "       [0],\n",
       "       [0],\n",
       "       [0],\n",
       "       [0],\n",
       "       [0],\n",
       "       [1],\n",
       "       [0],\n",
       "       [0],\n",
       "       [1],\n",
       "       [0],\n",
       "       [0],\n",
       "       [0],\n",
       "       [0],\n",
       "       [1],\n",
       "       [0],\n",
       "       [1],\n",
       "       [0],\n",
       "       [1],\n",
       "       [1],\n",
       "       [0],\n",
       "       [0],\n",
       "       [0],\n",
       "       [1],\n",
       "       [0],\n",
       "       [1],\n",
       "       [0],\n",
       "       [0],\n",
       "       [1],\n",
       "       [0],\n",
       "       [1],\n",
       "       [0],\n",
       "       [1],\n",
       "       [0],\n",
       "       [0],\n",
       "       [0],\n",
       "       [0],\n",
       "       [0],\n",
       "       [0],\n",
       "       [1],\n",
       "       [0],\n",
       "       [0],\n",
       "       [0],\n",
       "       [0],\n",
       "       [0],\n",
       "       [1],\n",
       "       [0],\n",
       "       [1],\n",
       "       [0],\n",
       "       [0],\n",
       "       [0],\n",
       "       [0],\n",
       "       [0],\n",
       "       [0],\n",
       "       [0],\n",
       "       [0],\n",
       "       [1],\n",
       "       [0],\n",
       "       [1],\n",
       "       [0],\n",
       "       [0],\n",
       "       [1],\n",
       "       [0],\n",
       "       [0],\n",
       "       [0],\n",
       "       [0],\n",
       "       [1],\n",
       "       [0],\n",
       "       [0],\n",
       "       [1],\n",
       "       [0],\n",
       "       [0],\n",
       "       [0],\n",
       "       [0],\n",
       "       [0],\n",
       "       [0],\n",
       "       [0],\n",
       "       [0],\n",
       "       [0],\n",
       "       [1],\n",
       "       [0],\n",
       "       [1],\n",
       "       [0],\n",
       "       [0],\n",
       "       [0],\n",
       "       [0],\n",
       "       [0],\n",
       "       [0],\n",
       "       [1],\n",
       "       [0],\n",
       "       [0],\n",
       "       [0],\n",
       "       [0],\n",
       "       [1],\n",
       "       [0],\n",
       "       [0],\n",
       "       [1],\n",
       "       [0],\n",
       "       [0],\n",
       "       [0],\n",
       "       [1],\n",
       "       [0],\n",
       "       [0],\n",
       "       [0],\n",
       "       [0],\n",
       "       [1],\n",
       "       [1],\n",
       "       [0],\n",
       "       [1],\n",
       "       [1],\n",
       "       [0],\n",
       "       [0],\n",
       "       [1],\n",
       "       [0],\n",
       "       [0],\n",
       "       [0],\n",
       "       [1],\n",
       "       [0],\n",
       "       [0],\n",
       "       [1]])"
      ]
     },
     "execution_count": 81,
     "metadata": {},
     "output_type": "execute_result"
    }
   ],
   "source": [
    "y_pred =np.where(y_pred > 0.5 ,1, 0)\n",
    "y_pred"
   ]
  },
  {
   "cell_type": "code",
   "execution_count": 83,
   "metadata": {},
   "outputs": [
    {
     "data": {
      "text/plain": [
       "array([[123,  23],\n",
       "       [ 83,  49]], dtype=int64)"
      ]
     },
     "execution_count": 83,
     "metadata": {},
     "output_type": "execute_result"
    }
   ],
   "source": [
    "from sklearn.metrics import confusion_matrix\n",
    "cm = confusion_matrix(y_test_df, y_pred)\n",
    "cm"
   ]
  },
  {
   "cell_type": "code",
   "execution_count": 52,
   "metadata": {},
   "outputs": [
    {
     "data": {
      "text/plain": [
       "278"
      ]
     },
     "execution_count": 52,
     "metadata": {},
     "output_type": "execute_result"
    }
   ],
   "source": [
    "total_test_records=123+49+23+83\n",
    "total_test_records"
   ]
  },
  {
   "cell_type": "code",
   "execution_count": 53,
   "metadata": {},
   "outputs": [
    {
     "data": {
      "text/plain": [
       "61.87050359712231"
      ]
     },
     "execution_count": 53,
     "metadata": {},
     "output_type": "execute_result"
    }
   ],
   "source": [
    "accuracy=(123+49)/total_test_records\n",
    "accuracy*100"
   ]
  },
  {
   "cell_type": "code",
   "execution_count": null,
   "metadata": {},
   "outputs": [],
   "source": [
    "df_test_ANN=X_test_df.copy()\n",
    "df_test_ANN['Actual']=y_test_df.values\n",
    "df_test_ANN['Predicted']=y_pred\n",
    "df_test_ANN.head()"
   ]
  },
  {
   "cell_type": "markdown",
   "metadata": {},
   "source": [
    "LogisticRegression"
   ]
  },
  {
   "cell_type": "code",
   "execution_count": 54,
   "metadata": {},
   "outputs": [
    {
     "data": {
      "text/plain": [
       "LogisticRegression(C=1.0, class_weight=None, dual=False, fit_intercept=True,\n",
       "          intercept_scaling=1, max_iter=100, multi_class='ovr', n_jobs=1,\n",
       "          penalty='l2', random_state=0, solver='liblinear', tol=0.0001,\n",
       "          verbose=0, warm_start=False)"
      ]
     },
     "execution_count": 54,
     "metadata": {},
     "output_type": "execute_result"
    }
   ],
   "source": [
    "from sklearn.linear_model import LogisticRegression\n",
    "classifier = LogisticRegression(random_state = 0)\n",
    "classifier.fit(X_train_df, y_train_df)"
   ]
  },
  {
   "cell_type": "code",
   "execution_count": 109,
   "metadata": {},
   "outputs": [
    {
     "name": "stdout",
     "output_type": "stream",
     "text": [
      "[[323 224]\n",
      " [273 288]]\n"
     ]
    }
   ],
   "source": [
    "#train prediction\n",
    "y_pred_train=classifier.predict(X_train_df)\n",
    "cm_train= confusion_matrix(y_train_df, y_pred_train)\n",
    "print(cm_train)"
   ]
  },
  {
   "cell_type": "code",
   "execution_count": 110,
   "metadata": {},
   "outputs": [
    {
     "name": "stdout",
     "output_type": "stream",
     "text": [
      "1108\n"
     ]
    },
    {
     "data": {
      "text/plain": [
       "55.14440433212996"
      ]
     },
     "execution_count": 110,
     "metadata": {},
     "output_type": "execute_result"
    }
   ],
   "source": [
    "total_train_records=323+288+224+273\n",
    "print(total_train_records)\n",
    "accuracy_train=((323+288)/total_train_records)*100\n",
    "accuracy_train"
   ]
  },
  {
   "cell_type": "code",
   "execution_count": 87,
   "metadata": {},
   "outputs": [
    {
     "data": {
      "text/plain": [
       "array([0, 1, 1, 1, 1, 1, 0, 1, 1, 1, 0, 1, 1, 0, 1, 0, 0, 0, 1, 0, 0, 0,\n",
       "       0, 1, 1, 0, 1, 0, 0, 1, 1, 1, 0, 0, 1, 1, 0, 1, 0, 1, 1, 1, 0, 0,\n",
       "       0, 1, 0, 0, 1, 0, 0, 0, 0, 0, 0, 1, 1, 1, 0, 1, 0, 1, 1, 1, 1, 0,\n",
       "       0, 0, 1, 0, 1, 1, 0, 1, 1, 0, 0, 1, 1, 1, 1, 1, 0, 1, 1, 1, 0, 1,\n",
       "       1, 1, 1, 1, 1, 1, 0, 1, 0, 1, 1, 0, 1, 1, 0, 1, 0, 0, 1, 1, 0, 0,\n",
       "       1, 1, 1, 1, 0, 1, 0, 1, 1, 0, 1, 1, 0, 1, 0, 1, 1, 0, 1, 0, 0, 1,\n",
       "       1, 1, 0, 1, 0, 0, 1, 1, 1, 0, 1, 0, 1, 0, 0, 1, 1, 0, 0, 1, 0, 0,\n",
       "       1, 1, 0, 0, 1, 1, 1, 0, 0, 1, 1, 0, 0, 0, 0, 1, 1, 0, 1, 1, 0, 1,\n",
       "       1, 1, 1, 1, 0, 0, 0, 1, 1, 1, 1, 0, 1, 0, 0, 0, 1, 1, 0, 0, 0, 1,\n",
       "       1, 0, 0, 0, 0, 1, 1, 0, 1, 0, 0, 1, 0, 0, 1, 0, 1, 0, 1, 0, 1, 1,\n",
       "       0, 1, 1, 0, 0, 0, 1, 1, 0, 1, 1, 0, 1, 0, 1, 0, 0, 1, 0, 1, 1, 1,\n",
       "       0, 1, 1, 0, 1, 0, 1, 1, 1, 1, 0, 0, 1, 0, 1, 0, 1, 0, 0, 1, 1, 1,\n",
       "       0, 1, 1, 0, 1, 1, 1, 0, 0, 0, 0, 0, 0, 0], dtype=int64)"
      ]
     },
     "execution_count": 87,
     "metadata": {},
     "output_type": "execute_result"
    }
   ],
   "source": [
    "#test prediction\n",
    "y_pred = classifier.predict(X_test_df)\n",
    "y_pred"
   ]
  },
  {
   "cell_type": "code",
   "execution_count": 88,
   "metadata": {},
   "outputs": [
    {
     "data": {
      "text/plain": [
       "array([[73, 73],\n",
       "       [54, 78]], dtype=int64)"
      ]
     },
     "execution_count": 88,
     "metadata": {},
     "output_type": "execute_result"
    }
   ],
   "source": [
    "cm = confusion_matrix(y_test_df, y_pred)\n",
    "cm"
   ]
  },
  {
   "cell_type": "code",
   "execution_count": 89,
   "metadata": {},
   "outputs": [
    {
     "data": {
      "text/plain": [
       "54.31654676258992"
      ]
     },
     "execution_count": 89,
     "metadata": {},
     "output_type": "execute_result"
    }
   ],
   "source": [
    "accuracy=(73+78)/total_test_records\n",
    "accuracy*100"
   ]
  },
  {
   "cell_type": "code",
   "execution_count": null,
   "metadata": {},
   "outputs": [],
   "source": [
    "df_test_LR=X_test_df.copy()\n",
    "df_test_LR['Actual']=y_test_df.values\n",
    "df_test_LR['Predicted']=y_pred\n",
    "df_test_LR.head()"
   ]
  },
  {
   "cell_type": "markdown",
   "metadata": {},
   "source": [
    "SVM"
   ]
  },
  {
   "cell_type": "code",
   "execution_count": 59,
   "metadata": {},
   "outputs": [
    {
     "data": {
      "text/plain": [
       "SVC(C=1.0, cache_size=200, class_weight=None, coef0=0.0,\n",
       "  decision_function_shape='ovr', degree=3, gamma='auto', kernel='linear',\n",
       "  max_iter=-1, probability=False, random_state=0, shrinking=True,\n",
       "  tol=0.001, verbose=False)"
      ]
     },
     "execution_count": 59,
     "metadata": {},
     "output_type": "execute_result"
    }
   ],
   "source": [
    "from sklearn.svm import SVC\n",
    "classifier3 = SVC(kernel = 'linear', random_state = 0)\n",
    "classifier3.fit(X_train_df, y_train_df)"
   ]
  },
  {
   "cell_type": "code",
   "execution_count": 111,
   "metadata": {},
   "outputs": [
    {
     "name": "stdout",
     "output_type": "stream",
     "text": [
      "[[276 271]\n",
      " [217 344]]\n"
     ]
    }
   ],
   "source": [
    "#train pred\n",
    "y_pred_train=classifier3.predict(X_train_df)\n",
    "cm_train= confusion_matrix(y_train_df, y_pred_train)\n",
    "print(cm_train)"
   ]
  },
  {
   "cell_type": "code",
   "execution_count": 112,
   "metadata": {},
   "outputs": [
    {
     "name": "stdout",
     "output_type": "stream",
     "text": [
      "1108\n"
     ]
    },
    {
     "data": {
      "text/plain": [
       "55.95667870036101"
      ]
     },
     "execution_count": 112,
     "metadata": {},
     "output_type": "execute_result"
    }
   ],
   "source": [
    "print(total_train_records)\n",
    "accuracy_train=((276+344)/total_train_records)*100\n",
    "accuracy_train"
   ]
  },
  {
   "cell_type": "code",
   "execution_count": 92,
   "metadata": {},
   "outputs": [
    {
     "data": {
      "text/plain": [
       "array([0, 1, 1, 1, 1, 1, 0, 1, 1, 1, 0, 1, 1, 0, 1, 0, 0, 1, 1, 0, 1, 0,\n",
       "       1, 1, 1, 1, 1, 0, 1, 1, 1, 1, 0, 0, 1, 1, 0, 1, 0, 1, 1, 1, 0, 0,\n",
       "       0, 1, 1, 0, 1, 0, 1, 0, 1, 1, 0, 1, 1, 1, 0, 1, 1, 1, 1, 1, 1, 0,\n",
       "       0, 0, 1, 0, 1, 1, 0, 1, 1, 1, 0, 1, 1, 1, 1, 1, 0, 1, 1, 1, 0, 1,\n",
       "       1, 1, 1, 1, 1, 1, 0, 1, 0, 1, 1, 1, 1, 1, 0, 1, 0, 0, 1, 1, 0, 0,\n",
       "       1, 1, 1, 1, 0, 1, 0, 1, 1, 0, 1, 1, 0, 1, 0, 1, 1, 1, 1, 0, 0, 1,\n",
       "       1, 1, 0, 1, 0, 0, 1, 1, 1, 0, 1, 0, 1, 1, 0, 1, 1, 0, 0, 1, 0, 0,\n",
       "       1, 1, 1, 0, 1, 1, 1, 0, 0, 1, 1, 0, 0, 1, 0, 1, 1, 0, 1, 1, 1, 1,\n",
       "       1, 1, 1, 1, 0, 1, 0, 1, 1, 1, 1, 0, 1, 0, 1, 0, 1, 1, 0, 0, 0, 1,\n",
       "       1, 0, 0, 0, 0, 1, 1, 1, 1, 0, 0, 1, 0, 0, 1, 0, 1, 0, 1, 0, 1, 1,\n",
       "       0, 1, 1, 0, 1, 0, 1, 1, 0, 1, 1, 0, 1, 0, 1, 0, 0, 1, 0, 1, 1, 1,\n",
       "       0, 1, 1, 0, 1, 0, 1, 1, 1, 1, 0, 0, 1, 0, 1, 0, 1, 0, 0, 1, 1, 1,\n",
       "       1, 1, 1, 1, 1, 1, 1, 0, 0, 0, 1, 0, 0, 1], dtype=int64)"
      ]
     },
     "execution_count": 92,
     "metadata": {},
     "output_type": "execute_result"
    }
   ],
   "source": [
    "#test pred\n",
    "y_pred = classifier3.predict(X_test_df)\n",
    "y_pred"
   ]
  },
  {
   "cell_type": "code",
   "execution_count": 93,
   "metadata": {},
   "outputs": [
    {
     "data": {
      "text/plain": [
       "array([[61, 85],\n",
       "       [41, 91]], dtype=int64)"
      ]
     },
     "execution_count": 93,
     "metadata": {},
     "output_type": "execute_result"
    }
   ],
   "source": [
    "cm = confusion_matrix(y_test_df, y_pred)\n",
    "cm"
   ]
  },
  {
   "cell_type": "code",
   "execution_count": 94,
   "metadata": {},
   "outputs": [
    {
     "data": {
      "text/plain": [
       "54.67625899280576"
      ]
     },
     "execution_count": 94,
     "metadata": {},
     "output_type": "execute_result"
    }
   ],
   "source": [
    "accuracy=(61+91)/total_test_records\n",
    "accuracy*100"
   ]
  },
  {
   "cell_type": "code",
   "execution_count": null,
   "metadata": {},
   "outputs": [],
   "source": [
    "df_test_SVM=X_test_df.copy()\n",
    "df_test_SVM['Actual']=y_test_df.values\n",
    "df_test_SVM['Predicted']=y_pred\n",
    "df_test_SVM.head()"
   ]
  },
  {
   "cell_type": "markdown",
   "metadata": {},
   "source": [
    "RandomForestClassifier"
   ]
  },
  {
   "cell_type": "code",
   "execution_count": 65,
   "metadata": {},
   "outputs": [
    {
     "data": {
      "text/plain": [
       "RandomForestClassifier(bootstrap=True, class_weight=None, criterion='entropy',\n",
       "            max_depth=None, max_features='auto', max_leaf_nodes=None,\n",
       "            min_impurity_decrease=0.0, min_impurity_split=None,\n",
       "            min_samples_leaf=1, min_samples_split=2,\n",
       "            min_weight_fraction_leaf=0.0, n_estimators=10, n_jobs=1,\n",
       "            oob_score=False, random_state=0, verbose=0, warm_start=False)"
      ]
     },
     "execution_count": 65,
     "metadata": {},
     "output_type": "execute_result"
    }
   ],
   "source": [
    "from sklearn.ensemble import RandomForestClassifier\n",
    "classifier4 = RandomForestClassifier(n_estimators = 10, criterion = 'entropy', random_state=0)\n",
    "classifier4.fit(X_train_df, y_train_df)"
   ]
  },
  {
   "cell_type": "code",
   "execution_count": 113,
   "metadata": {},
   "outputs": [
    {
     "name": "stdout",
     "output_type": "stream",
     "text": [
      "[[517  30]\n",
      " [287 274]]\n"
     ]
    }
   ],
   "source": [
    "#train pred\n",
    "y_pred_train=classifier4.predict(X_train_df)\n",
    "cm_train= confusion_matrix(y_train_df, y_pred_train)\n",
    "print(cm_train)"
   ]
  },
  {
   "cell_type": "code",
   "execution_count": 114,
   "metadata": {},
   "outputs": [
    {
     "name": "stdout",
     "output_type": "stream",
     "text": [
      "1108\n"
     ]
    },
    {
     "data": {
      "text/plain": [
       "71.38989169675091"
      ]
     },
     "execution_count": 114,
     "metadata": {},
     "output_type": "execute_result"
    }
   ],
   "source": [
    "print(total_train_records)\n",
    "accuracy_train=((517+274)/total_train_records)*100\n",
    "accuracy_train"
   ]
  },
  {
   "cell_type": "code",
   "execution_count": 97,
   "metadata": {},
   "outputs": [
    {
     "data": {
      "text/plain": [
       "array([0, 1, 0, 1, 0, 0, 0, 1, 1, 0, 0, 1, 0, 0, 0, 0, 0, 0, 0, 0, 0, 0,\n",
       "       0, 0, 1, 0, 1, 0, 0, 1, 0, 1, 0, 0, 1, 1, 0, 0, 0, 0, 1, 0, 0, 0,\n",
       "       0, 0, 1, 0, 0, 0, 0, 0, 0, 1, 0, 0, 1, 1, 0, 1, 1, 0, 1, 0, 1, 0,\n",
       "       0, 0, 1, 0, 0, 1, 0, 1, 1, 0, 0, 0, 1, 0, 1, 0, 0, 1, 0, 1, 0, 1,\n",
       "       0, 0, 0, 0, 1, 1, 0, 1, 0, 0, 1, 0, 1, 1, 0, 0, 0, 0, 0, 0, 0, 0,\n",
       "       0, 0, 0, 1, 0, 1, 0, 0, 0, 0, 1, 0, 0, 0, 0, 1, 1, 1, 0, 0, 0, 1,\n",
       "       0, 1, 0, 0, 0, 0, 0, 0, 0, 0, 1, 0, 0, 0, 0, 1, 0, 0, 0, 1, 0, 0,\n",
       "       0, 1, 0, 0, 1, 0, 0, 0, 0, 0, 1, 0, 0, 0, 0, 1, 0, 0, 1, 0, 0, 0,\n",
       "       1, 1, 0, 0, 0, 1, 0, 1, 0, 0, 1, 0, 1, 0, 1, 0, 1, 0, 0, 0, 0, 1,\n",
       "       1, 0, 0, 0, 0, 1, 1, 0, 0, 0, 0, 0, 0, 0, 1, 0, 1, 0, 0, 0, 1, 1,\n",
       "       0, 0, 1, 0, 0, 0, 0, 1, 0, 0, 0, 0, 0, 0, 1, 0, 0, 1, 0, 1, 1, 0,\n",
       "       0, 0, 0, 0, 1, 0, 0, 0, 1, 1, 0, 0, 0, 0, 1, 0, 1, 0, 0, 0, 1, 1,\n",
       "       1, 0, 1, 1, 1, 0, 1, 0, 0, 0, 1, 0, 0, 0], dtype=int64)"
      ]
     },
     "execution_count": 97,
     "metadata": {},
     "output_type": "execute_result"
    }
   ],
   "source": [
    "#test pred\n",
    "y_pred = classifier4.predict(X_test_df)\n",
    "y_pred"
   ]
  },
  {
   "cell_type": "code",
   "execution_count": 98,
   "metadata": {},
   "outputs": [
    {
     "data": {
      "text/plain": [
       "array([[115,  31],\n",
       "       [ 77,  55]], dtype=int64)"
      ]
     },
     "execution_count": 98,
     "metadata": {},
     "output_type": "execute_result"
    }
   ],
   "source": [
    "cm = confusion_matrix(y_test_df, y_pred)\n",
    "cm"
   ]
  },
  {
   "cell_type": "code",
   "execution_count": 99,
   "metadata": {},
   "outputs": [
    {
     "data": {
      "text/plain": [
       "61.15107913669065"
      ]
     },
     "execution_count": 99,
     "metadata": {},
     "output_type": "execute_result"
    }
   ],
   "source": [
    "accuracy=(115+55)/total_test_records\n",
    "accuracy*100"
   ]
  },
  {
   "cell_type": "code",
   "execution_count": null,
   "metadata": {},
   "outputs": [],
   "source": [
    "df_test_RFC=X_test_df.copy()\n",
    "df_test_RFC['Actual']=y_test_df.values\n",
    "df_test_RFC['Predicted']=y_pred\n",
    "df_test_RFC.head()"
   ]
  },
  {
   "cell_type": "markdown",
   "metadata": {},
   "source": [
    "GaussianNB"
   ]
  },
  {
   "cell_type": "code",
   "execution_count": 73,
   "metadata": {},
   "outputs": [
    {
     "data": {
      "text/plain": [
       "GaussianNB(priors=None)"
      ]
     },
     "execution_count": 73,
     "metadata": {},
     "output_type": "execute_result"
    }
   ],
   "source": [
    "from sklearn.naive_bayes import GaussianNB\n",
    "classifier5 = GaussianNB()\n",
    "classifier5.fit(X_train_df, y_train_df)"
   ]
  },
  {
   "cell_type": "code",
   "execution_count": 115,
   "metadata": {},
   "outputs": [
    {
     "name": "stdout",
     "output_type": "stream",
     "text": [
      "[[ 40 507]\n",
      " [  0 561]]\n"
     ]
    }
   ],
   "source": [
    "#train pred\n",
    "y_pred_train=classifier5.predict(X_train_df)\n",
    "cm_train= confusion_matrix(y_train_df, y_pred_train)\n",
    "print(cm_train)"
   ]
  },
  {
   "cell_type": "code",
   "execution_count": 116,
   "metadata": {},
   "outputs": [
    {
     "name": "stdout",
     "output_type": "stream",
     "text": [
      "1108\n"
     ]
    },
    {
     "data": {
      "text/plain": [
       "54.24187725631769"
      ]
     },
     "execution_count": 116,
     "metadata": {},
     "output_type": "execute_result"
    }
   ],
   "source": [
    "print(total_train_records)\n",
    "accuracy_train=((40+561)/total_train_records)*100\n",
    "accuracy_train"
   ]
  },
  {
   "cell_type": "code",
   "execution_count": 102,
   "metadata": {},
   "outputs": [
    {
     "data": {
      "text/plain": [
       "array([0, 1, 1, 1, 1, 1, 1, 1, 1, 1, 1, 1, 1, 0, 1, 1, 1, 1, 1, 1, 1, 1,\n",
       "       0, 1, 1, 1, 1, 1, 1, 1, 1, 1, 1, 1, 1, 1, 1, 1, 1, 1, 1, 1, 1, 0,\n",
       "       1, 1, 1, 1, 1, 1, 1, 1, 1, 1, 0, 1, 1, 1, 1, 1, 1, 1, 1, 1, 1, 1,\n",
       "       1, 1, 1, 1, 1, 1, 1, 1, 1, 1, 1, 1, 1, 1, 1, 1, 1, 1, 1, 1, 1, 1,\n",
       "       1, 1, 1, 1, 1, 1, 1, 1, 1, 1, 1, 1, 1, 1, 1, 1, 0, 1, 1, 1, 1, 1,\n",
       "       1, 1, 1, 1, 1, 1, 1, 1, 1, 1, 1, 1, 1, 1, 1, 1, 1, 1, 1, 1, 1, 1,\n",
       "       1, 1, 1, 1, 1, 1, 1, 1, 1, 1, 1, 1, 1, 1, 1, 1, 1, 1, 1, 1, 0, 1,\n",
       "       1, 1, 1, 1, 1, 1, 1, 1, 1, 1, 1, 1, 1, 1, 1, 1, 1, 1, 1, 1, 1, 1,\n",
       "       1, 1, 1, 1, 1, 1, 1, 1, 1, 1, 1, 1, 1, 1, 1, 1, 1, 1, 1, 1, 1, 1,\n",
       "       1, 1, 1, 1, 1, 1, 1, 1, 1, 1, 1, 1, 1, 1, 1, 1, 1, 1, 1, 1, 1, 1,\n",
       "       1, 1, 1, 1, 1, 1, 1, 1, 1, 1, 1, 1, 1, 0, 1, 1, 1, 1, 1, 1, 1, 1,\n",
       "       1, 1, 1, 1, 1, 1, 1, 1, 1, 1, 1, 1, 1, 1, 1, 1, 1, 0, 1, 1, 1, 1,\n",
       "       1, 1, 1, 1, 1, 1, 1, 1, 1, 1, 1, 1, 1, 1], dtype=int64)"
      ]
     },
     "execution_count": 102,
     "metadata": {},
     "output_type": "execute_result"
    }
   ],
   "source": [
    "#test pred\n",
    "y_pred = classifier5.predict(X_test_df)\n",
    "y_pred"
   ]
  },
  {
   "cell_type": "code",
   "execution_count": 103,
   "metadata": {},
   "outputs": [
    {
     "data": {
      "text/plain": [
       "array([[  9, 137],\n",
       "       [  0, 132]], dtype=int64)"
      ]
     },
     "execution_count": 103,
     "metadata": {},
     "output_type": "execute_result"
    }
   ],
   "source": [
    "cm = confusion_matrix(y_test_df, y_pred)\n",
    "cm"
   ]
  },
  {
   "cell_type": "code",
   "execution_count": 104,
   "metadata": {},
   "outputs": [
    {
     "data": {
      "text/plain": [
       "50.719424460431654"
      ]
     },
     "execution_count": 104,
     "metadata": {},
     "output_type": "execute_result"
    }
   ],
   "source": [
    "accuracy=(9+132)/total_test_records\n",
    "accuracy*100"
   ]
  },
  {
   "cell_type": "code",
   "execution_count": null,
   "metadata": {},
   "outputs": [],
   "source": [
    "df_test_NB=X_test_df.copy()\n",
    "df_test_NB['Actual']=y_test_df.values\n",
    "df_test_NB['Predicted']=y_pred\n",
    "df_test_NB.head()"
   ]
  }
 ],
 "metadata": {
  "kernelspec": {
   "display_name": "Python 3",
   "language": "python",
   "name": "python3"
  },
  "language_info": {
   "codemirror_mode": {
    "name": "ipython",
    "version": 3
   },
   "file_extension": ".py",
   "mimetype": "text/x-python",
   "name": "python",
   "nbconvert_exporter": "python",
   "pygments_lexer": "ipython3",
   "version": "3.6.4"
  }
 },
 "nbformat": 4,
 "nbformat_minor": 2
}
