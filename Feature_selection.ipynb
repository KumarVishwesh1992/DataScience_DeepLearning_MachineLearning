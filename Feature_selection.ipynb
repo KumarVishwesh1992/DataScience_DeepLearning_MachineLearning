{
 "cells": [
  {
   "cell_type": "code",
   "execution_count": 5,
   "metadata": {},
   "outputs": [],
   "source": [
    "import pandas as pd\n",
    "import matplotlib.pyplot as plt\n",
    "import seaborn as sns\n",
    "import numpy as np\n",
    "from scipy.stats import norm\n",
    "from sklearn.preprocessing import StandardScaler\n",
    "from scipy import stats\n",
    "import warnings\n",
    "warnings.filterwarnings('ignore')\n",
    "get_ipython().magic(u'matplotlib inline')"
   ]
  },
  {
   "cell_type": "code",
   "execution_count": 6,
   "metadata": {},
   "outputs": [],
   "source": [
    "dataset = pd.read_csv('Stats.csv')"
   ]
  },
  {
   "cell_type": "code",
   "execution_count": 10,
   "metadata": {},
   "outputs": [
    {
     "data": {
      "text/html": [
       "<div>\n",
       "<style scoped>\n",
       "    .dataframe tbody tr th:only-of-type {\n",
       "        vertical-align: middle;\n",
       "    }\n",
       "\n",
       "    .dataframe tbody tr th {\n",
       "        vertical-align: top;\n",
       "    }\n",
       "\n",
       "    .dataframe thead th {\n",
       "        text-align: right;\n",
       "    }\n",
       "</style>\n",
       "<table border=\"1\" class=\"dataframe\">\n",
       "  <thead>\n",
       "    <tr style=\"text-align: right;\">\n",
       "      <th></th>\n",
       "      <th>4xxErrorRate</th>\n",
       "      <th>5xxErrorRate</th>\n",
       "      <th>Requests</th>\n",
       "      <th>TotalErrorRate</th>\n",
       "    </tr>\n",
       "  </thead>\n",
       "  <tbody>\n",
       "    <tr>\n",
       "      <th>count</th>\n",
       "      <td>141744.000000</td>\n",
       "      <td>141744.000000</td>\n",
       "      <td>141744.000000</td>\n",
       "      <td>141744.000000</td>\n",
       "    </tr>\n",
       "    <tr>\n",
       "      <th>mean</th>\n",
       "      <td>0.031709</td>\n",
       "      <td>0.001010</td>\n",
       "      <td>75.089725</td>\n",
       "      <td>0.032719</td>\n",
       "    </tr>\n",
       "    <tr>\n",
       "      <th>std</th>\n",
       "      <td>1.100194</td>\n",
       "      <td>0.043898</td>\n",
       "      <td>247.768057</td>\n",
       "      <td>1.101040</td>\n",
       "    </tr>\n",
       "    <tr>\n",
       "      <th>min</th>\n",
       "      <td>0.000000</td>\n",
       "      <td>0.000000</td>\n",
       "      <td>0.000000</td>\n",
       "      <td>0.000000</td>\n",
       "    </tr>\n",
       "    <tr>\n",
       "      <th>25%</th>\n",
       "      <td>0.000000</td>\n",
       "      <td>0.000000</td>\n",
       "      <td>0.000000</td>\n",
       "      <td>0.000000</td>\n",
       "    </tr>\n",
       "    <tr>\n",
       "      <th>50%</th>\n",
       "      <td>0.000000</td>\n",
       "      <td>0.000000</td>\n",
       "      <td>0.000000</td>\n",
       "      <td>0.000000</td>\n",
       "    </tr>\n",
       "    <tr>\n",
       "      <th>75%</th>\n",
       "      <td>0.000000</td>\n",
       "      <td>0.000000</td>\n",
       "      <td>0.000000</td>\n",
       "      <td>0.000000</td>\n",
       "    </tr>\n",
       "    <tr>\n",
       "      <th>max</th>\n",
       "      <td>100.000000</td>\n",
       "      <td>9.458023</td>\n",
       "      <td>1760.000000</td>\n",
       "      <td>100.000000</td>\n",
       "    </tr>\n",
       "  </tbody>\n",
       "</table>\n",
       "</div>"
      ],
      "text/plain": [
       "        4xxErrorRate   5xxErrorRate       Requests  TotalErrorRate\n",
       "count  141744.000000  141744.000000  141744.000000   141744.000000\n",
       "mean        0.031709       0.001010      75.089725        0.032719\n",
       "std         1.100194       0.043898     247.768057        1.101040\n",
       "min         0.000000       0.000000       0.000000        0.000000\n",
       "25%         0.000000       0.000000       0.000000        0.000000\n",
       "50%         0.000000       0.000000       0.000000        0.000000\n",
       "75%         0.000000       0.000000       0.000000        0.000000\n",
       "max       100.000000       9.458023    1760.000000      100.000000"
      ]
     },
     "execution_count": 10,
     "metadata": {},
     "output_type": "execute_result"
    }
   ],
   "source": [
    "dataset_imp.describe()"
   ]
  },
  {
   "cell_type": "code",
   "execution_count": 11,
   "metadata": {},
   "outputs": [],
   "source": [
    "#creating dummies\n",
    "df = pd.concat([dataset_imp,pd.get_dummies(dataset_imp['CNAMES'], prefix='CNAMES')],axis=1)\n",
    "df.drop(['CNAMES'],axis=1, inplace=True)\n",
    "df = pd.concat([df,pd.get_dummies(dataset_imp['DOMAIN_NAME'], prefix='DOMAIN_NAME')],axis=1)\n",
    "df.drop(['DOMAIN_NAME'],axis=1, inplace=True)\n",
    "df = pd.concat([df,pd.get_dummies(dataset_imp['DistributionId'], prefix='DistributionId')],axis=1)\n",
    "df.drop(['DistributionId'],axis=1, inplace=True)\n",
    "df = pd.concat([df,pd.get_dummies(dataset_imp['ORIGIN'], prefix='ORIGIN')],axis=1)\n",
    "df.drop(['ORIGIN'],axis=1, inplace=True)"
   ]
  },
  {
   "cell_type": "code",
   "execution_count": 13,
   "metadata": {},
   "outputs": [],
   "source": [
    "df=df[[c for c in df if c not in ['TotalErrorRate']] + ['TotalErrorRate']]"
   ]
  },
  {
   "cell_type": "code",
   "execution_count": null,
   "metadata": {},
   "outputs": [],
   "source": [
    "#pair plot wrt target column i.e. 'TotalErrorRate'\n",
    "sns.pairplot(data=df, y_vars=df.iloc[:, :-1].columns.tolist(), x_vars=['TotalErrorRate'])"
   ]
  },
  {
   "cell_type": "code",
   "execution_count": 19,
   "metadata": {},
   "outputs": [],
   "source": [
    "#correlation matrix\n",
    "corrmat = df.corr()"
   ]
  },
  {
   "cell_type": "code",
   "execution_count": null,
   "metadata": {},
   "outputs": [],
   "source": [
    "#top 10(value of 'k') correlated features wrt 'TotalErrorRate'\n",
    "k=10\n",
    "cols = corrmat.nlargest(k, 'TotalErrorRate')['TotalErrorRate']\n",
    "print(cols)"
   ]
  },
  {
   "cell_type": "code",
   "execution_count": null,
   "metadata": {},
   "outputs": [],
   "source": [
    "#heatmap-top 10(value of 'k') correlated features wrt 'TotalErrorRate'\n",
    "cols = corrmat.nlargest(k, 'TotalErrorRate')['TotalErrorRate'].index\n",
    "cm = np.corrcoef(df[cols].values.T)\n",
    "sns.set(font_scale=1.25)\n",
    "hm = sns.heatmap(cm, cbar=True, annot=True, square=True, fmt='.2f', annot_kws={'size': 10}, yticklabels=cols.values, xticklabels=cols.values)\n",
    "plt.show()"
   ]
  },
  {
   "cell_type": "code",
   "execution_count": 22,
   "metadata": {},
   "outputs": [],
   "source": [
    "from sklearn.preprocessing import StandardScaler\n",
    "sc_X = StandardScaler()"
   ]
  },
  {
   "cell_type": "code",
   "execution_count": 28,
   "metadata": {},
   "outputs": [],
   "source": [
    "scaled=sc_X.fit_transform(df)"
   ]
  },
  {
   "cell_type": "code",
   "execution_count": 30,
   "metadata": {},
   "outputs": [],
   "source": [
    "df_scaled = pd.DataFrame(data=scaled,columns=df.columns.tolist())"
   ]
  },
  {
   "cell_type": "code",
   "execution_count": 31,
   "metadata": {},
   "outputs": [],
   "source": [
    "#correlation matrix\n",
    "corrmat = df_scaled.corr()"
   ]
  },
  {
   "cell_type": "code",
   "execution_count": null,
   "metadata": {},
   "outputs": [],
   "source": [
    "k=10\n",
    "#heatmap-top 10(value of 'k') correlated features wrt 'TotalErrorRate'\n",
    "cols = corrmat.nlargest(k, 'TotalErrorRate')['TotalErrorRate'].index\n",
    "cm = np.corrcoef(df_scaled[cols].values.T)\n",
    "sns.set(font_scale=1.25)\n",
    "hm = sns.heatmap(cm, cbar=True, annot=True, square=True, fmt='.2f', annot_kws={'size': 10}, yticklabels=cols.values, xticklabels=cols.values)\n",
    "plt.show()"
   ]
  },
  {
   "cell_type": "code",
   "execution_count": 35,
   "metadata": {},
   "outputs": [],
   "source": [
    "#chi-2 test\n",
    "from sklearn.feature_selection import SelectKBest\n",
    "from sklearn.feature_selection import chi2"
   ]
  },
  {
   "cell_type": "code",
   "execution_count": 36,
   "metadata": {},
   "outputs": [],
   "source": [
    "#features\n",
    "X = df.iloc[:, :-1]\n",
    "#target column\n",
    "Y= df.iloc[:, 23]"
   ]
  },
  {
   "cell_type": "code",
   "execution_count": 37,
   "metadata": {},
   "outputs": [],
   "source": [
    "selector = SelectKBest(chi2, k=5)"
   ]
  },
  {
   "cell_type": "code",
   "execution_count": 38,
   "metadata": {},
   "outputs": [
    {
     "name": "stdout",
     "output_type": "stream",
     "text": [
      "<class 'numpy.ndarray'>\n"
     ]
    }
   ],
   "source": [
    "y = np.asarray(Y, dtype=\"int\")\n",
    "print(type(y))"
   ]
  },
  {
   "cell_type": "code",
   "execution_count": 39,
   "metadata": {},
   "outputs": [
    {
     "data": {
      "text/plain": [
       "SelectKBest(k=5, score_func=<function chi2 at 0x000001A6E7706158>)"
      ]
     },
     "execution_count": 39,
     "metadata": {},
     "output_type": "execute_result"
    }
   ],
   "source": [
    "#top 5 (value of 'k') features by chi-2 test\n",
    "selector = SelectKBest(chi2, k=5)\n",
    "selector.fit(X, y)\n",
    "#Selected_feature_names=X.columns[selector.get_support()]"
   ]
  },
  {
   "cell_type": "code",
   "execution_count": 40,
   "metadata": {},
   "outputs": [],
   "source": [
    "Selected_feature_names=X.columns[selector.get_support()]"
   ]
  },
  {
   "cell_type": "code",
   "execution_count": 44,
   "metadata": {},
   "outputs": [
    {
     "name": "stdout",
     "output_type": "stream",
     "text": [
      "Top features by chi-2 test\n",
      "Requests\n",
      "CNAMES_auth.ti-platform.com\n",
      "DOMAIN_NAME_dcjh1cybvrnys.cloudfront.net\n",
      "DistributionId_E1O4MVYDROXZ8A\n",
      "ORIGIN_auth.ti-platform.com.s3.amazonaws.com\n"
     ]
    }
   ],
   "source": [
    "print('Top features by chi-2 test')\n",
    "for f in Selected_feature_names:\n",
    "    print(f)"
   ]
  },
  {
   "cell_type": "code",
   "execution_count": 45,
   "metadata": {},
   "outputs": [],
   "source": [
    "from sklearn.feature_selection import f_classif"
   ]
  },
  {
   "cell_type": "code",
   "execution_count": 46,
   "metadata": {},
   "outputs": [],
   "source": [
    "#ANOVA F-value For Feature Selection\n",
    "# Create an SelectKBest object to select features with 5 best ANOVA F-Values\n",
    "selector = SelectKBest(f_classif, k=5)"
   ]
  },
  {
   "cell_type": "code",
   "execution_count": 47,
   "metadata": {},
   "outputs": [
    {
     "data": {
      "text/plain": [
       "SelectKBest(k=5, score_func=<function f_classif at 0x000001A6E7706048>)"
      ]
     },
     "execution_count": 47,
     "metadata": {},
     "output_type": "execute_result"
    }
   ],
   "source": [
    "selector.fit(X,y )"
   ]
  },
  {
   "cell_type": "code",
   "execution_count": 48,
   "metadata": {},
   "outputs": [],
   "source": [
    "Selected_feature_names=X.columns[selector.get_support()]"
   ]
  },
  {
   "cell_type": "code",
   "execution_count": 49,
   "metadata": {},
   "outputs": [
    {
     "name": "stdout",
     "output_type": "stream",
     "text": [
      "Top features by ANOVA test\n",
      "CNAMES_auth.ti-platform.com\n",
      "DOMAIN_NAME_dcjh1cybvrnys.cloudfront.net\n",
      "DistributionId_E1O4MVYDROXZ8A\n",
      "ORIGIN_auth.ti-platform.com.s3.amazonaws.com\n",
      "ORIGIN_ti-prod-emeacacheelb-1779963629.eu-west-1.elb.amazonaws.com\n"
     ]
    }
   ],
   "source": [
    "print('Top features by ANOVA test')\n",
    "for f in Selected_feature_names:\n",
    "    print(f)"
   ]
  },
  {
   "cell_type": "code",
   "execution_count": null,
   "metadata": {},
   "outputs": [],
   "source": []
  }
 ],
 "metadata": {
  "kernelspec": {
   "display_name": "Python 3",
   "language": "python",
   "name": "python3"
  },
  "language_info": {
   "codemirror_mode": {
    "name": "ipython",
    "version": 3
   },
   "file_extension": ".py",
   "mimetype": "text/x-python",
   "name": "python",
   "nbconvert_exporter": "python",
   "pygments_lexer": "ipython3",
   "version": "3.6.4"
  }
 },
 "nbformat": 4,
 "nbformat_minor": 2
}
