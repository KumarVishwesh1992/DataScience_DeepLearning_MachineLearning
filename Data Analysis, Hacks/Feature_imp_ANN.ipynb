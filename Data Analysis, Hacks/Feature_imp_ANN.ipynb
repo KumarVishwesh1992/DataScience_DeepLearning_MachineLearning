{
 "cells": [
  {
   "cell_type": "code",
   "execution_count": 1,
   "metadata": {},
   "outputs": [
    {
     "name": "stderr",
     "output_type": "stream",
     "text": [
      "C:\\Users\\kumar.vishwesh\\AppData\\Local\\Continuum\\anaconda3\\lib\\site-packages\\h5py\\__init__.py:36: FutureWarning: Conversion of the second argument of issubdtype from `float` to `np.floating` is deprecated. In future, it will be treated as `np.float64 == np.dtype(float).type`.\n",
      "  from ._conv import register_converters as _register_converters\n",
      "Using TensorFlow backend.\n"
     ]
    }
   ],
   "source": [
    "from keras.models import Sequential\n",
    "from keras.layers import Dense"
   ]
  },
  {
   "cell_type": "code",
   "execution_count": 22,
   "metadata": {},
   "outputs": [],
   "source": [
    "import numpy as np"
   ]
  },
  {
   "cell_type": "code",
   "execution_count": 2,
   "metadata": {},
   "outputs": [],
   "source": [
    "seed = 9\n",
    "numpy.random.seed(seed)"
   ]
  },
  {
   "cell_type": "code",
   "execution_count": 3,
   "metadata": {},
   "outputs": [],
   "source": [
    "from pandas import read_csv\n",
    "filename = 'C:\\\\Users\\\\kumar.vishwesh\\\\Music\\\\data preP\\\\KerasDownloads\\\\BBCN.csv'\n",
    "dataframe = read_csv(filename)"
   ]
  },
  {
   "cell_type": "code",
   "execution_count": 4,
   "metadata": {
    "scrolled": true
   },
   "outputs": [
    {
     "data": {
      "text/html": [
       "<div>\n",
       "<style scoped>\n",
       "    .dataframe tbody tr th:only-of-type {\n",
       "        vertical-align: middle;\n",
       "    }\n",
       "\n",
       "    .dataframe tbody tr th {\n",
       "        vertical-align: top;\n",
       "    }\n",
       "\n",
       "    .dataframe thead th {\n",
       "        text-align: right;\n",
       "    }\n",
       "</style>\n",
       "<table border=\"1\" class=\"dataframe\">\n",
       "  <thead>\n",
       "    <tr style=\"text-align: right;\">\n",
       "      <th></th>\n",
       "      <th>MaritalStatus</th>\n",
       "      <th>Gender</th>\n",
       "      <th>YearlyIncome</th>\n",
       "      <th>TotalChildren</th>\n",
       "      <th>NumberChildrenAtHome</th>\n",
       "      <th>EnglishEducation</th>\n",
       "      <th>HouseOwnerFlag</th>\n",
       "      <th>NumberCarsOwned</th>\n",
       "      <th>CommuteDistance</th>\n",
       "      <th>Region</th>\n",
       "      <th>Age</th>\n",
       "      <th>BikeBuyer</th>\n",
       "    </tr>\n",
       "  </thead>\n",
       "  <tbody>\n",
       "    <tr>\n",
       "      <th>0</th>\n",
       "      <td>5</td>\n",
       "      <td>1</td>\n",
       "      <td>9.0</td>\n",
       "      <td>2</td>\n",
       "      <td>0</td>\n",
       "      <td>5</td>\n",
       "      <td>1</td>\n",
       "      <td>0</td>\n",
       "      <td>2</td>\n",
       "      <td>2</td>\n",
       "      <td>5</td>\n",
       "      <td>1</td>\n",
       "    </tr>\n",
       "    <tr>\n",
       "      <th>1</th>\n",
       "      <td>5</td>\n",
       "      <td>1</td>\n",
       "      <td>6.0</td>\n",
       "      <td>3</td>\n",
       "      <td>3</td>\n",
       "      <td>5</td>\n",
       "      <td>0</td>\n",
       "      <td>1</td>\n",
       "      <td>1</td>\n",
       "      <td>2</td>\n",
       "      <td>4</td>\n",
       "      <td>1</td>\n",
       "    </tr>\n",
       "    <tr>\n",
       "      <th>2</th>\n",
       "      <td>5</td>\n",
       "      <td>1</td>\n",
       "      <td>6.0</td>\n",
       "      <td>3</td>\n",
       "      <td>3</td>\n",
       "      <td>5</td>\n",
       "      <td>1</td>\n",
       "      <td>1</td>\n",
       "      <td>5</td>\n",
       "      <td>2</td>\n",
       "      <td>4</td>\n",
       "      <td>1</td>\n",
       "    </tr>\n",
       "    <tr>\n",
       "      <th>3</th>\n",
       "      <td>5</td>\n",
       "      <td>2</td>\n",
       "      <td>7.0</td>\n",
       "      <td>0</td>\n",
       "      <td>0</td>\n",
       "      <td>5</td>\n",
       "      <td>0</td>\n",
       "      <td>1</td>\n",
       "      <td>10</td>\n",
       "      <td>2</td>\n",
       "      <td>5</td>\n",
       "      <td>1</td>\n",
       "    </tr>\n",
       "    <tr>\n",
       "      <th>4</th>\n",
       "      <td>5</td>\n",
       "      <td>2</td>\n",
       "      <td>8.0</td>\n",
       "      <td>5</td>\n",
       "      <td>5</td>\n",
       "      <td>5</td>\n",
       "      <td>1</td>\n",
       "      <td>4</td>\n",
       "      <td>2</td>\n",
       "      <td>2</td>\n",
       "      <td>5</td>\n",
       "      <td>1</td>\n",
       "    </tr>\n",
       "  </tbody>\n",
       "</table>\n",
       "</div>"
      ],
      "text/plain": [
       "   MaritalStatus  Gender  YearlyIncome  TotalChildren  NumberChildrenAtHome  \\\n",
       "0              5       1           9.0              2                     0   \n",
       "1              5       1           6.0              3                     3   \n",
       "2              5       1           6.0              3                     3   \n",
       "3              5       2           7.0              0                     0   \n",
       "4              5       2           8.0              5                     5   \n",
       "\n",
       "   EnglishEducation  HouseOwnerFlag  NumberCarsOwned  CommuteDistance  Region  \\\n",
       "0                 5               1                0                2       2   \n",
       "1                 5               0                1                1       2   \n",
       "2                 5               1                1                5       2   \n",
       "3                 5               0                1               10       2   \n",
       "4                 5               1                4                2       2   \n",
       "\n",
       "   Age  BikeBuyer  \n",
       "0    5          1  \n",
       "1    4          1  \n",
       "2    4          1  \n",
       "3    5          1  \n",
       "4    5          1  "
      ]
     },
     "execution_count": 4,
     "metadata": {},
     "output_type": "execute_result"
    }
   ],
   "source": [
    "dataframe.head()"
   ]
  },
  {
   "cell_type": "markdown",
   "metadata": {},
   "source": [
    "# Split the Output Variables\n"
   ]
  },
  {
   "cell_type": "code",
   "execution_count": 5,
   "metadata": {},
   "outputs": [],
   "source": [
    "array = dataframe.values"
   ]
  },
  {
   "cell_type": "code",
   "execution_count": 6,
   "metadata": {},
   "outputs": [],
   "source": [
    "X = array[:,0:11] \n",
    "Y = array[:,11]"
   ]
  },
  {
   "cell_type": "code",
   "execution_count": 7,
   "metadata": {},
   "outputs": [
    {
     "data": {
      "text/plain": [
       "array([[5., 1., 9., ..., 2., 2., 5.],\n",
       "       [5., 1., 6., ..., 1., 2., 4.],\n",
       "       [5., 1., 6., ..., 5., 2., 4.],\n",
       "       ...,\n",
       "       [3., 2., 4., ..., 2., 3., 5.],\n",
       "       [3., 1., 4., ..., 2., 1., 4.],\n",
       "       [3., 1., 4., ..., 2., 1., 4.]])"
      ]
     },
     "execution_count": 7,
     "metadata": {},
     "output_type": "execute_result"
    }
   ],
   "source": [
    "X"
   ]
  },
  {
   "cell_type": "code",
   "execution_count": 8,
   "metadata": {},
   "outputs": [
    {
     "data": {
      "text/plain": [
       "array([1., 1., 1., 1., 1., 1., 1., 1., 1., 1., 1., 1., 0., 0., 0., 1., 1.,\n",
       "       1., 1., 0., 1., 1., 1., 0., 0., 1., 1., 1., 1., 1., 1., 1., 1., 1.,\n",
       "       1., 1., 1., 1., 1., 1., 1., 1., 1., 0., 1., 0., 1., 1., 1., 0., 1.,\n",
       "       0., 1., 1., 1., 1., 1., 1., 1., 0., 1., 1., 1., 1., 1., 0., 0., 0.,\n",
       "       0., 1., 1., 0., 1., 0., 0., 1., 1., 1., 0., 0., 1., 0., 1., 1., 1.,\n",
       "       0., 0., 0., 1., 1., 1., 0., 1., 1., 0., 1., 1., 1., 0., 1., 1., 1.,\n",
       "       0., 1., 1., 1., 1., 1., 1., 1., 1., 1., 1., 0., 0., 0., 0., 1., 0.,\n",
       "       0., 1., 0., 0., 0., 1., 0., 1., 0., 0., 1., 0., 0., 1., 0., 1., 1.,\n",
       "       1., 0., 0., 0., 0., 0., 0., 0., 1., 1., 0., 1., 0., 0., 0., 1., 1.,\n",
       "       0., 1., 1., 1., 0., 1., 0., 1., 0., 1., 0., 0., 0., 0., 1., 1., 0.,\n",
       "       0., 1., 0., 0., 0., 1., 0., 0., 0., 0., 0., 0., 0., 0., 0., 0., 0.,\n",
       "       0., 0., 1., 0., 1., 0., 0., 0., 0., 0., 0., 0., 0., 0., 0., 0., 0.,\n",
       "       0., 0., 0., 0., 0., 0., 0., 0., 0., 0., 0., 0., 1., 1., 0., 0., 0.,\n",
       "       0., 0., 0., 1., 0., 0., 1., 0., 0., 0., 0., 0., 0., 0., 0., 0., 1.,\n",
       "       1., 1., 1., 1., 1., 1., 1., 1., 1., 1., 0., 1., 1., 1., 1., 0., 0.,\n",
       "       0., 0., 1., 0., 1., 0., 1., 0., 1., 1., 1., 1., 1., 0., 0., 1., 1.,\n",
       "       1., 0., 1., 1., 0., 0., 1., 0., 0., 1., 1., 0., 0., 0., 1., 0., 0.,\n",
       "       1., 1., 1., 1., 0., 0., 1., 1., 1., 1., 1., 0., 0., 1., 1., 0., 0.,\n",
       "       0., 1., 0., 0., 0., 0., 0., 0., 0., 0., 1., 1., 0., 1., 0., 0., 0.,\n",
       "       1., 1., 1., 1., 1., 1., 1., 0., 0., 1., 1., 1., 1., 1., 1., 1., 1.,\n",
       "       1., 1., 0., 1., 1., 1., 1., 0., 0., 0., 0., 1., 0., 1., 0., 0., 1.,\n",
       "       1., 1., 1., 1., 0., 0., 1., 1., 1., 0., 0., 1., 0., 0., 0., 1., 0.,\n",
       "       0., 0., 0., 0., 1., 1., 1., 1., 1., 0., 0., 0., 0., 1., 1., 0., 0.,\n",
       "       0., 0., 0., 1., 1., 0., 0., 1., 0., 1., 1., 1., 1., 0., 0., 1., 0.,\n",
       "       0., 1., 1., 0., 1., 1., 1., 0., 1., 1., 0., 0., 1., 1., 1., 1., 0.,\n",
       "       1., 0., 1., 1., 1., 0., 1., 1., 1., 0., 0., 0., 0., 0., 1., 0., 0.,\n",
       "       0., 1., 1., 1., 1., 1., 1., 1., 1., 1., 1., 1., 1., 1., 1., 1., 0.,\n",
       "       1., 1., 1., 1., 0., 1., 1., 0., 0., 1., 0., 1., 0., 1., 0., 0., 0.,\n",
       "       0., 0., 0., 1., 1., 1., 1., 1., 1., 1., 0., 0., 1., 1., 0., 1., 1.,\n",
       "       1., 1., 0., 1., 0., 0., 0.])"
      ]
     },
     "execution_count": 8,
     "metadata": {},
     "output_type": "execute_result"
    }
   ],
   "source": [
    "Y"
   ]
  },
  {
   "cell_type": "code",
   "execution_count": 9,
   "metadata": {},
   "outputs": [
    {
     "data": {
      "text/html": [
       "<div>\n",
       "<style scoped>\n",
       "    .dataframe tbody tr th:only-of-type {\n",
       "        vertical-align: middle;\n",
       "    }\n",
       "\n",
       "    .dataframe tbody tr th {\n",
       "        vertical-align: top;\n",
       "    }\n",
       "\n",
       "    .dataframe thead th {\n",
       "        text-align: right;\n",
       "    }\n",
       "</style>\n",
       "<table border=\"1\" class=\"dataframe\">\n",
       "  <thead>\n",
       "    <tr style=\"text-align: right;\">\n",
       "      <th></th>\n",
       "      <th>MaritalStatus</th>\n",
       "      <th>Gender</th>\n",
       "      <th>YearlyIncome</th>\n",
       "      <th>TotalChildren</th>\n",
       "      <th>NumberChildrenAtHome</th>\n",
       "      <th>EnglishEducation</th>\n",
       "      <th>HouseOwnerFlag</th>\n",
       "      <th>NumberCarsOwned</th>\n",
       "      <th>CommuteDistance</th>\n",
       "      <th>Region</th>\n",
       "      <th>Age</th>\n",
       "      <th>BikeBuyer</th>\n",
       "    </tr>\n",
       "  </thead>\n",
       "  <tbody>\n",
       "    <tr>\n",
       "      <th>0</th>\n",
       "      <td>5</td>\n",
       "      <td>1</td>\n",
       "      <td>9.0</td>\n",
       "      <td>2</td>\n",
       "      <td>0</td>\n",
       "      <td>5</td>\n",
       "      <td>1</td>\n",
       "      <td>0</td>\n",
       "      <td>2</td>\n",
       "      <td>2</td>\n",
       "      <td>5</td>\n",
       "      <td>1</td>\n",
       "    </tr>\n",
       "    <tr>\n",
       "      <th>1</th>\n",
       "      <td>5</td>\n",
       "      <td>1</td>\n",
       "      <td>6.0</td>\n",
       "      <td>3</td>\n",
       "      <td>3</td>\n",
       "      <td>5</td>\n",
       "      <td>0</td>\n",
       "      <td>1</td>\n",
       "      <td>1</td>\n",
       "      <td>2</td>\n",
       "      <td>4</td>\n",
       "      <td>1</td>\n",
       "    </tr>\n",
       "    <tr>\n",
       "      <th>2</th>\n",
       "      <td>5</td>\n",
       "      <td>1</td>\n",
       "      <td>6.0</td>\n",
       "      <td>3</td>\n",
       "      <td>3</td>\n",
       "      <td>5</td>\n",
       "      <td>1</td>\n",
       "      <td>1</td>\n",
       "      <td>5</td>\n",
       "      <td>2</td>\n",
       "      <td>4</td>\n",
       "      <td>1</td>\n",
       "    </tr>\n",
       "    <tr>\n",
       "      <th>3</th>\n",
       "      <td>5</td>\n",
       "      <td>2</td>\n",
       "      <td>7.0</td>\n",
       "      <td>0</td>\n",
       "      <td>0</td>\n",
       "      <td>5</td>\n",
       "      <td>0</td>\n",
       "      <td>1</td>\n",
       "      <td>10</td>\n",
       "      <td>2</td>\n",
       "      <td>5</td>\n",
       "      <td>1</td>\n",
       "    </tr>\n",
       "    <tr>\n",
       "      <th>4</th>\n",
       "      <td>5</td>\n",
       "      <td>2</td>\n",
       "      <td>8.0</td>\n",
       "      <td>5</td>\n",
       "      <td>5</td>\n",
       "      <td>5</td>\n",
       "      <td>1</td>\n",
       "      <td>4</td>\n",
       "      <td>2</td>\n",
       "      <td>2</td>\n",
       "      <td>5</td>\n",
       "      <td>1</td>\n",
       "    </tr>\n",
       "  </tbody>\n",
       "</table>\n",
       "</div>"
      ],
      "text/plain": [
       "   MaritalStatus  Gender  YearlyIncome  TotalChildren  NumberChildrenAtHome  \\\n",
       "0              5       1           9.0              2                     0   \n",
       "1              5       1           6.0              3                     3   \n",
       "2              5       1           6.0              3                     3   \n",
       "3              5       2           7.0              0                     0   \n",
       "4              5       2           8.0              5                     5   \n",
       "\n",
       "   EnglishEducation  HouseOwnerFlag  NumberCarsOwned  CommuteDistance  Region  \\\n",
       "0                 5               1                0                2       2   \n",
       "1                 5               0                1                1       2   \n",
       "2                 5               1                1                5       2   \n",
       "3                 5               0                1               10       2   \n",
       "4                 5               1                4                2       2   \n",
       "\n",
       "   Age  BikeBuyer  \n",
       "0    5          1  \n",
       "1    4          1  \n",
       "2    4          1  \n",
       "3    5          1  \n",
       "4    5          1  "
      ]
     },
     "execution_count": 9,
     "metadata": {},
     "output_type": "execute_result"
    }
   ],
   "source": [
    "dataframe.head()"
   ]
  },
  {
   "cell_type": "markdown",
   "metadata": {},
   "source": [
    "# Build the Model\n"
   ]
  },
  {
   "cell_type": "code",
   "execution_count": 10,
   "metadata": {},
   "outputs": [
    {
     "name": "stderr",
     "output_type": "stream",
     "text": [
      "C:\\Users\\kumar.vishwesh\\AppData\\Local\\Continuum\\anaconda3\\lib\\site-packages\\ipykernel_launcher.py:2: UserWarning: Update your `Dense` call to the Keras 2 API: `Dense(12, input_dim=11, activation=\"relu\", kernel_initializer=\"uniform\")`\n",
      "  \n",
      "C:\\Users\\kumar.vishwesh\\AppData\\Local\\Continuum\\anaconda3\\lib\\site-packages\\ipykernel_launcher.py:3: UserWarning: Update your `Dense` call to the Keras 2 API: `Dense(1, activation=\"sigmoid\", kernel_initializer=\"uniform\")`\n",
      "  This is separate from the ipykernel package so we can avoid doing imports until\n"
     ]
    }
   ],
   "source": [
    "model = Sequential()\n",
    "model.add(Dense(12, input_dim=11, init='uniform', activation='relu'))\n",
    "model.add(Dense(1, init='uniform', activation='sigmoid'))"
   ]
  },
  {
   "cell_type": "markdown",
   "metadata": {},
   "source": [
    "# Compile the Model"
   ]
  },
  {
   "cell_type": "code",
   "execution_count": 11,
   "metadata": {},
   "outputs": [],
   "source": [
    "model.compile(loss='binary_crossentropy', optimizer='adam', metrics=['accuracy'])"
   ]
  },
  {
   "cell_type": "markdown",
   "metadata": {},
   "source": [
    "#  Fit the Model"
   ]
  },
  {
   "cell_type": "code",
   "execution_count": 12,
   "metadata": {},
   "outputs": [
    {
     "name": "stderr",
     "output_type": "stream",
     "text": [
      "C:\\Users\\kumar.vishwesh\\AppData\\Local\\Continuum\\anaconda3\\lib\\site-packages\\ipykernel_launcher.py:1: UserWarning: The `nb_epoch` argument in `fit` has been renamed `epochs`.\n",
      "  \"\"\"Entry point for launching an IPython kernel.\n"
     ]
    },
    {
     "name": "stdout",
     "output_type": "stream",
     "text": [
      "Epoch 1/200\n",
      "500/500 [==============================] - 0s 931us/step - loss: 0.6939 - acc: 0.4820\n",
      "Epoch 2/200\n",
      "500/500 [==============================] - 0s 92us/step - loss: 0.6920 - acc: 0.5420\n",
      "Epoch 3/200\n",
      "500/500 [==============================] - 0s 58us/step - loss: 0.6911 - acc: 0.5340\n",
      "Epoch 4/200\n",
      "500/500 [==============================] - 0s 75us/step - loss: 0.6901 - acc: 0.5340\n",
      "Epoch 5/200\n",
      "500/500 [==============================] - 0s 56us/step - loss: 0.6892 - acc: 0.5340\n",
      "Epoch 6/200\n",
      "500/500 [==============================] - 0s 85us/step - loss: 0.6879 - acc: 0.5340\n",
      "Epoch 7/200\n",
      "500/500 [==============================] - 0s 64us/step - loss: 0.6866 - acc: 0.5340\n",
      "Epoch 8/200\n",
      "500/500 [==============================] - 0s 79us/step - loss: 0.6851 - acc: 0.5460\n",
      "Epoch 9/200\n",
      "500/500 [==============================] - 0s 55us/step - loss: 0.6836 - acc: 0.5640\n",
      "Epoch 10/200\n",
      "500/500 [==============================] - 0s 69us/step - loss: 0.6817 - acc: 0.5720\n",
      "Epoch 11/200\n",
      "500/500 [==============================] - 0s 58us/step - loss: 0.6800 - acc: 0.5720\n",
      "Epoch 12/200\n",
      "500/500 [==============================] - 0s 61us/step - loss: 0.6777 - acc: 0.5780\n",
      "Epoch 13/200\n",
      "500/500 [==============================] - 0s 100us/step - loss: 0.6756 - acc: 0.5920\n",
      "Epoch 14/200\n",
      "500/500 [==============================] - 0s 53us/step - loss: 0.6730 - acc: 0.5980\n",
      "Epoch 15/200\n",
      "500/500 [==============================] - 0s 73us/step - loss: 0.6708 - acc: 0.5840\n",
      "Epoch 16/200\n",
      "500/500 [==============================] - 0s 60us/step - loss: 0.6693 - acc: 0.5880\n",
      "Epoch 17/200\n",
      "500/500 [==============================] - 0s 57us/step - loss: 0.6674 - acc: 0.5920\n",
      "Epoch 18/200\n",
      "500/500 [==============================] - 0s 62us/step - loss: 0.6643 - acc: 0.6120\n",
      "Epoch 19/200\n",
      "500/500 [==============================] - 0s 55us/step - loss: 0.6639 - acc: 0.6000\n",
      "Epoch 20/200\n",
      "500/500 [==============================] - 0s 81us/step - loss: 0.6622 - acc: 0.6100\n",
      "Epoch 21/200\n",
      "500/500 [==============================] - 0s 55us/step - loss: 0.6596 - acc: 0.6200\n",
      "Epoch 22/200\n",
      "500/500 [==============================] - 0s 53us/step - loss: 0.6592 - acc: 0.6120\n",
      "Epoch 23/200\n",
      "500/500 [==============================] - 0s 74us/step - loss: 0.6568 - acc: 0.6200\n",
      "Epoch 24/200\n",
      "500/500 [==============================] - 0s 61us/step - loss: 0.6573 - acc: 0.6240\n",
      "Epoch 25/200\n",
      "500/500 [==============================] - 0s 62us/step - loss: 0.6539 - acc: 0.6260\n",
      "Epoch 26/200\n",
      "500/500 [==============================] - 0s 64us/step - loss: 0.6541 - acc: 0.6180\n",
      "Epoch 27/200\n",
      "500/500 [==============================] - 0s 61us/step - loss: 0.6509 - acc: 0.6220\n",
      "Epoch 28/200\n",
      "500/500 [==============================] - 0s 69us/step - loss: 0.6504 - acc: 0.6200\n",
      "Epoch 29/200\n",
      "500/500 [==============================] - 0s 54us/step - loss: 0.6504 - acc: 0.6260\n",
      "Epoch 30/200\n",
      "500/500 [==============================] - 0s 49us/step - loss: 0.6479 - acc: 0.6300\n",
      "Epoch 31/200\n",
      "500/500 [==============================] - 0s 54us/step - loss: 0.6473 - acc: 0.6260\n",
      "Epoch 32/200\n",
      "500/500 [==============================] - 0s 53us/step - loss: 0.6455 - acc: 0.6240\n",
      "Epoch 33/200\n",
      "500/500 [==============================] - 0s 56us/step - loss: 0.6455 - acc: 0.6280\n",
      "Epoch 34/200\n",
      "500/500 [==============================] - 0s 40us/step - loss: 0.6427 - acc: 0.6320\n",
      "Epoch 35/200\n",
      "500/500 [==============================] - 0s 58us/step - loss: 0.6441 - acc: 0.6300\n",
      "Epoch 36/200\n",
      "500/500 [==============================] - 0s 79us/step - loss: 0.6409 - acc: 0.6320\n",
      "Epoch 37/200\n",
      "500/500 [==============================] - 0s 74us/step - loss: 0.6406 - acc: 0.6300\n",
      "Epoch 38/200\n",
      "500/500 [==============================] - 0s 71us/step - loss: 0.6395 - acc: 0.6280\n",
      "Epoch 39/200\n",
      "500/500 [==============================] - 0s 90us/step - loss: 0.6392 - acc: 0.6300\n",
      "Epoch 40/200\n",
      "500/500 [==============================] - 0s 93us/step - loss: 0.6386 - acc: 0.6320\n",
      "Epoch 41/200\n",
      "500/500 [==============================] - 0s 82us/step - loss: 0.6387 - acc: 0.6380\n",
      "Epoch 42/200\n",
      "500/500 [==============================] - 0s 105us/step - loss: 0.6349 - acc: 0.6360\n",
      "Epoch 43/200\n",
      "500/500 [==============================] - 0s 110us/step - loss: 0.6358 - acc: 0.6400\n",
      "Epoch 44/200\n",
      "500/500 [==============================] - 0s 91us/step - loss: 0.6350 - acc: 0.6360\n",
      "Epoch 45/200\n",
      "500/500 [==============================] - 0s 56us/step - loss: 0.6336 - acc: 0.6400\n",
      "Epoch 46/200\n",
      "500/500 [==============================] - 0s 50us/step - loss: 0.6311 - acc: 0.6360\n",
      "Epoch 47/200\n",
      "500/500 [==============================] - 0s 52us/step - loss: 0.6324 - acc: 0.6380\n",
      "Epoch 48/200\n",
      "500/500 [==============================] - 0s 76us/step - loss: 0.6306 - acc: 0.6480\n",
      "Epoch 49/200\n",
      "500/500 [==============================] - 0s 57us/step - loss: 0.6292 - acc: 0.6380\n",
      "Epoch 50/200\n",
      "500/500 [==============================] - 0s 51us/step - loss: 0.6278 - acc: 0.6440\n",
      "Epoch 51/200\n",
      "500/500 [==============================] - 0s 102us/step - loss: 0.6281 - acc: 0.6480\n",
      "Epoch 52/200\n",
      "500/500 [==============================] - 0s 95us/step - loss: 0.6280 - acc: 0.6520\n",
      "Epoch 53/200\n",
      "500/500 [==============================] - 0s 96us/step - loss: 0.6261 - acc: 0.6480\n",
      "Epoch 54/200\n",
      "500/500 [==============================] - 0s 128us/step - loss: 0.6247 - acc: 0.6420\n",
      "Epoch 55/200\n",
      "500/500 [==============================] - 0s 74us/step - loss: 0.6249 - acc: 0.6500\n",
      "Epoch 56/200\n",
      "500/500 [==============================] - 0s 84us/step - loss: 0.6229 - acc: 0.6520\n",
      "Epoch 57/200\n",
      "500/500 [==============================] - 0s 111us/step - loss: 0.6221 - acc: 0.6520\n",
      "Epoch 58/200\n",
      "500/500 [==============================] - 0s 96us/step - loss: 0.6206 - acc: 0.6540\n",
      "Epoch 59/200\n",
      "500/500 [==============================] - 0s 77us/step - loss: 0.6200 - acc: 0.6540\n",
      "Epoch 60/200\n",
      "500/500 [==============================] - 0s 88us/step - loss: 0.6193 - acc: 0.6500\n",
      "Epoch 61/200\n",
      "500/500 [==============================] - 0s 103us/step - loss: 0.6196 - acc: 0.6620\n",
      "Epoch 62/200\n",
      "500/500 [==============================] - 0s 63us/step - loss: 0.6233 - acc: 0.6320\n",
      "Epoch 63/200\n",
      "500/500 [==============================] - 0s 157us/step - loss: 0.6177 - acc: 0.6560\n",
      "Epoch 64/200\n",
      "500/500 [==============================] - 0s 86us/step - loss: 0.6167 - acc: 0.6640\n",
      "Epoch 65/200\n",
      "500/500 [==============================] - 0s 69us/step - loss: 0.6174 - acc: 0.6460\n",
      "Epoch 66/200\n",
      "500/500 [==============================] - 0s 69us/step - loss: 0.6175 - acc: 0.6540\n",
      "Epoch 67/200\n",
      "500/500 [==============================] - 0s 85us/step - loss: 0.6154 - acc: 0.6460\n",
      "Epoch 68/200\n",
      "500/500 [==============================] - 0s 141us/step - loss: 0.6160 - acc: 0.6680\n",
      "Epoch 69/200\n",
      "500/500 [==============================] - 0s 130us/step - loss: 0.6128 - acc: 0.6620\n",
      "Epoch 70/200\n",
      "500/500 [==============================] - 0s 96us/step - loss: 0.6143 - acc: 0.6560\n",
      "Epoch 71/200\n",
      "500/500 [==============================] - 0s 85us/step - loss: 0.6123 - acc: 0.6580\n",
      "Epoch 72/200\n",
      "500/500 [==============================] - 0s 93us/step - loss: 0.6122 - acc: 0.6580\n",
      "Epoch 73/200\n",
      "500/500 [==============================] - 0s 98us/step - loss: 0.6121 - acc: 0.6560\n",
      "Epoch 74/200\n",
      "500/500 [==============================] - 0s 73us/step - loss: 0.6122 - acc: 0.6540\n",
      "Epoch 75/200\n",
      "500/500 [==============================] - 0s 71us/step - loss: 0.6101 - acc: 0.6520\n",
      "Epoch 76/200\n",
      "500/500 [==============================] - 0s 69us/step - loss: 0.6100 - acc: 0.6560\n",
      "Epoch 77/200\n",
      "500/500 [==============================] - 0s 51us/step - loss: 0.6102 - acc: 0.6460\n",
      "Epoch 78/200\n",
      "500/500 [==============================] - 0s 89us/step - loss: 0.6124 - acc: 0.6500\n",
      "Epoch 79/200\n",
      "500/500 [==============================] - 0s 87us/step - loss: 0.6095 - acc: 0.6460\n",
      "Epoch 80/200\n",
      "500/500 [==============================] - 0s 80us/step - loss: 0.6077 - acc: 0.6560\n",
      "Epoch 81/200\n",
      "500/500 [==============================] - 0s 87us/step - loss: 0.6089 - acc: 0.6500\n",
      "Epoch 82/200\n",
      "500/500 [==============================] - 0s 72us/step - loss: 0.6070 - acc: 0.6480\n",
      "Epoch 83/200\n",
      "500/500 [==============================] - 0s 66us/step - loss: 0.6071 - acc: 0.6540\n",
      "Epoch 84/200\n"
     ]
    },
    {
     "name": "stdout",
     "output_type": "stream",
     "text": [
      "500/500 [==============================] - 0s 94us/step - loss: 0.6079 - acc: 0.6560\n",
      "Epoch 85/200\n",
      "500/500 [==============================] - 0s 90us/step - loss: 0.6082 - acc: 0.6580\n",
      "Epoch 86/200\n",
      "500/500 [==============================] - 0s 66us/step - loss: 0.6082 - acc: 0.6540\n",
      "Epoch 87/200\n",
      "500/500 [==============================] - 0s 66us/step - loss: 0.6036 - acc: 0.6560\n",
      "Epoch 88/200\n",
      "500/500 [==============================] - 0s 63us/step - loss: 0.6061 - acc: 0.6560\n",
      "Epoch 89/200\n",
      "500/500 [==============================] - 0s 86us/step - loss: 0.6035 - acc: 0.6500\n",
      "Epoch 90/200\n",
      "500/500 [==============================] - 0s 83us/step - loss: 0.6020 - acc: 0.6580\n",
      "Epoch 91/200\n",
      "500/500 [==============================] - 0s 101us/step - loss: 0.6015 - acc: 0.6520\n",
      "Epoch 92/200\n",
      "500/500 [==============================] - 0s 91us/step - loss: 0.6006 - acc: 0.6580\n",
      "Epoch 93/200\n",
      "500/500 [==============================] - 0s 88us/step - loss: 0.6005 - acc: 0.6580\n",
      "Epoch 94/200\n",
      "500/500 [==============================] - 0s 106us/step - loss: 0.6004 - acc: 0.6520\n",
      "Epoch 95/200\n",
      "500/500 [==============================] - 0s 117us/step - loss: 0.6024 - acc: 0.6420\n",
      "Epoch 96/200\n",
      "500/500 [==============================] - 0s 86us/step - loss: 0.6013 - acc: 0.6520\n",
      "Epoch 97/200\n",
      "500/500 [==============================] - 0s 85us/step - loss: 0.5986 - acc: 0.6560\n",
      "Epoch 98/200\n",
      "500/500 [==============================] - 0s 94us/step - loss: 0.5978 - acc: 0.6540\n",
      "Epoch 99/200\n",
      "500/500 [==============================] - 0s 55us/step - loss: 0.5986 - acc: 0.6480\n",
      "Epoch 100/200\n",
      "500/500 [==============================] - 0s 66us/step - loss: 0.6006 - acc: 0.6620\n",
      "Epoch 101/200\n",
      "500/500 [==============================] - 0s 67us/step - loss: 0.5969 - acc: 0.6540\n",
      "Epoch 102/200\n",
      "500/500 [==============================] - 0s 76us/step - loss: 0.5973 - acc: 0.6600\n",
      "Epoch 103/200\n",
      "500/500 [==============================] - 0s 82us/step - loss: 0.5965 - acc: 0.6540\n",
      "Epoch 104/200\n",
      "500/500 [==============================] - 0s 61us/step - loss: 0.5970 - acc: 0.6640\n",
      "Epoch 105/200\n",
      "500/500 [==============================] - 0s 64us/step - loss: 0.5988 - acc: 0.6520\n",
      "Epoch 106/200\n",
      "500/500 [==============================] - 0s 45us/step - loss: 0.6030 - acc: 0.6540\n",
      "Epoch 107/200\n",
      "500/500 [==============================] - 0s 71us/step - loss: 0.5987 - acc: 0.6620\n",
      "Epoch 108/200\n",
      "500/500 [==============================] - 0s 56us/step - loss: 0.5954 - acc: 0.6520\n",
      "Epoch 109/200\n",
      "500/500 [==============================] - 0s 54us/step - loss: 0.5949 - acc: 0.6500\n",
      "Epoch 110/200\n",
      "500/500 [==============================] - 0s 57us/step - loss: 0.5957 - acc: 0.6520\n",
      "Epoch 111/200\n",
      "500/500 [==============================] - 0s 58us/step - loss: 0.5965 - acc: 0.6540\n",
      "Epoch 112/200\n",
      "500/500 [==============================] - 0s 69us/step - loss: 0.5951 - acc: 0.6520\n",
      "Epoch 113/200\n",
      "500/500 [==============================] - 0s 54us/step - loss: 0.5938 - acc: 0.6640\n",
      "Epoch 114/200\n",
      "500/500 [==============================] - 0s 60us/step - loss: 0.5958 - acc: 0.6560\n",
      "Epoch 115/200\n",
      "500/500 [==============================] - 0s 63us/step - loss: 0.5941 - acc: 0.6520\n",
      "Epoch 116/200\n",
      "500/500 [==============================] - 0s 72us/step - loss: 0.5926 - acc: 0.6640\n",
      "Epoch 117/200\n",
      "500/500 [==============================] - 0s 53us/step - loss: 0.5921 - acc: 0.6560\n",
      "Epoch 118/200\n",
      "500/500 [==============================] - 0s 78us/step - loss: 0.5931 - acc: 0.6600\n",
      "Epoch 119/200\n",
      "500/500 [==============================] - 0s 101us/step - loss: 0.5914 - acc: 0.6600\n",
      "Epoch 120/200\n",
      "500/500 [==============================] - 0s 81us/step - loss: 0.5934 - acc: 0.6540\n",
      "Epoch 121/200\n",
      "500/500 [==============================] - 0s 64us/step - loss: 0.5915 - acc: 0.6560\n",
      "Epoch 122/200\n",
      "500/500 [==============================] - 0s 89us/step - loss: 0.5913 - acc: 0.6580\n",
      "Epoch 123/200\n",
      "500/500 [==============================] - 0s 58us/step - loss: 0.5930 - acc: 0.6520\n",
      "Epoch 124/200\n",
      "500/500 [==============================] - 0s 63us/step - loss: 0.5935 - acc: 0.6580\n",
      "Epoch 125/200\n",
      "500/500 [==============================] - 0s 81us/step - loss: 0.5912 - acc: 0.6540\n",
      "Epoch 126/200\n",
      "500/500 [==============================] - 0s 78us/step - loss: 0.5902 - acc: 0.6660\n",
      "Epoch 127/200\n",
      "500/500 [==============================] - 0s 60us/step - loss: 0.5894 - acc: 0.6620\n",
      "Epoch 128/200\n",
      "500/500 [==============================] - 0s 57us/step - loss: 0.5907 - acc: 0.6620\n",
      "Epoch 129/200\n",
      "500/500 [==============================] - 0s 77us/step - loss: 0.5899 - acc: 0.6600\n",
      "Epoch 130/200\n",
      "500/500 [==============================] - 0s 66us/step - loss: 0.5900 - acc: 0.6640\n",
      "Epoch 131/200\n",
      "500/500 [==============================] - 0s 102us/step - loss: 0.5903 - acc: 0.6640\n",
      "Epoch 132/200\n",
      "500/500 [==============================] - 0s 78us/step - loss: 0.5918 - acc: 0.6480\n",
      "Epoch 133/200\n",
      "500/500 [==============================] - 0s 95us/step - loss: 0.5902 - acc: 0.6580\n",
      "Epoch 134/200\n",
      "500/500 [==============================] - 0s 72us/step - loss: 0.5914 - acc: 0.6520\n",
      "Epoch 135/200\n",
      "500/500 [==============================] - 0s 66us/step - loss: 0.5889 - acc: 0.6520\n",
      "Epoch 136/200\n",
      "500/500 [==============================] - 0s 67us/step - loss: 0.5882 - acc: 0.6520\n",
      "Epoch 137/200\n",
      "500/500 [==============================] - 0s 71us/step - loss: 0.5900 - acc: 0.6540\n",
      "Epoch 138/200\n",
      "500/500 [==============================] - 0s 62us/step - loss: 0.5874 - acc: 0.6540\n",
      "Epoch 139/200\n",
      "500/500 [==============================] - 0s 62us/step - loss: 0.5899 - acc: 0.6540\n",
      "Epoch 140/200\n",
      "500/500 [==============================] - 0s 53us/step - loss: 0.5884 - acc: 0.6580\n",
      "Epoch 141/200\n",
      "500/500 [==============================] - 0s 49us/step - loss: 0.5859 - acc: 0.6540\n",
      "Epoch 142/200\n",
      "500/500 [==============================] - 0s 70us/step - loss: 0.5875 - acc: 0.6580\n",
      "Epoch 143/200\n",
      "500/500 [==============================] - 0s 53us/step - loss: 0.5859 - acc: 0.6580\n",
      "Epoch 144/200\n",
      "500/500 [==============================] - 0s 78us/step - loss: 0.5883 - acc: 0.6500\n",
      "Epoch 145/200\n",
      "500/500 [==============================] - 0s 54us/step - loss: 0.5864 - acc: 0.6620\n",
      "Epoch 146/200\n",
      "500/500 [==============================] - 0s 73us/step - loss: 0.5870 - acc: 0.6580\n",
      "Epoch 147/200\n",
      "500/500 [==============================] - 0s 66us/step - loss: 0.5872 - acc: 0.6440\n",
      "Epoch 148/200\n",
      "500/500 [==============================] - 0s 62us/step - loss: 0.5862 - acc: 0.6640\n",
      "Epoch 149/200\n",
      "500/500 [==============================] - 0s 49us/step - loss: 0.5854 - acc: 0.6640\n",
      "Epoch 150/200\n",
      "500/500 [==============================] - 0s 82us/step - loss: 0.5868 - acc: 0.6700\n",
      "Epoch 151/200\n",
      "500/500 [==============================] - 0s 50us/step - loss: 0.5885 - acc: 0.6540\n",
      "Epoch 152/200\n",
      "500/500 [==============================] - 0s 51us/step - loss: 0.5836 - acc: 0.6640\n",
      "Epoch 153/200\n",
      "500/500 [==============================] - 0s 65us/step - loss: 0.5850 - acc: 0.6660\n",
      "Epoch 154/200\n",
      "500/500 [==============================] - 0s 57us/step - loss: 0.5844 - acc: 0.6560\n",
      "Epoch 155/200\n",
      "500/500 [==============================] - 0s 51us/step - loss: 0.5850 - acc: 0.6740\n",
      "Epoch 156/200\n",
      "500/500 [==============================] - 0s 68us/step - loss: 0.5846 - acc: 0.6540\n",
      "Epoch 157/200\n",
      "500/500 [==============================] - 0s 52us/step - loss: 0.5846 - acc: 0.6560\n",
      "Epoch 158/200\n",
      "500/500 [==============================] - 0s 59us/step - loss: 0.5845 - acc: 0.6640\n",
      "Epoch 159/200\n",
      "500/500 [==============================] - 0s 52us/step - loss: 0.5841 - acc: 0.6600\n",
      "Epoch 160/200\n",
      "500/500 [==============================] - 0s 63us/step - loss: 0.5836 - acc: 0.6600\n",
      "Epoch 161/200\n",
      "500/500 [==============================] - 0s 107us/step - loss: 0.5830 - acc: 0.6620\n",
      "Epoch 162/200\n",
      "500/500 [==============================] - 0s 64us/step - loss: 0.5845 - acc: 0.6620\n",
      "Epoch 163/200\n",
      "500/500 [==============================] - 0s 72us/step - loss: 0.5842 - acc: 0.6600\n",
      "Epoch 164/200\n",
      "500/500 [==============================] - 0s 84us/step - loss: 0.5827 - acc: 0.6540\n",
      "Epoch 165/200\n",
      "500/500 [==============================] - 0s 66us/step - loss: 0.5831 - acc: 0.6600\n",
      "Epoch 166/200\n",
      "500/500 [==============================] - 0s 67us/step - loss: 0.5823 - acc: 0.6660\n"
     ]
    },
    {
     "name": "stdout",
     "output_type": "stream",
     "text": [
      "Epoch 167/200\n",
      "500/500 [==============================] - 0s 76us/step - loss: 0.5888 - acc: 0.6720\n",
      "Epoch 168/200\n",
      "500/500 [==============================] - 0s 60us/step - loss: 0.5802 - acc: 0.6660\n",
      "Epoch 169/200\n",
      "500/500 [==============================] - 0s 64us/step - loss: 0.5828 - acc: 0.6560\n",
      "Epoch 170/200\n",
      "500/500 [==============================] - 0s 84us/step - loss: 0.5851 - acc: 0.6860\n",
      "Epoch 171/200\n",
      "500/500 [==============================] - 0s 73us/step - loss: 0.5853 - acc: 0.6660\n",
      "Epoch 172/200\n",
      "500/500 [==============================] - 0s 69us/step - loss: 0.5817 - acc: 0.6580\n",
      "Epoch 173/200\n",
      "500/500 [==============================] - 0s 90us/step - loss: 0.5800 - acc: 0.6600\n",
      "Epoch 174/200\n",
      "500/500 [==============================] - 0s 95us/step - loss: 0.5821 - acc: 0.6640\n",
      "Epoch 175/200\n",
      "500/500 [==============================] - 0s 75us/step - loss: 0.5812 - acc: 0.6580\n",
      "Epoch 176/200\n",
      "500/500 [==============================] - 0s 94us/step - loss: 0.5800 - acc: 0.6620\n",
      "Epoch 177/200\n",
      "500/500 [==============================] - 0s 99us/step - loss: 0.5792 - acc: 0.6600\n",
      "Epoch 178/200\n",
      "500/500 [==============================] - 0s 76us/step - loss: 0.5811 - acc: 0.6660\n",
      "Epoch 179/200\n",
      "500/500 [==============================] - 0s 75us/step - loss: 0.5795 - acc: 0.6660\n",
      "Epoch 180/200\n",
      "500/500 [==============================] - 0s 72us/step - loss: 0.5795 - acc: 0.6680\n",
      "Epoch 181/200\n",
      "500/500 [==============================] - 0s 93us/step - loss: 0.5778 - acc: 0.6680\n",
      "Epoch 182/200\n",
      "500/500 [==============================] - 0s 72us/step - loss: 0.5791 - acc: 0.6700\n",
      "Epoch 183/200\n",
      "500/500 [==============================] - 0s 92us/step - loss: 0.5802 - acc: 0.6680\n",
      "Epoch 184/200\n",
      "500/500 [==============================] - 0s 72us/step - loss: 0.5816 - acc: 0.6620\n",
      "Epoch 185/200\n",
      "500/500 [==============================] - 0s 85us/step - loss: 0.5782 - acc: 0.6640\n",
      "Epoch 186/200\n",
      "500/500 [==============================] - 0s 73us/step - loss: 0.5784 - acc: 0.6740\n",
      "Epoch 187/200\n",
      "500/500 [==============================] - 0s 84us/step - loss: 0.5796 - acc: 0.6660\n",
      "Epoch 188/200\n",
      "500/500 [==============================] - 0s 73us/step - loss: 0.5799 - acc: 0.6820\n",
      "Epoch 189/200\n",
      "500/500 [==============================] - 0s 104us/step - loss: 0.5776 - acc: 0.6720\n",
      "Epoch 190/200\n",
      "500/500 [==============================] - 0s 94us/step - loss: 0.5798 - acc: 0.6620\n",
      "Epoch 191/200\n",
      "500/500 [==============================] - 0s 125us/step - loss: 0.5760 - acc: 0.6620\n",
      "Epoch 192/200\n",
      "500/500 [==============================] - 0s 95us/step - loss: 0.5819 - acc: 0.6640\n",
      "Epoch 193/200\n",
      "500/500 [==============================] - 0s 88us/step - loss: 0.5781 - acc: 0.6800\n",
      "Epoch 194/200\n",
      "500/500 [==============================] - 0s 109us/step - loss: 0.5770 - acc: 0.6600\n",
      "Epoch 195/200\n",
      "500/500 [==============================] - 0s 96us/step - loss: 0.5769 - acc: 0.6740\n",
      "Epoch 196/200\n",
      "500/500 [==============================] - ETA: 0s - loss: 0.5722 - acc: 0.700 - 0s 94us/step - loss: 0.5761 - acc: 0.6720\n",
      "Epoch 197/200\n",
      "500/500 [==============================] - 0s 105us/step - loss: 0.5764 - acc: 0.6660\n",
      "Epoch 198/200\n",
      "500/500 [==============================] - 0s 89us/step - loss: 0.5764 - acc: 0.6700\n",
      "Epoch 199/200\n",
      "500/500 [==============================] - 0s 68us/step - loss: 0.5762 - acc: 0.6680\n",
      "Epoch 200/200\n",
      "500/500 [==============================] - 0s 78us/step - loss: 0.5759 - acc: 0.6800\n"
     ]
    },
    {
     "data": {
      "text/plain": [
       "<keras.callbacks.History at 0x1cdfa0a1748>"
      ]
     },
     "execution_count": 12,
     "metadata": {},
     "output_type": "execute_result"
    }
   ],
   "source": [
    "model.fit(X, Y, nb_epoch=200, batch_size=30)"
   ]
  },
  {
   "cell_type": "markdown",
   "metadata": {},
   "source": [
    "#   Score the Model"
   ]
  },
  {
   "cell_type": "code",
   "execution_count": 13,
   "metadata": {
    "scrolled": true
   },
   "outputs": [
    {
     "name": "stdout",
     "output_type": "stream",
     "text": [
      "500/500 [==============================] - 0s 188us/step\n",
      "acc: 68.00%\n"
     ]
    }
   ],
   "source": [
    "scores = model.evaluate(X, Y)\n",
    "print(\"%s: %.2f%%\" % (model.metrics_names[1], scores[1]*100))\n"
   ]
  },
  {
   "cell_type": "markdown",
   "metadata": {},
   "source": [
    "# Number of layers in model"
   ]
  },
  {
   "cell_type": "code",
   "execution_count": 14,
   "metadata": {},
   "outputs": [
    {
     "name": "stdout",
     "output_type": "stream",
     "text": [
      "L\n",
      "L\n"
     ]
    }
   ],
   "source": [
    "for l in model.layers:\n",
    "    print('L')"
   ]
  },
  {
   "cell_type": "code",
   "execution_count": 16,
   "metadata": {},
   "outputs": [],
   "source": [
    "c = model.layers[0].get_config()"
   ]
  },
  {
   "cell_type": "code",
   "execution_count": 17,
   "metadata": {},
   "outputs": [
    {
     "data": {
      "text/plain": [
       "{'activation': 'relu',\n",
       " 'activity_regularizer': None,\n",
       " 'batch_input_shape': (None, 11),\n",
       " 'bias_constraint': None,\n",
       " 'bias_initializer': {'class_name': 'Zeros', 'config': {}},\n",
       " 'bias_regularizer': None,\n",
       " 'dtype': 'float32',\n",
       " 'kernel_constraint': None,\n",
       " 'kernel_initializer': {'class_name': 'RandomUniform',\n",
       "  'config': {'maxval': 0.05, 'minval': -0.05, 'seed': None}},\n",
       " 'kernel_regularizer': None,\n",
       " 'name': 'dense_1',\n",
       " 'trainable': True,\n",
       " 'units': 12,\n",
       " 'use_bias': True}"
      ]
     },
     "execution_count": 17,
     "metadata": {},
     "output_type": "execute_result"
    }
   ],
   "source": [
    "c"
   ]
  },
  {
   "cell_type": "code",
   "execution_count": 18,
   "metadata": {},
   "outputs": [],
   "source": [
    "#weights for input to !st hidden layer\n",
    "w=model.layers[0].get_weights()[0]"
   ]
  },
  {
   "cell_type": "code",
   "execution_count": 19,
   "metadata": {},
   "outputs": [
    {
     "data": {
      "text/plain": [
       "array([[-0.04133607, -0.2274428 ,  0.11989309, -0.04685714, -0.01202025,\n",
       "         0.13777342, -0.02991908,  0.10700075,  0.18075018, -0.26759595,\n",
       "         0.25133044, -0.02533877],\n",
       "       [-0.0222829 ,  0.08310211,  0.04635041, -0.11370195, -0.07586775,\n",
       "        -0.24200498, -0.05421669, -0.07425109,  0.09929024,  0.03787233,\n",
       "        -0.2601468 ,  0.1326435 ],\n",
       "       [ 0.00974197,  0.19370504,  0.07419099,  0.07391284,  0.08902567,\n",
       "         0.03462448, -0.02035695,  0.17752127, -0.06519699,  0.10436139,\n",
       "         0.03579512,  0.06988245],\n",
       "       [ 0.03212606, -0.13047108,  0.19652204,  0.01521595,  0.04913797,\n",
       "        -0.33423632,  0.01306595, -0.19169514,  0.11571354,  0.34986883,\n",
       "        -0.17810331,  0.14731275],\n",
       "       [-0.01288238, -0.12443854,  0.00654657, -0.13193302,  0.00575066,\n",
       "         0.04154261, -0.01522167,  0.11996554,  0.08900544, -0.15050828,\n",
       "         0.03508468,  0.30985054],\n",
       "       [-0.0134722 , -0.24156454,  0.15890226,  0.03247799, -0.01268613,\n",
       "         0.12564081, -0.04353134,  0.11266359,  0.16758402, -0.27960554,\n",
       "         0.2519682 ,  0.00716376],\n",
       "       [-0.05379744,  0.03632741, -0.22286308,  0.1912977 ,  0.2907219 ,\n",
       "         0.08471103,  0.0381376 , -0.08893293,  0.11597775,  0.78120863,\n",
       "        -0.42969307,  0.22429045],\n",
       "       [ 0.01036828, -0.08658413, -0.1306397 , -0.00978559,  0.01009344,\n",
       "        -0.24051832,  0.01577112, -0.02672853, -0.3100284 ,  0.12092875,\n",
       "        -0.15979633, -0.1282732 ],\n",
       "       [-0.05319655,  0.19838662, -0.04523999,  0.19543445,  0.12494583,\n",
       "         0.0530699 ,  0.0039679 ,  0.0069392 , -0.01891256, -0.01926502,\n",
       "         0.06481964,  0.07297106],\n",
       "       [-0.02689954, -0.50472283, -0.49606794,  0.19979614,  0.20719537,\n",
       "         0.2570571 , -0.03084477,  0.3253521 , -0.52151585, -0.08621065,\n",
       "         0.27569166, -0.7217648 ],\n",
       "       [-0.02813309, -0.01173856,  0.06932613, -0.11038049, -0.0069945 ,\n",
       "        -0.07206398, -0.01339928, -0.28269008,  0.03451169,  0.10514421,\n",
       "        -0.31555954, -0.00763254]], dtype=float32)"
      ]
     },
     "execution_count": 19,
     "metadata": {},
     "output_type": "execute_result"
    }
   ],
   "source": [
    "w"
   ]
  },
  {
   "cell_type": "code",
   "execution_count": 20,
   "metadata": {},
   "outputs": [],
   "source": [
    "#bias for input to 1st hidden layer\n",
    "b=model.layers[0].get_weights()[1]"
   ]
  },
  {
   "cell_type": "code",
   "execution_count": 21,
   "metadata": {},
   "outputs": [
    {
     "data": {
      "text/plain": [
       "array([-0.015429  , -0.05083136,  0.14747465, -0.15497175, -0.19432467,\n",
       "       -0.09479216, -0.00506075, -0.0998566 ,  0.0680735 , -0.19706419,\n",
       "       -0.20846093, -0.01799691], dtype=float32)"
      ]
     },
     "execution_count": 21,
     "metadata": {},
     "output_type": "execute_result"
    }
   ],
   "source": [
    "b"
   ]
  },
  {
   "cell_type": "code",
   "execution_count": 23,
   "metadata": {},
   "outputs": [],
   "source": [
    "nw1=np.array(w)"
   ]
  },
  {
   "cell_type": "code",
   "execution_count": 24,
   "metadata": {},
   "outputs": [],
   "source": [
    "nb1=np.array(b)"
   ]
  },
  {
   "cell_type": "code",
   "execution_count": 25,
   "metadata": {},
   "outputs": [
    {
     "data": {
      "text/plain": [
       "(11, 12)"
      ]
     },
     "execution_count": 25,
     "metadata": {},
     "output_type": "execute_result"
    }
   ],
   "source": [
    "nw1.shape"
   ]
  },
  {
   "cell_type": "code",
   "execution_count": 26,
   "metadata": {},
   "outputs": [
    {
     "data": {
      "text/plain": [
       "(12,)"
      ]
     },
     "execution_count": 26,
     "metadata": {},
     "output_type": "execute_result"
    }
   ],
   "source": [
    "nb1.shape"
   ]
  },
  {
   "cell_type": "code",
   "execution_count": 28,
   "metadata": {},
   "outputs": [],
   "source": [
    "#weights for hidden to output layer\n",
    "w2=model.layers[1].get_weights()[0]"
   ]
  },
  {
   "cell_type": "code",
   "execution_count": 31,
   "metadata": {},
   "outputs": [],
   "source": [
    "#bias for hidden to output layer\n",
    "b2=model.layers[1].get_weights()[1]"
   ]
  },
  {
   "cell_type": "code",
   "execution_count": 32,
   "metadata": {},
   "outputs": [],
   "source": [
    "nw2=np.array(w2)\n",
    "nb2=np.array(b2)"
   ]
  },
  {
   "cell_type": "code",
   "execution_count": 33,
   "metadata": {},
   "outputs": [
    {
     "data": {
      "text/plain": [
       "(12, 1)"
      ]
     },
     "execution_count": 33,
     "metadata": {},
     "output_type": "execute_result"
    }
   ],
   "source": [
    "nw2.shape"
   ]
  },
  {
   "cell_type": "code",
   "execution_count": 34,
   "metadata": {},
   "outputs": [
    {
     "data": {
      "text/plain": [
       "(1,)"
      ]
     },
     "execution_count": 34,
     "metadata": {},
     "output_type": "execute_result"
    }
   ],
   "source": [
    "nb2.shape"
   ]
  },
  {
   "cell_type": "code",
   "execution_count": 35,
   "metadata": {},
   "outputs": [],
   "source": [
    "# save to variable\n",
    "import pandas as pd\n",
    "w_l1 = pd.DataFrame(nw1)\n",
    "w_l2 = pd.DataFrame(nw2)"
   ]
  },
  {
   "cell_type": "code",
   "execution_count": 36,
   "metadata": {},
   "outputs": [
    {
     "data": {
      "text/html": [
       "<div>\n",
       "<style scoped>\n",
       "    .dataframe tbody tr th:only-of-type {\n",
       "        vertical-align: middle;\n",
       "    }\n",
       "\n",
       "    .dataframe tbody tr th {\n",
       "        vertical-align: top;\n",
       "    }\n",
       "\n",
       "    .dataframe thead th {\n",
       "        text-align: right;\n",
       "    }\n",
       "</style>\n",
       "<table border=\"1\" class=\"dataframe\">\n",
       "  <thead>\n",
       "    <tr style=\"text-align: right;\">\n",
       "      <th></th>\n",
       "      <th>0</th>\n",
       "      <th>1</th>\n",
       "      <th>2</th>\n",
       "      <th>3</th>\n",
       "      <th>4</th>\n",
       "      <th>5</th>\n",
       "      <th>6</th>\n",
       "      <th>7</th>\n",
       "      <th>8</th>\n",
       "      <th>9</th>\n",
       "      <th>10</th>\n",
       "      <th>11</th>\n",
       "    </tr>\n",
       "  </thead>\n",
       "  <tbody>\n",
       "    <tr>\n",
       "      <th>0</th>\n",
       "      <td>-0.041336</td>\n",
       "      <td>-0.227443</td>\n",
       "      <td>0.119893</td>\n",
       "      <td>-0.046857</td>\n",
       "      <td>-0.012020</td>\n",
       "      <td>0.137773</td>\n",
       "      <td>-0.029919</td>\n",
       "      <td>0.107001</td>\n",
       "      <td>0.180750</td>\n",
       "      <td>-0.267596</td>\n",
       "      <td>0.251330</td>\n",
       "      <td>-0.025339</td>\n",
       "    </tr>\n",
       "    <tr>\n",
       "      <th>1</th>\n",
       "      <td>-0.022283</td>\n",
       "      <td>0.083102</td>\n",
       "      <td>0.046350</td>\n",
       "      <td>-0.113702</td>\n",
       "      <td>-0.075868</td>\n",
       "      <td>-0.242005</td>\n",
       "      <td>-0.054217</td>\n",
       "      <td>-0.074251</td>\n",
       "      <td>0.099290</td>\n",
       "      <td>0.037872</td>\n",
       "      <td>-0.260147</td>\n",
       "      <td>0.132644</td>\n",
       "    </tr>\n",
       "    <tr>\n",
       "      <th>2</th>\n",
       "      <td>0.009742</td>\n",
       "      <td>0.193705</td>\n",
       "      <td>0.074191</td>\n",
       "      <td>0.073913</td>\n",
       "      <td>0.089026</td>\n",
       "      <td>0.034624</td>\n",
       "      <td>-0.020357</td>\n",
       "      <td>0.177521</td>\n",
       "      <td>-0.065197</td>\n",
       "      <td>0.104361</td>\n",
       "      <td>0.035795</td>\n",
       "      <td>0.069882</td>\n",
       "    </tr>\n",
       "    <tr>\n",
       "      <th>3</th>\n",
       "      <td>0.032126</td>\n",
       "      <td>-0.130471</td>\n",
       "      <td>0.196522</td>\n",
       "      <td>0.015216</td>\n",
       "      <td>0.049138</td>\n",
       "      <td>-0.334236</td>\n",
       "      <td>0.013066</td>\n",
       "      <td>-0.191695</td>\n",
       "      <td>0.115714</td>\n",
       "      <td>0.349869</td>\n",
       "      <td>-0.178103</td>\n",
       "      <td>0.147313</td>\n",
       "    </tr>\n",
       "    <tr>\n",
       "      <th>4</th>\n",
       "      <td>-0.012882</td>\n",
       "      <td>-0.124439</td>\n",
       "      <td>0.006547</td>\n",
       "      <td>-0.131933</td>\n",
       "      <td>0.005751</td>\n",
       "      <td>0.041543</td>\n",
       "      <td>-0.015222</td>\n",
       "      <td>0.119966</td>\n",
       "      <td>0.089005</td>\n",
       "      <td>-0.150508</td>\n",
       "      <td>0.035085</td>\n",
       "      <td>0.309851</td>\n",
       "    </tr>\n",
       "    <tr>\n",
       "      <th>5</th>\n",
       "      <td>-0.013472</td>\n",
       "      <td>-0.241565</td>\n",
       "      <td>0.158902</td>\n",
       "      <td>0.032478</td>\n",
       "      <td>-0.012686</td>\n",
       "      <td>0.125641</td>\n",
       "      <td>-0.043531</td>\n",
       "      <td>0.112664</td>\n",
       "      <td>0.167584</td>\n",
       "      <td>-0.279606</td>\n",
       "      <td>0.251968</td>\n",
       "      <td>0.007164</td>\n",
       "    </tr>\n",
       "    <tr>\n",
       "      <th>6</th>\n",
       "      <td>-0.053797</td>\n",
       "      <td>0.036327</td>\n",
       "      <td>-0.222863</td>\n",
       "      <td>0.191298</td>\n",
       "      <td>0.290722</td>\n",
       "      <td>0.084711</td>\n",
       "      <td>0.038138</td>\n",
       "      <td>-0.088933</td>\n",
       "      <td>0.115978</td>\n",
       "      <td>0.781209</td>\n",
       "      <td>-0.429693</td>\n",
       "      <td>0.224290</td>\n",
       "    </tr>\n",
       "    <tr>\n",
       "      <th>7</th>\n",
       "      <td>0.010368</td>\n",
       "      <td>-0.086584</td>\n",
       "      <td>-0.130640</td>\n",
       "      <td>-0.009786</td>\n",
       "      <td>0.010093</td>\n",
       "      <td>-0.240518</td>\n",
       "      <td>0.015771</td>\n",
       "      <td>-0.026729</td>\n",
       "      <td>-0.310028</td>\n",
       "      <td>0.120929</td>\n",
       "      <td>-0.159796</td>\n",
       "      <td>-0.128273</td>\n",
       "    </tr>\n",
       "    <tr>\n",
       "      <th>8</th>\n",
       "      <td>-0.053197</td>\n",
       "      <td>0.198387</td>\n",
       "      <td>-0.045240</td>\n",
       "      <td>0.195434</td>\n",
       "      <td>0.124946</td>\n",
       "      <td>0.053070</td>\n",
       "      <td>0.003968</td>\n",
       "      <td>0.006939</td>\n",
       "      <td>-0.018913</td>\n",
       "      <td>-0.019265</td>\n",
       "      <td>0.064820</td>\n",
       "      <td>0.072971</td>\n",
       "    </tr>\n",
       "    <tr>\n",
       "      <th>9</th>\n",
       "      <td>-0.026900</td>\n",
       "      <td>-0.504723</td>\n",
       "      <td>-0.496068</td>\n",
       "      <td>0.199796</td>\n",
       "      <td>0.207195</td>\n",
       "      <td>0.257057</td>\n",
       "      <td>-0.030845</td>\n",
       "      <td>0.325352</td>\n",
       "      <td>-0.521516</td>\n",
       "      <td>-0.086211</td>\n",
       "      <td>0.275692</td>\n",
       "      <td>-0.721765</td>\n",
       "    </tr>\n",
       "    <tr>\n",
       "      <th>10</th>\n",
       "      <td>-0.028133</td>\n",
       "      <td>-0.011739</td>\n",
       "      <td>0.069326</td>\n",
       "      <td>-0.110380</td>\n",
       "      <td>-0.006994</td>\n",
       "      <td>-0.072064</td>\n",
       "      <td>-0.013399</td>\n",
       "      <td>-0.282690</td>\n",
       "      <td>0.034512</td>\n",
       "      <td>0.105144</td>\n",
       "      <td>-0.315560</td>\n",
       "      <td>-0.007633</td>\n",
       "    </tr>\n",
       "  </tbody>\n",
       "</table>\n",
       "</div>"
      ],
      "text/plain": [
       "          0         1         2         3         4         5         6   \\\n",
       "0  -0.041336 -0.227443  0.119893 -0.046857 -0.012020  0.137773 -0.029919   \n",
       "1  -0.022283  0.083102  0.046350 -0.113702 -0.075868 -0.242005 -0.054217   \n",
       "2   0.009742  0.193705  0.074191  0.073913  0.089026  0.034624 -0.020357   \n",
       "3   0.032126 -0.130471  0.196522  0.015216  0.049138 -0.334236  0.013066   \n",
       "4  -0.012882 -0.124439  0.006547 -0.131933  0.005751  0.041543 -0.015222   \n",
       "5  -0.013472 -0.241565  0.158902  0.032478 -0.012686  0.125641 -0.043531   \n",
       "6  -0.053797  0.036327 -0.222863  0.191298  0.290722  0.084711  0.038138   \n",
       "7   0.010368 -0.086584 -0.130640 -0.009786  0.010093 -0.240518  0.015771   \n",
       "8  -0.053197  0.198387 -0.045240  0.195434  0.124946  0.053070  0.003968   \n",
       "9  -0.026900 -0.504723 -0.496068  0.199796  0.207195  0.257057 -0.030845   \n",
       "10 -0.028133 -0.011739  0.069326 -0.110380 -0.006994 -0.072064 -0.013399   \n",
       "\n",
       "          7         8         9         10        11  \n",
       "0   0.107001  0.180750 -0.267596  0.251330 -0.025339  \n",
       "1  -0.074251  0.099290  0.037872 -0.260147  0.132644  \n",
       "2   0.177521 -0.065197  0.104361  0.035795  0.069882  \n",
       "3  -0.191695  0.115714  0.349869 -0.178103  0.147313  \n",
       "4   0.119966  0.089005 -0.150508  0.035085  0.309851  \n",
       "5   0.112664  0.167584 -0.279606  0.251968  0.007164  \n",
       "6  -0.088933  0.115978  0.781209 -0.429693  0.224290  \n",
       "7  -0.026729 -0.310028  0.120929 -0.159796 -0.128273  \n",
       "8   0.006939 -0.018913 -0.019265  0.064820  0.072971  \n",
       "9   0.325352 -0.521516 -0.086211  0.275692 -0.721765  \n",
       "10 -0.282690  0.034512  0.105144 -0.315560 -0.007633  "
      ]
     },
     "execution_count": 36,
     "metadata": {},
     "output_type": "execute_result"
    }
   ],
   "source": [
    "w_l1"
   ]
  },
  {
   "cell_type": "code",
   "execution_count": 37,
   "metadata": {},
   "outputs": [
    {
     "data": {
      "text/html": [
       "<div>\n",
       "<style scoped>\n",
       "    .dataframe tbody tr th:only-of-type {\n",
       "        vertical-align: middle;\n",
       "    }\n",
       "\n",
       "    .dataframe tbody tr th {\n",
       "        vertical-align: top;\n",
       "    }\n",
       "\n",
       "    .dataframe thead th {\n",
       "        text-align: right;\n",
       "    }\n",
       "</style>\n",
       "<table border=\"1\" class=\"dataframe\">\n",
       "  <thead>\n",
       "    <tr style=\"text-align: right;\">\n",
       "      <th></th>\n",
       "      <th>0</th>\n",
       "    </tr>\n",
       "  </thead>\n",
       "  <tbody>\n",
       "    <tr>\n",
       "      <th>0</th>\n",
       "      <td>0.007462</td>\n",
       "    </tr>\n",
       "    <tr>\n",
       "      <th>1</th>\n",
       "      <td>-0.615846</td>\n",
       "    </tr>\n",
       "    <tr>\n",
       "      <th>2</th>\n",
       "      <td>-0.307706</td>\n",
       "    </tr>\n",
       "    <tr>\n",
       "      <th>3</th>\n",
       "      <td>0.251280</td>\n",
       "    </tr>\n",
       "    <tr>\n",
       "      <th>4</th>\n",
       "      <td>0.093881</td>\n",
       "    </tr>\n",
       "    <tr>\n",
       "      <th>5</th>\n",
       "      <td>0.318845</td>\n",
       "    </tr>\n",
       "    <tr>\n",
       "      <th>6</th>\n",
       "      <td>0.009915</td>\n",
       "    </tr>\n",
       "    <tr>\n",
       "      <th>7</th>\n",
       "      <td>0.617433</td>\n",
       "    </tr>\n",
       "    <tr>\n",
       "      <th>8</th>\n",
       "      <td>-0.377142</td>\n",
       "    </tr>\n",
       "    <tr>\n",
       "      <th>9</th>\n",
       "      <td>0.413156</td>\n",
       "    </tr>\n",
       "    <tr>\n",
       "      <th>10</th>\n",
       "      <td>0.718179</td>\n",
       "    </tr>\n",
       "    <tr>\n",
       "      <th>11</th>\n",
       "      <td>-0.591669</td>\n",
       "    </tr>\n",
       "  </tbody>\n",
       "</table>\n",
       "</div>"
      ],
      "text/plain": [
       "           0\n",
       "0   0.007462\n",
       "1  -0.615846\n",
       "2  -0.307706\n",
       "3   0.251280\n",
       "4   0.093881\n",
       "5   0.318845\n",
       "6   0.009915\n",
       "7   0.617433\n",
       "8  -0.377142\n",
       "9   0.413156\n",
       "10  0.718179\n",
       "11 -0.591669"
      ]
     },
     "execution_count": 37,
     "metadata": {},
     "output_type": "execute_result"
    }
   ],
   "source": [
    "w_l2"
   ]
  },
  {
   "cell_type": "code",
   "execution_count": 38,
   "metadata": {},
   "outputs": [],
   "source": [
    "import numpy as np"
   ]
  },
  {
   "cell_type": "markdown",
   "metadata": {},
   "source": [
    "# Garson Algorithm"
   ]
  },
  {
   "cell_type": "code",
   "execution_count": 39,
   "metadata": {},
   "outputs": [],
   "source": [
    "def garson(A, B):\n",
    "    \"\"\"\n",
    "    Computes Garson's algorithm\n",
    "    A = matrix of weights of input-hidden layer (rows=input & cols=hidden)\n",
    "    B = vector of weights of hidden-output layer\n",
    "    \"\"\"\n",
    "    B = np.diag(B)\n",
    "\n",
    "    # connection weight through the different hidden node\n",
    "    cw = np.dot(A, B)\n",
    "\n",
    "    # weight through node (axis=0 is column; sum per input feature)\n",
    "    cw_h = abs(cw).sum(axis=0)\n",
    "\n",
    "    # relative contribution of input neuron to outgoing signal of each hidden neuron\n",
    "    # sum to find relative contribution of input neuron\n",
    "    rc = np.divide(abs(cw), abs(cw_h))\n",
    "    rc = rc.sum(axis=1)\n",
    "\n",
    "    # normalize to 100% for relative importance\n",
    "    ri = rc / rc.sum()\n",
    "    return(ri)"
   ]
  },
  {
   "cell_type": "code",
   "execution_count": 40,
   "metadata": {},
   "outputs": [
    {
     "data": {
      "text/html": [
       "<div>\n",
       "<style scoped>\n",
       "    .dataframe tbody tr th:only-of-type {\n",
       "        vertical-align: middle;\n",
       "    }\n",
       "\n",
       "    .dataframe tbody tr th {\n",
       "        vertical-align: top;\n",
       "    }\n",
       "\n",
       "    .dataframe thead th {\n",
       "        text-align: right;\n",
       "    }\n",
       "</style>\n",
       "<table border=\"1\" class=\"dataframe\">\n",
       "  <thead>\n",
       "    <tr style=\"text-align: right;\">\n",
       "      <th></th>\n",
       "      <th>0</th>\n",
       "    </tr>\n",
       "  </thead>\n",
       "  <tbody>\n",
       "    <tr>\n",
       "      <th>0</th>\n",
       "      <td>0.083413</td>\n",
       "    </tr>\n",
       "    <tr>\n",
       "      <th>1</th>\n",
       "      <td>0.082447</td>\n",
       "    </tr>\n",
       "    <tr>\n",
       "      <th>2</th>\n",
       "      <td>0.058334</td>\n",
       "    </tr>\n",
       "    <tr>\n",
       "      <th>3</th>\n",
       "      <td>0.094044</td>\n",
       "    </tr>\n",
       "    <tr>\n",
       "      <th>4</th>\n",
       "      <td>0.058198</td>\n",
       "    </tr>\n",
       "  </tbody>\n",
       "</table>\n",
       "</div>"
      ],
      "text/plain": [
       "          0\n",
       "0  0.083413\n",
       "1  0.082447\n",
       "2  0.058334\n",
       "3  0.094044\n",
       "4  0.058198"
      ]
     },
     "execution_count": 40,
     "metadata": {},
     "output_type": "execute_result"
    }
   ],
   "source": [
    "# Run Garson's algorithm\n",
    "df = {}\n",
    "for i in range(w_l2.shape[1]):\n",
    "    df[i] = garson(w_l1, w_l2[i])\n",
    "\n",
    "# Reformat\n",
    "df = pd.DataFrame(df)\n",
    "df.head()"
   ]
  },
  {
   "cell_type": "code",
   "execution_count": 41,
   "metadata": {},
   "outputs": [
    {
     "data": {
      "text/plain": [
       "(11, 1)"
      ]
     },
     "execution_count": 41,
     "metadata": {},
     "output_type": "execute_result"
    }
   ],
   "source": [
    "df.shape"
   ]
  },
  {
   "cell_type": "code",
   "execution_count": 42,
   "metadata": {},
   "outputs": [],
   "source": [
    "import matplotlib.pyplot as plt\n",
    "import seaborn as sns"
   ]
  },
  {
   "cell_type": "code",
   "execution_count": 43,
   "metadata": {},
   "outputs": [
    {
     "data": {
      "text/plain": [
       "Text(0,0.5,'Relative importance')"
      ]
     },
     "execution_count": 43,
     "metadata": {},
     "output_type": "execute_result"
    },
    {
     "data": {
      "image/png": "[encoded data removed]",
      "text/plain": [
       "<matplotlib.figure.Figure at 0x1cdfc7ed358>"
      ]
     },
     "metadata": {},
     "output_type": "display_data"
    }
   ],
   "source": [
    "f, ax = plt.subplots(figsize=(25, 6))\n",
    "df.plot(kind=\"line\", ax=ax)\n",
    "plt.xlabel(\"Input feature\")\n",
    "plt.ylabel(\"Relative importance\")"
   ]
  },
  {
   "cell_type": "code",
   "execution_count": 44,
   "metadata": {},
   "outputs": [],
   "source": [
    "df_i=df[0]"
   ]
  },
  {
   "cell_type": "code",
   "execution_count": 45,
   "metadata": {},
   "outputs": [
    {
     "data": {
      "text/plain": [
       "0     0.083413\n",
       "1     0.082447\n",
       "2     0.058334\n",
       "3     0.094044\n",
       "4     0.058198\n",
       "5     0.080252\n",
       "6     0.150387\n",
       "7     0.065027\n",
       "8     0.063866\n",
       "9     0.202498\n",
       "10    0.061534\n",
       "Name: 0, dtype: float32"
      ]
     },
     "execution_count": 45,
     "metadata": {},
     "output_type": "execute_result"
    }
   ],
   "source": [
    "df_i"
   ]
  },
  {
   "cell_type": "code",
   "execution_count": 46,
   "metadata": {},
   "outputs": [],
   "source": [
    "## Index of top 10 feature & their relative imo\n",
    "df_ri = pd.DataFrame(df_i.values, columns=[\"relative_importance\"]).sort_values(by=\"relative_importance\", ascending=False)"
   ]
  },
  {
   "cell_type": "code",
   "execution_count": 47,
   "metadata": {},
   "outputs": [
    {
     "data": {
      "text/html": [
       "<div>\n",
       "<style scoped>\n",
       "    .dataframe tbody tr th:only-of-type {\n",
       "        vertical-align: middle;\n",
       "    }\n",
       "\n",
       "    .dataframe tbody tr th {\n",
       "        vertical-align: top;\n",
       "    }\n",
       "\n",
       "    .dataframe thead th {\n",
       "        text-align: right;\n",
       "    }\n",
       "</style>\n",
       "<table border=\"1\" class=\"dataframe\">\n",
       "  <thead>\n",
       "    <tr style=\"text-align: right;\">\n",
       "      <th></th>\n",
       "      <th>relative_importance</th>\n",
       "    </tr>\n",
       "  </thead>\n",
       "  <tbody>\n",
       "    <tr>\n",
       "      <th>9</th>\n",
       "      <td>0.202498</td>\n",
       "    </tr>\n",
       "    <tr>\n",
       "      <th>6</th>\n",
       "      <td>0.150387</td>\n",
       "    </tr>\n",
       "    <tr>\n",
       "      <th>3</th>\n",
       "      <td>0.094044</td>\n",
       "    </tr>\n",
       "    <tr>\n",
       "      <th>0</th>\n",
       "      <td>0.083413</td>\n",
       "    </tr>\n",
       "    <tr>\n",
       "      <th>1</th>\n",
       "      <td>0.082447</td>\n",
       "    </tr>\n",
       "    <tr>\n",
       "      <th>5</th>\n",
       "      <td>0.080252</td>\n",
       "    </tr>\n",
       "    <tr>\n",
       "      <th>7</th>\n",
       "      <td>0.065027</td>\n",
       "    </tr>\n",
       "    <tr>\n",
       "      <th>8</th>\n",
       "      <td>0.063866</td>\n",
       "    </tr>\n",
       "    <tr>\n",
       "      <th>10</th>\n",
       "      <td>0.061534</td>\n",
       "    </tr>\n",
       "    <tr>\n",
       "      <th>2</th>\n",
       "      <td>0.058334</td>\n",
       "    </tr>\n",
       "    <tr>\n",
       "      <th>4</th>\n",
       "      <td>0.058198</td>\n",
       "    </tr>\n",
       "  </tbody>\n",
       "</table>\n",
       "</div>"
      ],
      "text/plain": [
       "    relative_importance\n",
       "9              0.202498\n",
       "6              0.150387\n",
       "3              0.094044\n",
       "0              0.083413\n",
       "1              0.082447\n",
       "5              0.080252\n",
       "7              0.065027\n",
       "8              0.063866\n",
       "10             0.061534\n",
       "2              0.058334\n",
       "4              0.058198"
      ]
     },
     "execution_count": 47,
     "metadata": {},
     "output_type": "execute_result"
    }
   ],
   "source": [
    "df_ri"
   ]
  },
  {
   "cell_type": "markdown",
   "metadata": {},
   "source": [
    "# Connection Weight"
   ]
  },
  {
   "cell_type": "code",
   "execution_count": 49,
   "metadata": {},
   "outputs": [],
   "source": [
    "def connection_weights(A, B):\n",
    "    \"\"\"\n",
    "    Computes Connection weights algorithm\n",
    "    A = matrix of weights of input-hidden layer (rows=input & cols=hidden)\n",
    "    B = matrix of weights of hidden-output layer (rows=hidden & cols=output)\n",
    "    \"\"\"    \n",
    "    cw = np.dot(A, B)\n",
    "\n",
    "    # normalize to 100% for relative importance\n",
    "    ri = cw / cw.sum()\n",
    "    return(ri)"
   ]
  },
  {
   "cell_type": "code",
   "execution_count": 50,
   "metadata": {},
   "outputs": [
    {
     "data": {
      "text/html": [
       "<div>\n",
       "<style scoped>\n",
       "    .dataframe tbody tr th:only-of-type {\n",
       "        vertical-align: middle;\n",
       "    }\n",
       "\n",
       "    .dataframe tbody tr th {\n",
       "        vertical-align: top;\n",
       "    }\n",
       "\n",
       "    .dataframe thead th {\n",
       "        text-align: right;\n",
       "    }\n",
       "</style>\n",
       "<table border=\"1\" class=\"dataframe\">\n",
       "  <thead>\n",
       "    <tr style=\"text-align: right;\">\n",
       "      <th></th>\n",
       "      <th>0</th>\n",
       "    </tr>\n",
       "  </thead>\n",
       "  <tbody>\n",
       "    <tr>\n",
       "      <th>0</th>\n",
       "      <td>0.290692</td>\n",
       "    </tr>\n",
       "    <tr>\n",
       "      <th>1</th>\n",
       "      <td>-0.687623</td>\n",
       "    </tr>\n",
       "    <tr>\n",
       "      <th>2</th>\n",
       "      <td>0.077087</td>\n",
       "    </tr>\n",
       "    <tr>\n",
       "      <th>3</th>\n",
       "      <td>-0.416911</td>\n",
       "    </tr>\n",
       "    <tr>\n",
       "      <th>4</th>\n",
       "      <td>-0.167629</td>\n",
       "    </tr>\n",
       "  </tbody>\n",
       "</table>\n",
       "</div>"
      ],
      "text/plain": [
       "          0\n",
       "0  0.290692\n",
       "1 -0.687623\n",
       "2  0.077087\n",
       "3 -0.416911\n",
       "4 -0.167629"
      ]
     },
     "execution_count": 50,
     "metadata": {},
     "output_type": "execute_result"
    }
   ],
   "source": [
    "df2 = connection_weights(w_l1, w_l2)\n",
    "df2 = pd.DataFrame(df2)\n",
    "df2.head()"
   ]
  },
  {
   "cell_type": "code",
   "execution_count": 51,
   "metadata": {},
   "outputs": [
    {
     "data": {
      "text/plain": [
       "Text(0,0.5,'Relative importance')"
      ]
     },
     "execution_count": 51,
     "metadata": {},
     "output_type": "execute_result"
    },
    {
     "data": {
      "image/png": "[encoded data removed]",
      "text/plain": [
       "<matplotlib.figure.Figure at 0x1cdfc7ed320>"
      ]
     },
     "metadata": {},
     "output_type": "display_data"
    }
   ],
   "source": [
    "f, ax = plt.subplots(figsize=(25, 6))\n",
    "df2.plot(kind=\"line\", ax=ax)\n",
    "plt.xlabel(\"Input feature\")\n",
    "plt.ylabel(\"Relative importance\")"
   ]
  },
  {
   "cell_type": "code",
   "execution_count": 53,
   "metadata": {},
   "outputs": [
    {
     "data": {
      "text/plain": [
       "0     0.290692\n",
       "1    -0.687623\n",
       "2     0.077087\n",
       "3    -0.416911\n",
       "4    -0.167629\n",
       "5     0.287331\n",
       "6    -0.092190\n",
       "7     0.170674\n",
       "8    -0.032259\n",
       "9     2.151118\n",
       "10   -0.580291\n",
       "Name: 0, dtype: float32"
      ]
     },
     "execution_count": 53,
     "metadata": {},
     "output_type": "execute_result"
    }
   ],
   "source": [
    "df_i2=df2[0]\n",
    "df_i2"
   ]
  },
  {
   "cell_type": "code",
   "execution_count": 55,
   "metadata": {},
   "outputs": [],
   "source": [
    "## Index of top 10 feature & their relative imo\n",
    "df_ri2 = pd.DataFrame(df_i2.values, columns=[\"relative_importance\"]).sort_values(by=\"relative_importance\", ascending=False)"
   ]
  },
  {
   "cell_type": "code",
   "execution_count": 56,
   "metadata": {},
   "outputs": [
    {
     "data": {
      "text/html": [
       "<div>\n",
       "<style scoped>\n",
       "    .dataframe tbody tr th:only-of-type {\n",
       "        vertical-align: middle;\n",
       "    }\n",
       "\n",
       "    .dataframe tbody tr th {\n",
       "        vertical-align: top;\n",
       "    }\n",
       "\n",
       "    .dataframe thead th {\n",
       "        text-align: right;\n",
       "    }\n",
       "</style>\n",
       "<table border=\"1\" class=\"dataframe\">\n",
       "  <thead>\n",
       "    <tr style=\"text-align: right;\">\n",
       "      <th></th>\n",
       "      <th>relative_importance</th>\n",
       "    </tr>\n",
       "  </thead>\n",
       "  <tbody>\n",
       "    <tr>\n",
       "      <th>9</th>\n",
       "      <td>2.151118</td>\n",
       "    </tr>\n",
       "    <tr>\n",
       "      <th>0</th>\n",
       "      <td>0.290692</td>\n",
       "    </tr>\n",
       "    <tr>\n",
       "      <th>5</th>\n",
       "      <td>0.287331</td>\n",
       "    </tr>\n",
       "    <tr>\n",
       "      <th>7</th>\n",
       "      <td>0.170674</td>\n",
       "    </tr>\n",
       "    <tr>\n",
       "      <th>2</th>\n",
       "      <td>0.077087</td>\n",
       "    </tr>\n",
       "    <tr>\n",
       "      <th>8</th>\n",
       "      <td>-0.032259</td>\n",
       "    </tr>\n",
       "    <tr>\n",
       "      <th>6</th>\n",
       "      <td>-0.092190</td>\n",
       "    </tr>\n",
       "    <tr>\n",
       "      <th>4</th>\n",
       "      <td>-0.167629</td>\n",
       "    </tr>\n",
       "    <tr>\n",
       "      <th>3</th>\n",
       "      <td>-0.416911</td>\n",
       "    </tr>\n",
       "    <tr>\n",
       "      <th>10</th>\n",
       "      <td>-0.580291</td>\n",
       "    </tr>\n",
       "    <tr>\n",
       "      <th>1</th>\n",
       "      <td>-0.687623</td>\n",
       "    </tr>\n",
       "  </tbody>\n",
       "</table>\n",
       "</div>"
      ],
      "text/plain": [
       "    relative_importance\n",
       "9              2.151118\n",
       "0              0.290692\n",
       "5              0.287331\n",
       "7              0.170674\n",
       "2              0.077087\n",
       "8             -0.032259\n",
       "6             -0.092190\n",
       "4             -0.167629\n",
       "3             -0.416911\n",
       "10            -0.580291\n",
       "1             -0.687623"
      ]
     },
     "execution_count": 56,
     "metadata": {},
     "output_type": "execute_result"
    }
   ],
   "source": [
    "df_ri2"
   ]
  },
  {
   "cell_type": "code",
   "execution_count": 57,
   "metadata": {},
   "outputs": [
    {
     "data": {
      "text/html": [
       "<div>\n",
       "<style scoped>\n",
       "    .dataframe tbody tr th:only-of-type {\n",
       "        vertical-align: middle;\n",
       "    }\n",
       "\n",
       "    .dataframe tbody tr th {\n",
       "        vertical-align: top;\n",
       "    }\n",
       "\n",
       "    .dataframe thead th {\n",
       "        text-align: right;\n",
       "    }\n",
       "</style>\n",
       "<table border=\"1\" class=\"dataframe\">\n",
       "  <thead>\n",
       "    <tr style=\"text-align: right;\">\n",
       "      <th></th>\n",
       "      <th>relative_importance</th>\n",
       "    </tr>\n",
       "  </thead>\n",
       "  <tbody>\n",
       "    <tr>\n",
       "      <th>9</th>\n",
       "      <td>0.202498</td>\n",
       "    </tr>\n",
       "    <tr>\n",
       "      <th>6</th>\n",
       "      <td>0.150387</td>\n",
       "    </tr>\n",
       "    <tr>\n",
       "      <th>3</th>\n",
       "      <td>0.094044</td>\n",
       "    </tr>\n",
       "    <tr>\n",
       "      <th>0</th>\n",
       "      <td>0.083413</td>\n",
       "    </tr>\n",
       "    <tr>\n",
       "      <th>1</th>\n",
       "      <td>0.082447</td>\n",
       "    </tr>\n",
       "    <tr>\n",
       "      <th>5</th>\n",
       "      <td>0.080252</td>\n",
       "    </tr>\n",
       "    <tr>\n",
       "      <th>7</th>\n",
       "      <td>0.065027</td>\n",
       "    </tr>\n",
       "    <tr>\n",
       "      <th>8</th>\n",
       "      <td>0.063866</td>\n",
       "    </tr>\n",
       "    <tr>\n",
       "      <th>10</th>\n",
       "      <td>0.061534</td>\n",
       "    </tr>\n",
       "    <tr>\n",
       "      <th>2</th>\n",
       "      <td>0.058334</td>\n",
       "    </tr>\n",
       "    <tr>\n",
       "      <th>4</th>\n",
       "      <td>0.058198</td>\n",
       "    </tr>\n",
       "  </tbody>\n",
       "</table>\n",
       "</div>"
      ],
      "text/plain": [
       "    relative_importance\n",
       "9              0.202498\n",
       "6              0.150387\n",
       "3              0.094044\n",
       "0              0.083413\n",
       "1              0.082447\n",
       "5              0.080252\n",
       "7              0.065027\n",
       "8              0.063866\n",
       "10             0.061534\n",
       "2              0.058334\n",
       "4              0.058198"
      ]
     },
     "execution_count": 57,
     "metadata": {},
     "output_type": "execute_result"
    }
   ],
   "source": [
    "df_ri"
   ]
  }
 ],
 "metadata": {
  "kernelspec": {
   "display_name": "Python 3",
   "language": "python",
   "name": "python3"
  },
  "language_info": {
   "codemirror_mode": {
    "name": "ipython",
    "version": 3
   },
   "file_extension": ".py",
   "mimetype": "text/x-python",
   "name": "python",
   "nbconvert_exporter": "python",
   "pygments_lexer": "ipython3",
   "version": "3.6.4"
  }
 },
 "nbformat": 4,
 "nbformat_minor": 2
}
